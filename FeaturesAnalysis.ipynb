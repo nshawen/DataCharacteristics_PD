{
 "cells": [
  {
   "cell_type": "code",
   "execution_count": 10,
   "metadata": {},
   "outputs": [],
   "source": [
    "import os\n",
    "import platform\n",
    "import numpy as np\n",
    "import pandas as pd\n",
    "import seaborn as sns\n",
    "import matplotlib.pyplot as plt\n",
    "import datetime as dt\n",
    "import time\n",
    "import math\n",
    "import pathlib\n",
    "import pickle\n",
    "import sys\n",
    "\n",
    "from itertools import combinations\n",
    "from scipy.stats import skew, kurtosis, wilcoxon\n",
    "from scipy.signal import butter, welch, filtfilt, resample\n",
    "from scipy import stats, interp\n",
    "from scipy.stats import ttest_rel\n",
    "\n",
    "from sklearn import metrics, neighbors, linear_model, preprocessing, svm\n",
    "from sklearn.metrics import confusion_matrix, auc, f1_score, roc_curve, roc_auc_score, precision_score, recall_score, precision_recall_curve\n",
    "from sklearn.neighbors import KNeighborsClassifier\n",
    "from sklearn.linear_model import ElasticNetCV, LogisticRegression\n",
    "from sklearn.preprocessing import LabelEncoder, StandardScaler\n",
    "from sklearn.model_selection import train_test_split, LeaveOneGroupOut, KFold, StratifiedKFold,cross_val_score,GridSearchCV\n",
    "from sklearn.ensemble import RandomForestClassifier, RandomForestRegressor\n",
    "from sklearn.svm import SVC\n",
    "from sklearn.preprocessing import label_binarize\n",
    "\n",
    "from PreprocessFcns import *\n",
    "\n",
    "from mpl_toolkits.mplot3d import Axes3D\n",
    "%matplotlib inline\n",
    "\n",
    "sns.set_context('poster',font_scale=1)"
   ]
  },
  {
   "cell_type": "code",
   "execution_count": 12,
   "metadata": {},
   "outputs": [],
   "source": [
    "def LOSOCV(Data,X,y,groups,models,LOin=0):\n",
    "\n",
    "    subj = LeaveOneGroupOut() \n",
    "    results = pd.DataFrame(data=None,columns=['model','f1','auprc','auroc'])\n",
    "    groupres = {} #results on each group for each model\n",
    "\n",
    "\n",
    "    #train multiple classifiers\n",
    "    for m in models:\n",
    "        acc_all=[]; acc_train=[] \n",
    "        f1_test_all=[]; prec_all=[]; rec_all=[]; spec_all=[]; auprc_all=[]; auroc_train_all=[]; \n",
    "        auroc_all=[]; fpr_all=[]; tpr_all=[]; fi_all=[]\n",
    "\n",
    "        clf = m[0]; model_name = m[1]            \n",
    "        print('Training %s'%model_name)\n",
    "        s = 0\n",
    "        #LOSO CV for current classifier\n",
    "        for train_index, test_index in subj.split(X, y, groups):\n",
    "        #leave one in:\n",
    "            if LOin:\n",
    "                tridx = train_index.copy()\n",
    "                train_index = test_index.copy()\n",
    "                test_index = tridx\n",
    "            Xtr, Xte = X[train_index], X[test_index]\n",
    "            ytr, yte = y[train_index], y[test_index]\n",
    "            if len(np.unique(ytr))<2: #skip if no positive or negative examples are available for training\n",
    "                #print('only 1 class available in train data - skipping')\n",
    "                continue\n",
    "            clf.fit(Xtr,ytr)\n",
    "            ypred = clf.predict(Xte)\n",
    "            yscore = clf.predict_proba(Xte)\n",
    "            yscore = yscore[:,1]\n",
    "            \n",
    "            #accuracy on train set\n",
    "            ypred_train = clf.predict(Xtr)\n",
    "            acc_train.append(sum(ypred_train==ytr)/len(ytr))\n",
    "            auroc_train = roc_auc_score(ytr,clf.predict_proba(Xtr)[:,1])\n",
    "            \n",
    "            #f1-score, prec, recall, specificity, auprc, auroc\n",
    "            f1_test_all.append(f1_score(yte,ypred))\n",
    "            precision, recall, _ = precision_recall_curve(yte,yscore)\n",
    "            auprc = auc(recall,precision)\n",
    "            if len(np.unique(yte))>1:\n",
    "                auroc = roc_auc_score(yte,yscore)\n",
    "            else:\n",
    "                #print('only 1 class in test data - cannot compute roc curve')\n",
    "                auroc = np.nan\n",
    "            spec = sum((ypred==0) & (yte==0))/sum(yte==0)\n",
    "\n",
    "\n",
    "            prec_all.append(precision_score(yte,ypred))\n",
    "            rec_all.append(recall_score(yte,ypred))\n",
    "            auprc_all.append(auprc)\n",
    "            auroc_all.append(auroc)\n",
    "            auroc_train_all.append(auroc_train)\n",
    "            spec_all.append(spec)\n",
    "\n",
    "            fpr=np.linspace(0,1,101); tpr=[]\n",
    "\n",
    "            if len(np.unique(yte))>1:                \n",
    "                nscores = np.sort(np.column_stack((yscore[yte==0],yte[yte==0])),axis=0)\n",
    "                neg_counts = sum(yte==0)\n",
    "                for f in fpr:\n",
    "                    ind = neg_counts-int(neg_counts*f)-1\n",
    "                    t = (nscores[ind])[0]\n",
    "                    if f==1:\n",
    "                        t = 0\n",
    "                    tpr_t = sum(yscore[yte==1]>t) / sum(yte==1)\n",
    "                    tpr.append(tpr_t) \n",
    "\n",
    "            fpr = np.asarray(fpr); tpr = np.asarray(tpr)\n",
    "            fpr_all.append(fpr); tpr_all.append(tpr)\n",
    "            \n",
    "            #store feature importance\n",
    "            if model_name != 'SVM':\n",
    "                fi_all.append(clf.feature_importances_)\n",
    "            \n",
    "            #print('\\nSubj/Visit %d,prec=%.3f,rec=%.3f,Spec=%.3f,auroc_train=%.3f,auroc=%.3f'%(s,precision_score(yte,ypred),recall_score(yte,ypred),spec,auroc_train,auroc))\n",
    "            s+=1\n",
    "\n",
    "        #print('f1_test=%.3f+/-%.3f, prec=%.3f+/-%.3f, rec=%.3f+/-%.3f, auprc=%.3f+/-%.3f, auroc=%.3f+/-%.3f'%(\n",
    "        #np.nanmean(f1_test_all),np.nanstd(f1_test_all),\n",
    "        #np.nanmean(prec_all),np.nanstd(prec_all), np.nanmean(rec_all),np.nanstd(rec_all),\n",
    "        #np.nanmean(auprc_all),np.nanstd(auprc_all), np.nanmean(auroc_all),np.nanstd(auroc_all)))\n",
    "        \n",
    "        #group results for each model\n",
    "        groupres[model_name] = {'f1':f1_test_all, 'auprc':auprc_all, 'auroc':auroc_all, 'tpr':tpr_all, 'fpr':fpr_all, \n",
    "                                'rec':rec_all, 'spec':spec_all, 'fi':fi_all}\n",
    "        \n",
    "        #mean across groups for each model\n",
    "        r = pd.DataFrame({'model':model_name, 'f1':np.nanmean(f1_test_all), 'auprc':np.nanmean(auprc_all), \n",
    "                          'auroc':np.nanmean(auroc_all)},index=[0])\n",
    "        results = pd.concat((results,r))\n",
    "        \n",
    "    return results,groupres \n",
    "\n",
    "\n",
    "\n",
    "\n",
    "def LOSOMultiClass(Data,X,y,groups,model,AUC = True,LOin=0):\n",
    "\n",
    "    subj = LeaveOneGroupOut() \n",
    "    results = pd.DataFrame(data=None,columns=['model','RMS'])\n",
    "    groupres = {} #results on each group for each model\n",
    "    \n",
    "    acc_all=[]; acc_train=[] \n",
    "    f1_test_all=[]; prec_all=[]; rec_all=[]; spec_all=[]; auprc_all=[]; auroc_train_all=[]; \n",
    "    auroc_all=[]; fpr_all=[]; tpr_all=[]; fi_all=[]\n",
    "    RMS_all = []\n",
    "    \n",
    "    clf = model[0][0]; model_name = model[0][1]          \n",
    "    print('Training %s'%model_name)\n",
    "    s = 0\n",
    "    #LOSO CV for current classifier\n",
    "    for train_index, test_index in subj.split(X, y, groups):\n",
    "    #leave one in:\n",
    "        if LOin:\n",
    "            tridx = train_index.copy()\n",
    "            train_index = test_index.copy()\n",
    "            test_index = tridx\n",
    "        Xtr, Xte = X[train_index], X[test_index]\n",
    "        ytr, yte = y[train_index], y[test_index]\n",
    "        if len(np.unique(ytr))<2: #skip if no positive or negative examples are available for training\n",
    "            continue\n",
    "        clf.fit(Xtr,ytr)\n",
    "        ypred = clf.predict(Xte)\n",
    "        \n",
    "        \n",
    "        \n",
    "        #Round predicted values for Regression model\n",
    "#         if model_name == 'Random Forest Regressor':\n",
    "#             for ypr in ypred:\n",
    "#                 if ypr < 0:\n",
    "#                     ypr = 0\n",
    "#                 elif ypr > 4:\n",
    "#                     ypr = 4\n",
    "#                 else:\n",
    "#                     ypr = round(ypr)\n",
    "        \n",
    "        if AUC:\n",
    "            yscore = clf.predict_proba(Xte)\n",
    "            if len(np.unique(yte))>1:\n",
    "                yte_bin = label_binarize(yte, clf.classes_)\n",
    "                for c in list(range(yte_bin.shape[1]))[::-1]:\n",
    "                    if not any(yte_bin[:,c]):\n",
    "                        yte_bin = np.delete(yte_bin,[c],axis=1)\n",
    "                        yscore = np.delete(yscore,[c],axis=1)\n",
    "                \n",
    "                auroc = roc_auc_score(yte_bin,yscore,average='weighted')\n",
    "                fpr_mean = np.array(range(0,101))/100\n",
    "                tprs = []\n",
    "                for i in range(yte_bin.shape[1]):\n",
    "                    yt = yte_bin[:,i]\n",
    "                    ys = yscore[:,i]\n",
    "                    fpr, tpr, thresh = roc_curve(yt,ys)\n",
    "                    tpr = interp(fpr_mean,fpr,tpr)*np.mean(yt)\n",
    "                    tprs.append(tpr)\n",
    "\n",
    "                tpr = sum(tprs)\n",
    "                fpr = fpr_mean\n",
    "                \n",
    "            else:\n",
    "                #print('only 1 class in test data - cannot compute roc curve')\n",
    "                auroc = np.nan\n",
    "                fpr = np.array([])\n",
    "                tpr = np.array([])\n",
    "\n",
    "            tpr_all.append(tpr)\n",
    "            fpr_all.append(fpr)\n",
    "            auroc_all.append(auroc)\n",
    "                \n",
    "            RMS_all.append(auroc)\n",
    "            \n",
    "        else:\n",
    "\n",
    "            RMS=0\n",
    "            for yp,yt in zip(ypred,y):\n",
    "                RMS += ((yp - yt)**2)\n",
    "            RMS = RMS / len(y)\n",
    "            RMS = math.sqrt(RMS)\n",
    "\n",
    "            RMS_all.append(RMS)\n",
    "\n",
    "        groupres[model_name] = {'RMS':RMS_all, 'tpr': tpr_all, 'fpr':fpr_all}\n",
    "\n",
    "        r = pd.DataFrame({'model':model_name, 'RMS':np.nanmean(RMS_all)},index=[0])\n",
    "        results = pd.concat((results,r))\n",
    "        \n",
    "    return results, groupres"
   ]
  },
  {
   "cell_type": "code",
   "execution_count": 13,
   "metadata": {},
   "outputs": [],
   "source": [
    "info = ['Subject','Visit','Task','Bradykinesia','Tremor']\n",
    "\n",
    "featdict_full = {'freq':['Dom_freqX','Pdom_relX','PSD_meanX','PSD_stdX','PSD_skewX','PSD_kurX',\n",
    "                        'Dom_freqY','Pdom_relY','PSD_meanY','PSD_stdY','PSD_skewY','PSD_kurY',\n",
    "                        'Dom_freqZ','Pdom_relZ','PSD_meanZ','PSD_stdZ','PSD_skewZ','PSD_kurZ',\n",
    "                        'Dom_freq_mag','Pdom_rel_mag','PSD_mean_mag','PSD_std_mag','PSD_skew_mag','PSD_kur_mag'],\n",
    "            'time':['RMSX','RMSY','RMSZ','rangeX','rangeY','rangeZ','meanX','meanY','meanZ','varX','varY','varZ',\n",
    "                    'skewX','skewY','skewZ','kurtX','kurtY','kurtZ',\n",
    "                   'RMS_mag','range_mag','mean_mag','var_mag','skew_mag','kurt_mag'],\n",
    "            'entropy':['Sen_X', 'Sen_Y', 'Sen_Z', 'Sen_mag'],\n",
    "            'corr':['xcorr_peakXZ','xcorr_peakYZ','xcor_peakXY','xcorr_lagXZ','xcorr_lagYZ','xcorr_lagXY'],\n",
    "            'jerk':['jerk_meanX','jerk_stdX','jerk_skewX','jerk_kurX',\n",
    "                    'jerk_meanY','jerk_stdY','jerk_skewY','jerk_kurY',\n",
    "                    'jerk_meanZ','jerk_stdZ','jerk_skewZ','jerk_kurZ',\n",
    "                    'jerk_mean_mag','jerk_std_mag','jerk_skew_mag','jerk_kur_mag']}\n",
    "\n",
    "featdict_tri = {'freq':['Dom_freqX','Pdom_relX','PSD_meanX','PSD_stdX','PSD_skewX','PSD_kurX',\n",
    "                        'Dom_freqY','Pdom_relY','PSD_meanY','PSD_stdY','PSD_skewY','PSD_kurY',\n",
    "                        'Dom_freqZ','Pdom_relZ','PSD_meanZ','PSD_stdZ','PSD_skewZ','PSD_kurZ'],\n",
    "            'time':['RMSX','RMSY','RMSZ','rangeX','rangeY','rangeZ','meanX','meanY','meanZ','varX','varY','varZ','skewX','skewY','skewZ','kurtX','kurtY','kurtZ'],\n",
    "            'entropy':['Sen_X', 'Sen_Y', 'Sen_Z'],\n",
    "            'corr':['xcorr_peakXZ','xcorr_peakYZ','xcor_peakXY','xcorr_lagXZ','xcorr_lagYZ','xcorr_lagXY'],\n",
    "            'jerk':['jerk_meanX','jerk_stdX','jerk_skewX','jerk_kurX',\n",
    "                    'jerk_meanY','jerk_stdY','jerk_skewY','jerk_kurY',\n",
    "                    'jerk_meanZ','jerk_stdZ','jerk_skewZ','jerk_kurZ']}\n",
    "\n",
    "featdict_mag = {'freq':['Dom_freq_mag','Pdom_rel_mag','PSD_mean_mag','PSD_std_mag','PSD_skew_mag','PSD_kur_mag'],\n",
    "            'time':['RMS_mag','range_mag','mean_mag','var_mag','skew_mag','kurt_mag'],\n",
    "            'entropy':['Sen_mag'],\n",
    "            'corr':['xcorr_peakXZ','xcorr_peakYZ','xcor_peakXY','xcorr_lagXZ','xcorr_lagYZ','xcorr_lagXY'],\n",
    "            'jerk':['jerk_mean_mag','jerk_std_mag','jerk_skew_mag','jerk_kur_mag']}\n",
    "\n",
    "#Accel+Gyro file has features labeled with 'acc' and 'gyr' \n",
    "def fix_feature_names(features):\n",
    "    feats = features.copy()\n",
    "    if feats[0][-3:] != 'acc':\n",
    "        featlen = len(feats)\n",
    "        for f in range(featlen):\n",
    "            feats.append(feats[f] + ' gyr')\n",
    "        for f in range(featlen):\n",
    "            feats[f] = feats[f] + ' acc'\n",
    "    return feats"
   ]
  },
  {
   "cell_type": "code",
   "execution_count": 15,
   "metadata": {},
   "outputs": [],
   "source": [
    "datadict = {'watch':{'Tremor':{},'Bradykinesia':{}},'sensor':{'Tremor':{},'Bradykinesia':{}}}\n",
    "datadict['watch']['Tremor']['Binary'] = pd.read_csv('Watch Data 30Hz.csv',index_col=0)\n",
    "datadict['watch']['Bradykinesia']['Binary'] = pd.read_csv('Watch Data 30Hz.csv',index_col=0)\n",
    "datadict['sensor']['Tremor']['Binary'] = pd.read_csv('Accel Data 30Hz.csv',index_col=0)\n",
    "datadict['sensor']['Bradykinesia']['Binary'] = pd.read_csv('Accel+Gyro Data 30Hz.csv',index_col=0)\n",
    "datadict['watch']['Tremor']['Multiclass'] = pd.read_csv('Watch Data 30Hz.csv',index_col=0)\n",
    "datadict['watch']['Bradykinesia']['Multiclass'] = pd.read_csv('Watch Data 30Hz.csv',index_col=0)\n",
    "datadict['sensor']['Tremor']['Multiclass'] = pd.read_csv('Accel Data 30Hz.csv',index_col=0)\n",
    "datadict['sensor']['Bradykinesia']['Multiclass'] = pd.read_csv('Accel+Gyro Data 30Hz.csv',index_col=0)"
   ]
  },
  {
   "cell_type": "code",
   "execution_count": 17,
   "metadata": {
    "scrolled": true
   },
   "outputs": [
    {
     "name": "stdout",
     "output_type": "stream",
     "text": [
      "watch, Tremor\n",
      "Combination 1 of 31\n",
      "Training Random Forest\n"
     ]
    },
    {
     "name": "stderr",
     "output_type": "stream",
     "text": [
      "C:\\ProgramData\\Anaconda3\\lib\\site-packages\\sklearn\\metrics\\classification.py:1439: UndefinedMetricWarning: F-score is ill-defined and being set to 0.0 due to no true samples.\n",
      "  'recall', 'true', average, warn_for)\n",
      "C:\\ProgramData\\Anaconda3\\lib\\site-packages\\sklearn\\metrics\\ranking.py:528: RuntimeWarning: invalid value encountered in true_divide\n",
      "  recall = tps / tps[-1]\n",
      "C:\\ProgramData\\Anaconda3\\lib\\site-packages\\sklearn\\metrics\\ranking.py:113: RuntimeWarning: invalid value encountered in less\n",
      "  if np.any(dx < 0):\n",
      "C:\\ProgramData\\Anaconda3\\lib\\site-packages\\sklearn\\metrics\\classification.py:1439: UndefinedMetricWarning: Recall is ill-defined and being set to 0.0 due to no true samples.\n",
      "  'recall', 'true', average, warn_for)\n"
     ]
    },
    {
     "name": "stdout",
     "output_type": "stream",
     "text": [
      "Training Random Forest\n",
      "Combination 2 of 31\n",
      "Training Random Forest\n"
     ]
    },
    {
     "name": "stderr",
     "output_type": "stream",
     "text": [
      "C:\\ProgramData\\Anaconda3\\lib\\site-packages\\sklearn\\metrics\\classification.py:1439: UndefinedMetricWarning: F-score is ill-defined and being set to 0.0 due to no true samples.\n",
      "  'recall', 'true', average, warn_for)\n",
      "C:\\ProgramData\\Anaconda3\\lib\\site-packages\\sklearn\\metrics\\ranking.py:528: RuntimeWarning: invalid value encountered in true_divide\n",
      "  recall = tps / tps[-1]\n",
      "C:\\ProgramData\\Anaconda3\\lib\\site-packages\\sklearn\\metrics\\ranking.py:113: RuntimeWarning: invalid value encountered in less\n",
      "  if np.any(dx < 0):\n",
      "C:\\ProgramData\\Anaconda3\\lib\\site-packages\\sklearn\\metrics\\classification.py:1439: UndefinedMetricWarning: Recall is ill-defined and being set to 0.0 due to no true samples.\n",
      "  'recall', 'true', average, warn_for)\n"
     ]
    },
    {
     "name": "stdout",
     "output_type": "stream",
     "text": [
      "Training Random Forest\n",
      "Combination 3 of 31\n",
      "Training Random Forest\n"
     ]
    },
    {
     "name": "stderr",
     "output_type": "stream",
     "text": [
      "C:\\ProgramData\\Anaconda3\\lib\\site-packages\\sklearn\\metrics\\classification.py:1439: UndefinedMetricWarning: F-score is ill-defined and being set to 0.0 due to no true samples.\n",
      "  'recall', 'true', average, warn_for)\n",
      "C:\\ProgramData\\Anaconda3\\lib\\site-packages\\sklearn\\metrics\\ranking.py:528: RuntimeWarning: invalid value encountered in true_divide\n",
      "  recall = tps / tps[-1]\n",
      "C:\\ProgramData\\Anaconda3\\lib\\site-packages\\sklearn\\metrics\\ranking.py:113: RuntimeWarning: invalid value encountered in less\n",
      "  if np.any(dx < 0):\n",
      "C:\\ProgramData\\Anaconda3\\lib\\site-packages\\sklearn\\metrics\\classification.py:1439: UndefinedMetricWarning: Recall is ill-defined and being set to 0.0 due to no true samples.\n",
      "  'recall', 'true', average, warn_for)\n"
     ]
    },
    {
     "name": "stdout",
     "output_type": "stream",
     "text": [
      "Training Random Forest\n",
      "Combination 4 of 31\n",
      "Training Random Forest\n"
     ]
    },
    {
     "name": "stderr",
     "output_type": "stream",
     "text": [
      "C:\\ProgramData\\Anaconda3\\lib\\site-packages\\sklearn\\metrics\\classification.py:1439: UndefinedMetricWarning: F-score is ill-defined and being set to 0.0 due to no true samples.\n",
      "  'recall', 'true', average, warn_for)\n",
      "C:\\ProgramData\\Anaconda3\\lib\\site-packages\\sklearn\\metrics\\ranking.py:528: RuntimeWarning: invalid value encountered in true_divide\n",
      "  recall = tps / tps[-1]\n",
      "C:\\ProgramData\\Anaconda3\\lib\\site-packages\\sklearn\\metrics\\ranking.py:113: RuntimeWarning: invalid value encountered in less\n",
      "  if np.any(dx < 0):\n",
      "C:\\ProgramData\\Anaconda3\\lib\\site-packages\\sklearn\\metrics\\classification.py:1439: UndefinedMetricWarning: Recall is ill-defined and being set to 0.0 due to no true samples.\n",
      "  'recall', 'true', average, warn_for)\n"
     ]
    },
    {
     "name": "stdout",
     "output_type": "stream",
     "text": [
      "Training Random Forest\n",
      "Combination 5 of 31\n",
      "Training Random Forest\n"
     ]
    },
    {
     "name": "stderr",
     "output_type": "stream",
     "text": [
      "C:\\ProgramData\\Anaconda3\\lib\\site-packages\\sklearn\\metrics\\classification.py:1439: UndefinedMetricWarning: F-score is ill-defined and being set to 0.0 due to no true samples.\n",
      "  'recall', 'true', average, warn_for)\n",
      "C:\\ProgramData\\Anaconda3\\lib\\site-packages\\sklearn\\metrics\\ranking.py:528: RuntimeWarning: invalid value encountered in true_divide\n",
      "  recall = tps / tps[-1]\n",
      "C:\\ProgramData\\Anaconda3\\lib\\site-packages\\sklearn\\metrics\\ranking.py:113: RuntimeWarning: invalid value encountered in less\n",
      "  if np.any(dx < 0):\n",
      "C:\\ProgramData\\Anaconda3\\lib\\site-packages\\sklearn\\metrics\\classification.py:1439: UndefinedMetricWarning: Recall is ill-defined and being set to 0.0 due to no true samples.\n",
      "  'recall', 'true', average, warn_for)\n"
     ]
    },
    {
     "name": "stdout",
     "output_type": "stream",
     "text": [
      "Training Random Forest\n",
      "Combination 6 of 31\n",
      "Training Random Forest\n"
     ]
    },
    {
     "name": "stderr",
     "output_type": "stream",
     "text": [
      "C:\\ProgramData\\Anaconda3\\lib\\site-packages\\sklearn\\metrics\\classification.py:1439: UndefinedMetricWarning: F-score is ill-defined and being set to 0.0 due to no true samples.\n",
      "  'recall', 'true', average, warn_for)\n",
      "C:\\ProgramData\\Anaconda3\\lib\\site-packages\\sklearn\\metrics\\ranking.py:528: RuntimeWarning: invalid value encountered in true_divide\n",
      "  recall = tps / tps[-1]\n",
      "C:\\ProgramData\\Anaconda3\\lib\\site-packages\\sklearn\\metrics\\ranking.py:113: RuntimeWarning: invalid value encountered in less\n",
      "  if np.any(dx < 0):\n",
      "C:\\ProgramData\\Anaconda3\\lib\\site-packages\\sklearn\\metrics\\classification.py:1439: UndefinedMetricWarning: Recall is ill-defined and being set to 0.0 due to no true samples.\n",
      "  'recall', 'true', average, warn_for)\n"
     ]
    },
    {
     "name": "stdout",
     "output_type": "stream",
     "text": [
      "Training Random Forest\n",
      "Combination 7 of 31\n",
      "Training Random Forest\n"
     ]
    },
    {
     "name": "stderr",
     "output_type": "stream",
     "text": [
      "C:\\ProgramData\\Anaconda3\\lib\\site-packages\\sklearn\\metrics\\classification.py:1439: UndefinedMetricWarning: F-score is ill-defined and being set to 0.0 due to no true samples.\n",
      "  'recall', 'true', average, warn_for)\n",
      "C:\\ProgramData\\Anaconda3\\lib\\site-packages\\sklearn\\metrics\\ranking.py:528: RuntimeWarning: invalid value encountered in true_divide\n",
      "  recall = tps / tps[-1]\n",
      "C:\\ProgramData\\Anaconda3\\lib\\site-packages\\sklearn\\metrics\\ranking.py:113: RuntimeWarning: invalid value encountered in less\n",
      "  if np.any(dx < 0):\n",
      "C:\\ProgramData\\Anaconda3\\lib\\site-packages\\sklearn\\metrics\\classification.py:1439: UndefinedMetricWarning: Recall is ill-defined and being set to 0.0 due to no true samples.\n",
      "  'recall', 'true', average, warn_for)\n"
     ]
    },
    {
     "name": "stdout",
     "output_type": "stream",
     "text": [
      "Training Random Forest\n",
      "Combination 8 of 31\n",
      "Training Random Forest\n"
     ]
    },
    {
     "name": "stderr",
     "output_type": "stream",
     "text": [
      "C:\\ProgramData\\Anaconda3\\lib\\site-packages\\sklearn\\metrics\\classification.py:1439: UndefinedMetricWarning: F-score is ill-defined and being set to 0.0 due to no true samples.\n",
      "  'recall', 'true', average, warn_for)\n",
      "C:\\ProgramData\\Anaconda3\\lib\\site-packages\\sklearn\\metrics\\ranking.py:528: RuntimeWarning: invalid value encountered in true_divide\n",
      "  recall = tps / tps[-1]\n",
      "C:\\ProgramData\\Anaconda3\\lib\\site-packages\\sklearn\\metrics\\ranking.py:113: RuntimeWarning: invalid value encountered in less\n",
      "  if np.any(dx < 0):\n",
      "C:\\ProgramData\\Anaconda3\\lib\\site-packages\\sklearn\\metrics\\classification.py:1439: UndefinedMetricWarning: Recall is ill-defined and being set to 0.0 due to no true samples.\n",
      "  'recall', 'true', average, warn_for)\n"
     ]
    },
    {
     "name": "stdout",
     "output_type": "stream",
     "text": [
      "Training Random Forest\n",
      "Combination 9 of 31\n",
      "Training Random Forest\n"
     ]
    },
    {
     "name": "stderr",
     "output_type": "stream",
     "text": [
      "C:\\ProgramData\\Anaconda3\\lib\\site-packages\\sklearn\\metrics\\classification.py:1439: UndefinedMetricWarning: F-score is ill-defined and being set to 0.0 due to no true samples.\n",
      "  'recall', 'true', average, warn_for)\n",
      "C:\\ProgramData\\Anaconda3\\lib\\site-packages\\sklearn\\metrics\\ranking.py:528: RuntimeWarning: invalid value encountered in true_divide\n",
      "  recall = tps / tps[-1]\n",
      "C:\\ProgramData\\Anaconda3\\lib\\site-packages\\sklearn\\metrics\\ranking.py:113: RuntimeWarning: invalid value encountered in less\n",
      "  if np.any(dx < 0):\n",
      "C:\\ProgramData\\Anaconda3\\lib\\site-packages\\sklearn\\metrics\\classification.py:1439: UndefinedMetricWarning: Recall is ill-defined and being set to 0.0 due to no true samples.\n",
      "  'recall', 'true', average, warn_for)\n"
     ]
    },
    {
     "name": "stdout",
     "output_type": "stream",
     "text": [
      "Training Random Forest\n",
      "Combination 10 of 31\n",
      "Training Random Forest\n"
     ]
    },
    {
     "name": "stderr",
     "output_type": "stream",
     "text": [
      "C:\\ProgramData\\Anaconda3\\lib\\site-packages\\sklearn\\metrics\\classification.py:1439: UndefinedMetricWarning: F-score is ill-defined and being set to 0.0 due to no true samples.\n",
      "  'recall', 'true', average, warn_for)\n",
      "C:\\ProgramData\\Anaconda3\\lib\\site-packages\\sklearn\\metrics\\ranking.py:528: RuntimeWarning: invalid value encountered in true_divide\n",
      "  recall = tps / tps[-1]\n",
      "C:\\ProgramData\\Anaconda3\\lib\\site-packages\\sklearn\\metrics\\ranking.py:113: RuntimeWarning: invalid value encountered in less\n",
      "  if np.any(dx < 0):\n",
      "C:\\ProgramData\\Anaconda3\\lib\\site-packages\\sklearn\\metrics\\classification.py:1439: UndefinedMetricWarning: Recall is ill-defined and being set to 0.0 due to no true samples.\n",
      "  'recall', 'true', average, warn_for)\n"
     ]
    },
    {
     "name": "stdout",
     "output_type": "stream",
     "text": [
      "Training Random Forest\n",
      "Combination 11 of 31\n",
      "Training Random Forest\n"
     ]
    },
    {
     "name": "stderr",
     "output_type": "stream",
     "text": [
      "C:\\ProgramData\\Anaconda3\\lib\\site-packages\\sklearn\\metrics\\classification.py:1439: UndefinedMetricWarning: F-score is ill-defined and being set to 0.0 due to no true samples.\n",
      "  'recall', 'true', average, warn_for)\n",
      "C:\\ProgramData\\Anaconda3\\lib\\site-packages\\sklearn\\metrics\\ranking.py:528: RuntimeWarning: invalid value encountered in true_divide\n",
      "  recall = tps / tps[-1]\n",
      "C:\\ProgramData\\Anaconda3\\lib\\site-packages\\sklearn\\metrics\\ranking.py:113: RuntimeWarning: invalid value encountered in less\n",
      "  if np.any(dx < 0):\n",
      "C:\\ProgramData\\Anaconda3\\lib\\site-packages\\sklearn\\metrics\\classification.py:1439: UndefinedMetricWarning: Recall is ill-defined and being set to 0.0 due to no true samples.\n",
      "  'recall', 'true', average, warn_for)\n"
     ]
    },
    {
     "name": "stdout",
     "output_type": "stream",
     "text": [
      "Training Random Forest\n",
      "Combination 12 of 31\n",
      "Training Random Forest\n"
     ]
    },
    {
     "name": "stderr",
     "output_type": "stream",
     "text": [
      "C:\\ProgramData\\Anaconda3\\lib\\site-packages\\sklearn\\metrics\\classification.py:1439: UndefinedMetricWarning: F-score is ill-defined and being set to 0.0 due to no true samples.\n",
      "  'recall', 'true', average, warn_for)\n",
      "C:\\ProgramData\\Anaconda3\\lib\\site-packages\\sklearn\\metrics\\ranking.py:528: RuntimeWarning: invalid value encountered in true_divide\n",
      "  recall = tps / tps[-1]\n",
      "C:\\ProgramData\\Anaconda3\\lib\\site-packages\\sklearn\\metrics\\ranking.py:113: RuntimeWarning: invalid value encountered in less\n",
      "  if np.any(dx < 0):\n",
      "C:\\ProgramData\\Anaconda3\\lib\\site-packages\\sklearn\\metrics\\classification.py:1439: UndefinedMetricWarning: Recall is ill-defined and being set to 0.0 due to no true samples.\n",
      "  'recall', 'true', average, warn_for)\n"
     ]
    },
    {
     "name": "stdout",
     "output_type": "stream",
     "text": [
      "Training Random Forest\n",
      "Combination 13 of 31\n",
      "Training Random Forest\n"
     ]
    },
    {
     "name": "stderr",
     "output_type": "stream",
     "text": [
      "C:\\ProgramData\\Anaconda3\\lib\\site-packages\\sklearn\\metrics\\classification.py:1439: UndefinedMetricWarning: F-score is ill-defined and being set to 0.0 due to no true samples.\n",
      "  'recall', 'true', average, warn_for)\n",
      "C:\\ProgramData\\Anaconda3\\lib\\site-packages\\sklearn\\metrics\\ranking.py:528: RuntimeWarning: invalid value encountered in true_divide\n",
      "  recall = tps / tps[-1]\n",
      "C:\\ProgramData\\Anaconda3\\lib\\site-packages\\sklearn\\metrics\\ranking.py:113: RuntimeWarning: invalid value encountered in less\n",
      "  if np.any(dx < 0):\n",
      "C:\\ProgramData\\Anaconda3\\lib\\site-packages\\sklearn\\metrics\\classification.py:1439: UndefinedMetricWarning: Recall is ill-defined and being set to 0.0 due to no true samples.\n",
      "  'recall', 'true', average, warn_for)\n"
     ]
    },
    {
     "name": "stdout",
     "output_type": "stream",
     "text": [
      "Training Random Forest\n",
      "Combination 14 of 31\n",
      "Training Random Forest\n"
     ]
    },
    {
     "name": "stderr",
     "output_type": "stream",
     "text": [
      "C:\\ProgramData\\Anaconda3\\lib\\site-packages\\sklearn\\metrics\\classification.py:1439: UndefinedMetricWarning: F-score is ill-defined and being set to 0.0 due to no true samples.\n",
      "  'recall', 'true', average, warn_for)\n",
      "C:\\ProgramData\\Anaconda3\\lib\\site-packages\\sklearn\\metrics\\ranking.py:528: RuntimeWarning: invalid value encountered in true_divide\n",
      "  recall = tps / tps[-1]\n",
      "C:\\ProgramData\\Anaconda3\\lib\\site-packages\\sklearn\\metrics\\ranking.py:113: RuntimeWarning: invalid value encountered in less\n",
      "  if np.any(dx < 0):\n",
      "C:\\ProgramData\\Anaconda3\\lib\\site-packages\\sklearn\\metrics\\classification.py:1439: UndefinedMetricWarning: Recall is ill-defined and being set to 0.0 due to no true samples.\n",
      "  'recall', 'true', average, warn_for)\n"
     ]
    },
    {
     "name": "stdout",
     "output_type": "stream",
     "text": [
      "Training Random Forest\n",
      "Combination 15 of 31\n",
      "Training Random Forest\n"
     ]
    },
    {
     "name": "stderr",
     "output_type": "stream",
     "text": [
      "C:\\ProgramData\\Anaconda3\\lib\\site-packages\\sklearn\\metrics\\classification.py:1439: UndefinedMetricWarning: F-score is ill-defined and being set to 0.0 due to no true samples.\n",
      "  'recall', 'true', average, warn_for)\n",
      "C:\\ProgramData\\Anaconda3\\lib\\site-packages\\sklearn\\metrics\\ranking.py:528: RuntimeWarning: invalid value encountered in true_divide\n",
      "  recall = tps / tps[-1]\n",
      "C:\\ProgramData\\Anaconda3\\lib\\site-packages\\sklearn\\metrics\\ranking.py:113: RuntimeWarning: invalid value encountered in less\n",
      "  if np.any(dx < 0):\n",
      "C:\\ProgramData\\Anaconda3\\lib\\site-packages\\sklearn\\metrics\\classification.py:1439: UndefinedMetricWarning: Recall is ill-defined and being set to 0.0 due to no true samples.\n",
      "  'recall', 'true', average, warn_for)\n"
     ]
    },
    {
     "name": "stdout",
     "output_type": "stream",
     "text": [
      "Training Random Forest\n",
      "Combination 16 of 31\n",
      "Training Random Forest\n"
     ]
    },
    {
     "name": "stderr",
     "output_type": "stream",
     "text": [
      "C:\\ProgramData\\Anaconda3\\lib\\site-packages\\sklearn\\metrics\\classification.py:1439: UndefinedMetricWarning: F-score is ill-defined and being set to 0.0 due to no true samples.\n",
      "  'recall', 'true', average, warn_for)\n",
      "C:\\ProgramData\\Anaconda3\\lib\\site-packages\\sklearn\\metrics\\ranking.py:528: RuntimeWarning: invalid value encountered in true_divide\n",
      "  recall = tps / tps[-1]\n",
      "C:\\ProgramData\\Anaconda3\\lib\\site-packages\\sklearn\\metrics\\ranking.py:113: RuntimeWarning: invalid value encountered in less\n",
      "  if np.any(dx < 0):\n",
      "C:\\ProgramData\\Anaconda3\\lib\\site-packages\\sklearn\\metrics\\classification.py:1439: UndefinedMetricWarning: Recall is ill-defined and being set to 0.0 due to no true samples.\n",
      "  'recall', 'true', average, warn_for)\n"
     ]
    },
    {
     "name": "stdout",
     "output_type": "stream",
     "text": [
      "Training Random Forest\n",
      "Combination 17 of 31\n",
      "Training Random Forest\n"
     ]
    },
    {
     "name": "stderr",
     "output_type": "stream",
     "text": [
      "C:\\ProgramData\\Anaconda3\\lib\\site-packages\\sklearn\\metrics\\classification.py:1439: UndefinedMetricWarning: F-score is ill-defined and being set to 0.0 due to no true samples.\n",
      "  'recall', 'true', average, warn_for)\n",
      "C:\\ProgramData\\Anaconda3\\lib\\site-packages\\sklearn\\metrics\\ranking.py:528: RuntimeWarning: invalid value encountered in true_divide\n",
      "  recall = tps / tps[-1]\n",
      "C:\\ProgramData\\Anaconda3\\lib\\site-packages\\sklearn\\metrics\\ranking.py:113: RuntimeWarning: invalid value encountered in less\n",
      "  if np.any(dx < 0):\n",
      "C:\\ProgramData\\Anaconda3\\lib\\site-packages\\sklearn\\metrics\\classification.py:1439: UndefinedMetricWarning: Recall is ill-defined and being set to 0.0 due to no true samples.\n",
      "  'recall', 'true', average, warn_for)\n"
     ]
    },
    {
     "name": "stdout",
     "output_type": "stream",
     "text": [
      "Training Random Forest\n",
      "Combination 18 of 31\n",
      "Training Random Forest\n"
     ]
    },
    {
     "name": "stderr",
     "output_type": "stream",
     "text": [
      "C:\\ProgramData\\Anaconda3\\lib\\site-packages\\sklearn\\metrics\\classification.py:1439: UndefinedMetricWarning: F-score is ill-defined and being set to 0.0 due to no true samples.\n",
      "  'recall', 'true', average, warn_for)\n",
      "C:\\ProgramData\\Anaconda3\\lib\\site-packages\\sklearn\\metrics\\ranking.py:528: RuntimeWarning: invalid value encountered in true_divide\n",
      "  recall = tps / tps[-1]\n",
      "C:\\ProgramData\\Anaconda3\\lib\\site-packages\\sklearn\\metrics\\ranking.py:113: RuntimeWarning: invalid value encountered in less\n",
      "  if np.any(dx < 0):\n",
      "C:\\ProgramData\\Anaconda3\\lib\\site-packages\\sklearn\\metrics\\classification.py:1439: UndefinedMetricWarning: Recall is ill-defined and being set to 0.0 due to no true samples.\n",
      "  'recall', 'true', average, warn_for)\n"
     ]
    },
    {
     "name": "stdout",
     "output_type": "stream",
     "text": [
      "Training Random Forest\n",
      "Combination 19 of 31\n",
      "Training Random Forest\n"
     ]
    },
    {
     "name": "stderr",
     "output_type": "stream",
     "text": [
      "C:\\ProgramData\\Anaconda3\\lib\\site-packages\\sklearn\\metrics\\classification.py:1439: UndefinedMetricWarning: F-score is ill-defined and being set to 0.0 due to no true samples.\n",
      "  'recall', 'true', average, warn_for)\n",
      "C:\\ProgramData\\Anaconda3\\lib\\site-packages\\sklearn\\metrics\\ranking.py:528: RuntimeWarning: invalid value encountered in true_divide\n",
      "  recall = tps / tps[-1]\n",
      "C:\\ProgramData\\Anaconda3\\lib\\site-packages\\sklearn\\metrics\\ranking.py:113: RuntimeWarning: invalid value encountered in less\n",
      "  if np.any(dx < 0):\n",
      "C:\\ProgramData\\Anaconda3\\lib\\site-packages\\sklearn\\metrics\\classification.py:1439: UndefinedMetricWarning: Recall is ill-defined and being set to 0.0 due to no true samples.\n",
      "  'recall', 'true', average, warn_for)\n"
     ]
    },
    {
     "name": "stdout",
     "output_type": "stream",
     "text": [
      "Training Random Forest\n",
      "Combination 20 of 31\n",
      "Training Random Forest\n"
     ]
    },
    {
     "name": "stderr",
     "output_type": "stream",
     "text": [
      "C:\\ProgramData\\Anaconda3\\lib\\site-packages\\sklearn\\metrics\\classification.py:1439: UndefinedMetricWarning: F-score is ill-defined and being set to 0.0 due to no true samples.\n",
      "  'recall', 'true', average, warn_for)\n",
      "C:\\ProgramData\\Anaconda3\\lib\\site-packages\\sklearn\\metrics\\ranking.py:528: RuntimeWarning: invalid value encountered in true_divide\n",
      "  recall = tps / tps[-1]\n",
      "C:\\ProgramData\\Anaconda3\\lib\\site-packages\\sklearn\\metrics\\ranking.py:113: RuntimeWarning: invalid value encountered in less\n",
      "  if np.any(dx < 0):\n",
      "C:\\ProgramData\\Anaconda3\\lib\\site-packages\\sklearn\\metrics\\classification.py:1439: UndefinedMetricWarning: Recall is ill-defined and being set to 0.0 due to no true samples.\n",
      "  'recall', 'true', average, warn_for)\n"
     ]
    },
    {
     "name": "stdout",
     "output_type": "stream",
     "text": [
      "Training Random Forest\n",
      "Combination 21 of 31\n",
      "Training Random Forest\n"
     ]
    },
    {
     "name": "stderr",
     "output_type": "stream",
     "text": [
      "C:\\ProgramData\\Anaconda3\\lib\\site-packages\\sklearn\\metrics\\classification.py:1439: UndefinedMetricWarning: F-score is ill-defined and being set to 0.0 due to no true samples.\n",
      "  'recall', 'true', average, warn_for)\n",
      "C:\\ProgramData\\Anaconda3\\lib\\site-packages\\sklearn\\metrics\\ranking.py:528: RuntimeWarning: invalid value encountered in true_divide\n",
      "  recall = tps / tps[-1]\n",
      "C:\\ProgramData\\Anaconda3\\lib\\site-packages\\sklearn\\metrics\\ranking.py:113: RuntimeWarning: invalid value encountered in less\n",
      "  if np.any(dx < 0):\n",
      "C:\\ProgramData\\Anaconda3\\lib\\site-packages\\sklearn\\metrics\\classification.py:1439: UndefinedMetricWarning: Recall is ill-defined and being set to 0.0 due to no true samples.\n",
      "  'recall', 'true', average, warn_for)\n"
     ]
    },
    {
     "name": "stdout",
     "output_type": "stream",
     "text": [
      "Training Random Forest\n",
      "Combination 22 of 31\n",
      "Training Random Forest\n"
     ]
    },
    {
     "name": "stderr",
     "output_type": "stream",
     "text": [
      "C:\\ProgramData\\Anaconda3\\lib\\site-packages\\sklearn\\metrics\\classification.py:1439: UndefinedMetricWarning: F-score is ill-defined and being set to 0.0 due to no true samples.\n",
      "  'recall', 'true', average, warn_for)\n",
      "C:\\ProgramData\\Anaconda3\\lib\\site-packages\\sklearn\\metrics\\ranking.py:528: RuntimeWarning: invalid value encountered in true_divide\n",
      "  recall = tps / tps[-1]\n",
      "C:\\ProgramData\\Anaconda3\\lib\\site-packages\\sklearn\\metrics\\ranking.py:113: RuntimeWarning: invalid value encountered in less\n",
      "  if np.any(dx < 0):\n",
      "C:\\ProgramData\\Anaconda3\\lib\\site-packages\\sklearn\\metrics\\classification.py:1439: UndefinedMetricWarning: Recall is ill-defined and being set to 0.0 due to no true samples.\n",
      "  'recall', 'true', average, warn_for)\n"
     ]
    },
    {
     "name": "stdout",
     "output_type": "stream",
     "text": [
      "Training Random Forest\n",
      "Combination 23 of 31\n",
      "Training Random Forest\n"
     ]
    },
    {
     "name": "stderr",
     "output_type": "stream",
     "text": [
      "C:\\ProgramData\\Anaconda3\\lib\\site-packages\\sklearn\\metrics\\classification.py:1439: UndefinedMetricWarning: F-score is ill-defined and being set to 0.0 due to no true samples.\n",
      "  'recall', 'true', average, warn_for)\n",
      "C:\\ProgramData\\Anaconda3\\lib\\site-packages\\sklearn\\metrics\\ranking.py:528: RuntimeWarning: invalid value encountered in true_divide\n",
      "  recall = tps / tps[-1]\n",
      "C:\\ProgramData\\Anaconda3\\lib\\site-packages\\sklearn\\metrics\\ranking.py:113: RuntimeWarning: invalid value encountered in less\n",
      "  if np.any(dx < 0):\n",
      "C:\\ProgramData\\Anaconda3\\lib\\site-packages\\sklearn\\metrics\\classification.py:1439: UndefinedMetricWarning: Recall is ill-defined and being set to 0.0 due to no true samples.\n",
      "  'recall', 'true', average, warn_for)\n"
     ]
    },
    {
     "name": "stdout",
     "output_type": "stream",
     "text": [
      "Training Random Forest\n",
      "Combination 24 of 31\n",
      "Training Random Forest\n"
     ]
    },
    {
     "name": "stderr",
     "output_type": "stream",
     "text": [
      "C:\\ProgramData\\Anaconda3\\lib\\site-packages\\sklearn\\metrics\\classification.py:1439: UndefinedMetricWarning: F-score is ill-defined and being set to 0.0 due to no true samples.\n",
      "  'recall', 'true', average, warn_for)\n",
      "C:\\ProgramData\\Anaconda3\\lib\\site-packages\\sklearn\\metrics\\ranking.py:528: RuntimeWarning: invalid value encountered in true_divide\n",
      "  recall = tps / tps[-1]\n",
      "C:\\ProgramData\\Anaconda3\\lib\\site-packages\\sklearn\\metrics\\ranking.py:113: RuntimeWarning: invalid value encountered in less\n",
      "  if np.any(dx < 0):\n",
      "C:\\ProgramData\\Anaconda3\\lib\\site-packages\\sklearn\\metrics\\classification.py:1439: UndefinedMetricWarning: Recall is ill-defined and being set to 0.0 due to no true samples.\n",
      "  'recall', 'true', average, warn_for)\n"
     ]
    },
    {
     "name": "stdout",
     "output_type": "stream",
     "text": [
      "Training Random Forest\n",
      "Combination 25 of 31\n",
      "Training Random Forest\n"
     ]
    },
    {
     "name": "stderr",
     "output_type": "stream",
     "text": [
      "C:\\ProgramData\\Anaconda3\\lib\\site-packages\\sklearn\\metrics\\classification.py:1439: UndefinedMetricWarning: F-score is ill-defined and being set to 0.0 due to no true samples.\n",
      "  'recall', 'true', average, warn_for)\n",
      "C:\\ProgramData\\Anaconda3\\lib\\site-packages\\sklearn\\metrics\\ranking.py:528: RuntimeWarning: invalid value encountered in true_divide\n",
      "  recall = tps / tps[-1]\n",
      "C:\\ProgramData\\Anaconda3\\lib\\site-packages\\sklearn\\metrics\\ranking.py:113: RuntimeWarning: invalid value encountered in less\n",
      "  if np.any(dx < 0):\n",
      "C:\\ProgramData\\Anaconda3\\lib\\site-packages\\sklearn\\metrics\\classification.py:1439: UndefinedMetricWarning: Recall is ill-defined and being set to 0.0 due to no true samples.\n",
      "  'recall', 'true', average, warn_for)\n"
     ]
    },
    {
     "name": "stdout",
     "output_type": "stream",
     "text": [
      "Training Random Forest\n",
      "Combination 26 of 31\n",
      "Training Random Forest\n"
     ]
    },
    {
     "name": "stderr",
     "output_type": "stream",
     "text": [
      "C:\\ProgramData\\Anaconda3\\lib\\site-packages\\sklearn\\metrics\\classification.py:1439: UndefinedMetricWarning: F-score is ill-defined and being set to 0.0 due to no true samples.\n",
      "  'recall', 'true', average, warn_for)\n",
      "C:\\ProgramData\\Anaconda3\\lib\\site-packages\\sklearn\\metrics\\ranking.py:528: RuntimeWarning: invalid value encountered in true_divide\n",
      "  recall = tps / tps[-1]\n",
      "C:\\ProgramData\\Anaconda3\\lib\\site-packages\\sklearn\\metrics\\ranking.py:113: RuntimeWarning: invalid value encountered in less\n",
      "  if np.any(dx < 0):\n",
      "C:\\ProgramData\\Anaconda3\\lib\\site-packages\\sklearn\\metrics\\classification.py:1439: UndefinedMetricWarning: Recall is ill-defined and being set to 0.0 due to no true samples.\n",
      "  'recall', 'true', average, warn_for)\n"
     ]
    },
    {
     "name": "stdout",
     "output_type": "stream",
     "text": [
      "Training Random Forest\n",
      "Combination 27 of 31\n",
      "Training Random Forest\n"
     ]
    },
    {
     "name": "stderr",
     "output_type": "stream",
     "text": [
      "C:\\ProgramData\\Anaconda3\\lib\\site-packages\\sklearn\\metrics\\classification.py:1439: UndefinedMetricWarning: F-score is ill-defined and being set to 0.0 due to no true samples.\n",
      "  'recall', 'true', average, warn_for)\n",
      "C:\\ProgramData\\Anaconda3\\lib\\site-packages\\sklearn\\metrics\\ranking.py:528: RuntimeWarning: invalid value encountered in true_divide\n",
      "  recall = tps / tps[-1]\n",
      "C:\\ProgramData\\Anaconda3\\lib\\site-packages\\sklearn\\metrics\\ranking.py:113: RuntimeWarning: invalid value encountered in less\n",
      "  if np.any(dx < 0):\n",
      "C:\\ProgramData\\Anaconda3\\lib\\site-packages\\sklearn\\metrics\\classification.py:1439: UndefinedMetricWarning: Recall is ill-defined and being set to 0.0 due to no true samples.\n",
      "  'recall', 'true', average, warn_for)\n"
     ]
    },
    {
     "name": "stdout",
     "output_type": "stream",
     "text": [
      "Training Random Forest\n",
      "Combination 28 of 31\n",
      "Training Random Forest\n"
     ]
    },
    {
     "name": "stderr",
     "output_type": "stream",
     "text": [
      "C:\\ProgramData\\Anaconda3\\lib\\site-packages\\sklearn\\metrics\\classification.py:1439: UndefinedMetricWarning: F-score is ill-defined and being set to 0.0 due to no true samples.\n",
      "  'recall', 'true', average, warn_for)\n",
      "C:\\ProgramData\\Anaconda3\\lib\\site-packages\\sklearn\\metrics\\ranking.py:528: RuntimeWarning: invalid value encountered in true_divide\n",
      "  recall = tps / tps[-1]\n",
      "C:\\ProgramData\\Anaconda3\\lib\\site-packages\\sklearn\\metrics\\ranking.py:113: RuntimeWarning: invalid value encountered in less\n",
      "  if np.any(dx < 0):\n",
      "C:\\ProgramData\\Anaconda3\\lib\\site-packages\\sklearn\\metrics\\classification.py:1439: UndefinedMetricWarning: Recall is ill-defined and being set to 0.0 due to no true samples.\n",
      "  'recall', 'true', average, warn_for)\n"
     ]
    },
    {
     "name": "stdout",
     "output_type": "stream",
     "text": [
      "Training Random Forest\n",
      "Combination 29 of 31\n",
      "Training Random Forest\n"
     ]
    },
    {
     "name": "stderr",
     "output_type": "stream",
     "text": [
      "C:\\ProgramData\\Anaconda3\\lib\\site-packages\\sklearn\\metrics\\classification.py:1439: UndefinedMetricWarning: F-score is ill-defined and being set to 0.0 due to no true samples.\n",
      "  'recall', 'true', average, warn_for)\n",
      "C:\\ProgramData\\Anaconda3\\lib\\site-packages\\sklearn\\metrics\\ranking.py:528: RuntimeWarning: invalid value encountered in true_divide\n",
      "  recall = tps / tps[-1]\n",
      "C:\\ProgramData\\Anaconda3\\lib\\site-packages\\sklearn\\metrics\\ranking.py:113: RuntimeWarning: invalid value encountered in less\n",
      "  if np.any(dx < 0):\n",
      "C:\\ProgramData\\Anaconda3\\lib\\site-packages\\sklearn\\metrics\\classification.py:1439: UndefinedMetricWarning: Recall is ill-defined and being set to 0.0 due to no true samples.\n",
      "  'recall', 'true', average, warn_for)\n"
     ]
    },
    {
     "name": "stdout",
     "output_type": "stream",
     "text": [
      "Training Random Forest\n",
      "Combination 30 of 31\n",
      "Training Random Forest\n"
     ]
    },
    {
     "name": "stderr",
     "output_type": "stream",
     "text": [
      "C:\\ProgramData\\Anaconda3\\lib\\site-packages\\sklearn\\metrics\\classification.py:1439: UndefinedMetricWarning: F-score is ill-defined and being set to 0.0 due to no true samples.\n",
      "  'recall', 'true', average, warn_for)\n",
      "C:\\ProgramData\\Anaconda3\\lib\\site-packages\\sklearn\\metrics\\ranking.py:528: RuntimeWarning: invalid value encountered in true_divide\n",
      "  recall = tps / tps[-1]\n",
      "C:\\ProgramData\\Anaconda3\\lib\\site-packages\\sklearn\\metrics\\ranking.py:113: RuntimeWarning: invalid value encountered in less\n",
      "  if np.any(dx < 0):\n",
      "C:\\ProgramData\\Anaconda3\\lib\\site-packages\\sklearn\\metrics\\classification.py:1439: UndefinedMetricWarning: Recall is ill-defined and being set to 0.0 due to no true samples.\n",
      "  'recall', 'true', average, warn_for)\n"
     ]
    },
    {
     "name": "stdout",
     "output_type": "stream",
     "text": [
      "Training Random Forest\n",
      "Combination 31 of 31\n",
      "Training Random Forest\n"
     ]
    },
    {
     "name": "stderr",
     "output_type": "stream",
     "text": [
      "C:\\ProgramData\\Anaconda3\\lib\\site-packages\\sklearn\\metrics\\classification.py:1439: UndefinedMetricWarning: F-score is ill-defined and being set to 0.0 due to no true samples.\n",
      "  'recall', 'true', average, warn_for)\n",
      "C:\\ProgramData\\Anaconda3\\lib\\site-packages\\sklearn\\metrics\\ranking.py:528: RuntimeWarning: invalid value encountered in true_divide\n",
      "  recall = tps / tps[-1]\n",
      "C:\\ProgramData\\Anaconda3\\lib\\site-packages\\sklearn\\metrics\\ranking.py:113: RuntimeWarning: invalid value encountered in less\n",
      "  if np.any(dx < 0):\n",
      "C:\\ProgramData\\Anaconda3\\lib\\site-packages\\sklearn\\metrics\\classification.py:1439: UndefinedMetricWarning: Recall is ill-defined and being set to 0.0 due to no true samples.\n",
      "  'recall', 'true', average, warn_for)\n"
     ]
    },
    {
     "name": "stdout",
     "output_type": "stream",
     "text": [
      "Training Random Forest\n",
      "watch, Bradykinesia\n",
      "Combination 1 of 31\n",
      "Training Random Forest\n",
      "Training Random Forest\n",
      "Combination 2 of 31\n",
      "Training Random Forest\n",
      "Training Random Forest\n",
      "Combination 3 of 31\n",
      "Training Random Forest\n",
      "Training Random Forest\n",
      "Combination 4 of 31\n",
      "Training Random Forest\n",
      "Training Random Forest\n",
      "Combination 5 of 31\n",
      "Training Random Forest\n",
      "Training Random Forest\n",
      "Combination 6 of 31\n",
      "Training Random Forest\n",
      "Training Random Forest\n",
      "Combination 7 of 31\n",
      "Training Random Forest\n",
      "Training Random Forest\n",
      "Combination 8 of 31\n",
      "Training Random Forest\n",
      "Training Random Forest\n",
      "Combination 9 of 31\n",
      "Training Random Forest\n",
      "Training Random Forest\n",
      "Combination 10 of 31\n",
      "Training Random Forest\n",
      "Training Random Forest\n",
      "Combination 11 of 31\n",
      "Training Random Forest\n",
      "Training Random Forest\n",
      "Combination 12 of 31\n",
      "Training Random Forest\n",
      "Training Random Forest\n",
      "Combination 13 of 31\n",
      "Training Random Forest\n",
      "Training Random Forest\n",
      "Combination 14 of 31\n",
      "Training Random Forest\n",
      "Training Random Forest\n",
      "Combination 15 of 31\n",
      "Training Random Forest\n",
      "Training Random Forest\n",
      "Combination 16 of 31\n",
      "Training Random Forest\n",
      "Training Random Forest\n",
      "Combination 17 of 31\n",
      "Training Random Forest\n",
      "Training Random Forest\n",
      "Combination 18 of 31\n",
      "Training Random Forest\n",
      "Training Random Forest\n",
      "Combination 19 of 31\n",
      "Training Random Forest\n",
      "Training Random Forest\n",
      "Combination 20 of 31\n",
      "Training Random Forest\n",
      "Training Random Forest\n",
      "Combination 21 of 31\n",
      "Training Random Forest\n",
      "Training Random Forest\n",
      "Combination 22 of 31\n",
      "Training Random Forest\n",
      "Training Random Forest\n",
      "Combination 23 of 31\n",
      "Training Random Forest\n",
      "Training Random Forest\n",
      "Combination 24 of 31\n",
      "Training Random Forest\n",
      "Training Random Forest\n",
      "Combination 25 of 31\n",
      "Training Random Forest\n",
      "Training Random Forest\n",
      "Combination 26 of 31\n",
      "Training Random Forest\n",
      "Training Random Forest\n",
      "Combination 27 of 31\n",
      "Training Random Forest\n",
      "Training Random Forest\n",
      "Combination 28 of 31\n",
      "Training Random Forest\n",
      "Training Random Forest\n",
      "Combination 29 of 31\n",
      "Training Random Forest\n",
      "Training Random Forest\n",
      "Combination 30 of 31\n",
      "Training Random Forest\n",
      "Training Random Forest\n",
      "Combination 31 of 31\n",
      "Training Random Forest\n",
      "Training Random Forest\n",
      "sensor, Tremor\n",
      "Combination 1 of 31\n",
      "Training Random Forest\n"
     ]
    },
    {
     "name": "stderr",
     "output_type": "stream",
     "text": [
      "C:\\ProgramData\\Anaconda3\\lib\\site-packages\\sklearn\\metrics\\classification.py:1439: UndefinedMetricWarning: F-score is ill-defined and being set to 0.0 due to no true samples.\n",
      "  'recall', 'true', average, warn_for)\n",
      "C:\\ProgramData\\Anaconda3\\lib\\site-packages\\sklearn\\metrics\\ranking.py:528: RuntimeWarning: invalid value encountered in true_divide\n",
      "  recall = tps / tps[-1]\n",
      "C:\\ProgramData\\Anaconda3\\lib\\site-packages\\sklearn\\metrics\\ranking.py:113: RuntimeWarning: invalid value encountered in less\n",
      "  if np.any(dx < 0):\n",
      "C:\\ProgramData\\Anaconda3\\lib\\site-packages\\sklearn\\metrics\\classification.py:1439: UndefinedMetricWarning: Recall is ill-defined and being set to 0.0 due to no true samples.\n",
      "  'recall', 'true', average, warn_for)\n"
     ]
    },
    {
     "name": "stdout",
     "output_type": "stream",
     "text": [
      "Training Random Forest\n",
      "Combination 2 of 31\n",
      "Training Random Forest\n"
     ]
    },
    {
     "name": "stderr",
     "output_type": "stream",
     "text": [
      "C:\\ProgramData\\Anaconda3\\lib\\site-packages\\sklearn\\metrics\\classification.py:1439: UndefinedMetricWarning: F-score is ill-defined and being set to 0.0 due to no true samples.\n",
      "  'recall', 'true', average, warn_for)\n",
      "C:\\ProgramData\\Anaconda3\\lib\\site-packages\\sklearn\\metrics\\ranking.py:528: RuntimeWarning: invalid value encountered in true_divide\n",
      "  recall = tps / tps[-1]\n",
      "C:\\ProgramData\\Anaconda3\\lib\\site-packages\\sklearn\\metrics\\ranking.py:113: RuntimeWarning: invalid value encountered in less\n",
      "  if np.any(dx < 0):\n",
      "C:\\ProgramData\\Anaconda3\\lib\\site-packages\\sklearn\\metrics\\classification.py:1439: UndefinedMetricWarning: Recall is ill-defined and being set to 0.0 due to no true samples.\n",
      "  'recall', 'true', average, warn_for)\n"
     ]
    },
    {
     "name": "stdout",
     "output_type": "stream",
     "text": [
      "Training Random Forest\n",
      "Combination 3 of 31\n",
      "Training Random Forest\n"
     ]
    },
    {
     "name": "stderr",
     "output_type": "stream",
     "text": [
      "C:\\ProgramData\\Anaconda3\\lib\\site-packages\\sklearn\\metrics\\classification.py:1439: UndefinedMetricWarning: F-score is ill-defined and being set to 0.0 due to no true samples.\n",
      "  'recall', 'true', average, warn_for)\n",
      "C:\\ProgramData\\Anaconda3\\lib\\site-packages\\sklearn\\metrics\\ranking.py:528: RuntimeWarning: invalid value encountered in true_divide\n",
      "  recall = tps / tps[-1]\n",
      "C:\\ProgramData\\Anaconda3\\lib\\site-packages\\sklearn\\metrics\\ranking.py:113: RuntimeWarning: invalid value encountered in less\n",
      "  if np.any(dx < 0):\n",
      "C:\\ProgramData\\Anaconda3\\lib\\site-packages\\sklearn\\metrics\\classification.py:1439: UndefinedMetricWarning: Recall is ill-defined and being set to 0.0 due to no true samples.\n",
      "  'recall', 'true', average, warn_for)\n"
     ]
    },
    {
     "name": "stdout",
     "output_type": "stream",
     "text": [
      "Training Random Forest\n",
      "Combination 4 of 31\n",
      "Training Random Forest\n"
     ]
    },
    {
     "name": "stderr",
     "output_type": "stream",
     "text": [
      "C:\\ProgramData\\Anaconda3\\lib\\site-packages\\sklearn\\metrics\\classification.py:1439: UndefinedMetricWarning: F-score is ill-defined and being set to 0.0 due to no true samples.\n",
      "  'recall', 'true', average, warn_for)\n",
      "C:\\ProgramData\\Anaconda3\\lib\\site-packages\\sklearn\\metrics\\ranking.py:528: RuntimeWarning: invalid value encountered in true_divide\n",
      "  recall = tps / tps[-1]\n",
      "C:\\ProgramData\\Anaconda3\\lib\\site-packages\\sklearn\\metrics\\ranking.py:113: RuntimeWarning: invalid value encountered in less\n",
      "  if np.any(dx < 0):\n",
      "C:\\ProgramData\\Anaconda3\\lib\\site-packages\\sklearn\\metrics\\classification.py:1439: UndefinedMetricWarning: Recall is ill-defined and being set to 0.0 due to no true samples.\n",
      "  'recall', 'true', average, warn_for)\n"
     ]
    },
    {
     "name": "stdout",
     "output_type": "stream",
     "text": [
      "Training Random Forest\n",
      "Combination 5 of 31\n",
      "Training Random Forest\n"
     ]
    },
    {
     "name": "stderr",
     "output_type": "stream",
     "text": [
      "C:\\ProgramData\\Anaconda3\\lib\\site-packages\\sklearn\\metrics\\classification.py:1439: UndefinedMetricWarning: F-score is ill-defined and being set to 0.0 due to no true samples.\n",
      "  'recall', 'true', average, warn_for)\n",
      "C:\\ProgramData\\Anaconda3\\lib\\site-packages\\sklearn\\metrics\\ranking.py:528: RuntimeWarning: invalid value encountered in true_divide\n",
      "  recall = tps / tps[-1]\n",
      "C:\\ProgramData\\Anaconda3\\lib\\site-packages\\sklearn\\metrics\\ranking.py:113: RuntimeWarning: invalid value encountered in less\n",
      "  if np.any(dx < 0):\n",
      "C:\\ProgramData\\Anaconda3\\lib\\site-packages\\sklearn\\metrics\\classification.py:1439: UndefinedMetricWarning: Recall is ill-defined and being set to 0.0 due to no true samples.\n",
      "  'recall', 'true', average, warn_for)\n"
     ]
    },
    {
     "name": "stdout",
     "output_type": "stream",
     "text": [
      "Training Random Forest\n",
      "Combination 6 of 31\n",
      "Training Random Forest\n"
     ]
    },
    {
     "name": "stderr",
     "output_type": "stream",
     "text": [
      "C:\\ProgramData\\Anaconda3\\lib\\site-packages\\sklearn\\metrics\\classification.py:1439: UndefinedMetricWarning: F-score is ill-defined and being set to 0.0 due to no true samples.\n",
      "  'recall', 'true', average, warn_for)\n",
      "C:\\ProgramData\\Anaconda3\\lib\\site-packages\\sklearn\\metrics\\ranking.py:528: RuntimeWarning: invalid value encountered in true_divide\n",
      "  recall = tps / tps[-1]\n",
      "C:\\ProgramData\\Anaconda3\\lib\\site-packages\\sklearn\\metrics\\ranking.py:113: RuntimeWarning: invalid value encountered in less\n",
      "  if np.any(dx < 0):\n",
      "C:\\ProgramData\\Anaconda3\\lib\\site-packages\\sklearn\\metrics\\classification.py:1439: UndefinedMetricWarning: Recall is ill-defined and being set to 0.0 due to no true samples.\n",
      "  'recall', 'true', average, warn_for)\n"
     ]
    },
    {
     "name": "stdout",
     "output_type": "stream",
     "text": [
      "Training Random Forest\n",
      "Combination 7 of 31\n",
      "Training Random Forest\n"
     ]
    },
    {
     "name": "stderr",
     "output_type": "stream",
     "text": [
      "C:\\ProgramData\\Anaconda3\\lib\\site-packages\\sklearn\\metrics\\classification.py:1439: UndefinedMetricWarning: F-score is ill-defined and being set to 0.0 due to no true samples.\n",
      "  'recall', 'true', average, warn_for)\n",
      "C:\\ProgramData\\Anaconda3\\lib\\site-packages\\sklearn\\metrics\\ranking.py:528: RuntimeWarning: invalid value encountered in true_divide\n",
      "  recall = tps / tps[-1]\n",
      "C:\\ProgramData\\Anaconda3\\lib\\site-packages\\sklearn\\metrics\\ranking.py:113: RuntimeWarning: invalid value encountered in less\n",
      "  if np.any(dx < 0):\n",
      "C:\\ProgramData\\Anaconda3\\lib\\site-packages\\sklearn\\metrics\\classification.py:1439: UndefinedMetricWarning: Recall is ill-defined and being set to 0.0 due to no true samples.\n",
      "  'recall', 'true', average, warn_for)\n"
     ]
    },
    {
     "name": "stdout",
     "output_type": "stream",
     "text": [
      "Training Random Forest\n",
      "Combination 8 of 31\n",
      "Training Random Forest\n"
     ]
    },
    {
     "name": "stderr",
     "output_type": "stream",
     "text": [
      "C:\\ProgramData\\Anaconda3\\lib\\site-packages\\sklearn\\metrics\\classification.py:1439: UndefinedMetricWarning: F-score is ill-defined and being set to 0.0 due to no true samples.\n",
      "  'recall', 'true', average, warn_for)\n",
      "C:\\ProgramData\\Anaconda3\\lib\\site-packages\\sklearn\\metrics\\ranking.py:528: RuntimeWarning: invalid value encountered in true_divide\n",
      "  recall = tps / tps[-1]\n",
      "C:\\ProgramData\\Anaconda3\\lib\\site-packages\\sklearn\\metrics\\ranking.py:113: RuntimeWarning: invalid value encountered in less\n",
      "  if np.any(dx < 0):\n",
      "C:\\ProgramData\\Anaconda3\\lib\\site-packages\\sklearn\\metrics\\classification.py:1439: UndefinedMetricWarning: Recall is ill-defined and being set to 0.0 due to no true samples.\n",
      "  'recall', 'true', average, warn_for)\n"
     ]
    },
    {
     "name": "stdout",
     "output_type": "stream",
     "text": [
      "Training Random Forest\n",
      "Combination 9 of 31\n",
      "Training Random Forest\n"
     ]
    },
    {
     "name": "stderr",
     "output_type": "stream",
     "text": [
      "C:\\ProgramData\\Anaconda3\\lib\\site-packages\\sklearn\\metrics\\classification.py:1439: UndefinedMetricWarning: F-score is ill-defined and being set to 0.0 due to no true samples.\n",
      "  'recall', 'true', average, warn_for)\n",
      "C:\\ProgramData\\Anaconda3\\lib\\site-packages\\sklearn\\metrics\\ranking.py:528: RuntimeWarning: invalid value encountered in true_divide\n",
      "  recall = tps / tps[-1]\n",
      "C:\\ProgramData\\Anaconda3\\lib\\site-packages\\sklearn\\metrics\\ranking.py:113: RuntimeWarning: invalid value encountered in less\n",
      "  if np.any(dx < 0):\n",
      "C:\\ProgramData\\Anaconda3\\lib\\site-packages\\sklearn\\metrics\\classification.py:1439: UndefinedMetricWarning: Recall is ill-defined and being set to 0.0 due to no true samples.\n",
      "  'recall', 'true', average, warn_for)\n"
     ]
    },
    {
     "name": "stdout",
     "output_type": "stream",
     "text": [
      "Training Random Forest\n",
      "Combination 10 of 31\n",
      "Training Random Forest\n"
     ]
    },
    {
     "name": "stderr",
     "output_type": "stream",
     "text": [
      "C:\\ProgramData\\Anaconda3\\lib\\site-packages\\sklearn\\metrics\\classification.py:1439: UndefinedMetricWarning: F-score is ill-defined and being set to 0.0 due to no true samples.\n",
      "  'recall', 'true', average, warn_for)\n",
      "C:\\ProgramData\\Anaconda3\\lib\\site-packages\\sklearn\\metrics\\ranking.py:528: RuntimeWarning: invalid value encountered in true_divide\n",
      "  recall = tps / tps[-1]\n",
      "C:\\ProgramData\\Anaconda3\\lib\\site-packages\\sklearn\\metrics\\ranking.py:113: RuntimeWarning: invalid value encountered in less\n",
      "  if np.any(dx < 0):\n",
      "C:\\ProgramData\\Anaconda3\\lib\\site-packages\\sklearn\\metrics\\classification.py:1439: UndefinedMetricWarning: Recall is ill-defined and being set to 0.0 due to no true samples.\n",
      "  'recall', 'true', average, warn_for)\n"
     ]
    },
    {
     "name": "stdout",
     "output_type": "stream",
     "text": [
      "Training Random Forest\n",
      "Combination 11 of 31\n",
      "Training Random Forest\n"
     ]
    },
    {
     "name": "stderr",
     "output_type": "stream",
     "text": [
      "C:\\ProgramData\\Anaconda3\\lib\\site-packages\\sklearn\\metrics\\classification.py:1439: UndefinedMetricWarning: F-score is ill-defined and being set to 0.0 due to no true samples.\n",
      "  'recall', 'true', average, warn_for)\n",
      "C:\\ProgramData\\Anaconda3\\lib\\site-packages\\sklearn\\metrics\\ranking.py:528: RuntimeWarning: invalid value encountered in true_divide\n",
      "  recall = tps / tps[-1]\n",
      "C:\\ProgramData\\Anaconda3\\lib\\site-packages\\sklearn\\metrics\\ranking.py:113: RuntimeWarning: invalid value encountered in less\n",
      "  if np.any(dx < 0):\n",
      "C:\\ProgramData\\Anaconda3\\lib\\site-packages\\sklearn\\metrics\\classification.py:1439: UndefinedMetricWarning: Recall is ill-defined and being set to 0.0 due to no true samples.\n",
      "  'recall', 'true', average, warn_for)\n"
     ]
    },
    {
     "name": "stdout",
     "output_type": "stream",
     "text": [
      "Training Random Forest\n",
      "Combination 12 of 31\n",
      "Training Random Forest\n"
     ]
    },
    {
     "name": "stderr",
     "output_type": "stream",
     "text": [
      "C:\\ProgramData\\Anaconda3\\lib\\site-packages\\sklearn\\metrics\\classification.py:1439: UndefinedMetricWarning: F-score is ill-defined and being set to 0.0 due to no true samples.\n",
      "  'recall', 'true', average, warn_for)\n",
      "C:\\ProgramData\\Anaconda3\\lib\\site-packages\\sklearn\\metrics\\ranking.py:528: RuntimeWarning: invalid value encountered in true_divide\n",
      "  recall = tps / tps[-1]\n",
      "C:\\ProgramData\\Anaconda3\\lib\\site-packages\\sklearn\\metrics\\ranking.py:113: RuntimeWarning: invalid value encountered in less\n",
      "  if np.any(dx < 0):\n",
      "C:\\ProgramData\\Anaconda3\\lib\\site-packages\\sklearn\\metrics\\classification.py:1439: UndefinedMetricWarning: Recall is ill-defined and being set to 0.0 due to no true samples.\n",
      "  'recall', 'true', average, warn_for)\n"
     ]
    },
    {
     "name": "stdout",
     "output_type": "stream",
     "text": [
      "Training Random Forest\n",
      "Combination 13 of 31\n",
      "Training Random Forest\n"
     ]
    },
    {
     "name": "stderr",
     "output_type": "stream",
     "text": [
      "C:\\ProgramData\\Anaconda3\\lib\\site-packages\\sklearn\\metrics\\classification.py:1439: UndefinedMetricWarning: F-score is ill-defined and being set to 0.0 due to no true samples.\n",
      "  'recall', 'true', average, warn_for)\n",
      "C:\\ProgramData\\Anaconda3\\lib\\site-packages\\sklearn\\metrics\\ranking.py:528: RuntimeWarning: invalid value encountered in true_divide\n",
      "  recall = tps / tps[-1]\n",
      "C:\\ProgramData\\Anaconda3\\lib\\site-packages\\sklearn\\metrics\\ranking.py:113: RuntimeWarning: invalid value encountered in less\n",
      "  if np.any(dx < 0):\n",
      "C:\\ProgramData\\Anaconda3\\lib\\site-packages\\sklearn\\metrics\\classification.py:1439: UndefinedMetricWarning: Recall is ill-defined and being set to 0.0 due to no true samples.\n",
      "  'recall', 'true', average, warn_for)\n"
     ]
    },
    {
     "name": "stdout",
     "output_type": "stream",
     "text": [
      "Training Random Forest\n",
      "Combination 14 of 31\n",
      "Training Random Forest\n"
     ]
    },
    {
     "name": "stderr",
     "output_type": "stream",
     "text": [
      "C:\\ProgramData\\Anaconda3\\lib\\site-packages\\sklearn\\metrics\\classification.py:1439: UndefinedMetricWarning: F-score is ill-defined and being set to 0.0 due to no true samples.\n",
      "  'recall', 'true', average, warn_for)\n",
      "C:\\ProgramData\\Anaconda3\\lib\\site-packages\\sklearn\\metrics\\ranking.py:528: RuntimeWarning: invalid value encountered in true_divide\n",
      "  recall = tps / tps[-1]\n",
      "C:\\ProgramData\\Anaconda3\\lib\\site-packages\\sklearn\\metrics\\ranking.py:113: RuntimeWarning: invalid value encountered in less\n",
      "  if np.any(dx < 0):\n",
      "C:\\ProgramData\\Anaconda3\\lib\\site-packages\\sklearn\\metrics\\classification.py:1439: UndefinedMetricWarning: Recall is ill-defined and being set to 0.0 due to no true samples.\n",
      "  'recall', 'true', average, warn_for)\n"
     ]
    },
    {
     "name": "stdout",
     "output_type": "stream",
     "text": [
      "Training Random Forest\n",
      "Combination 15 of 31\n",
      "Training Random Forest\n"
     ]
    },
    {
     "name": "stderr",
     "output_type": "stream",
     "text": [
      "C:\\ProgramData\\Anaconda3\\lib\\site-packages\\sklearn\\metrics\\classification.py:1439: UndefinedMetricWarning: F-score is ill-defined and being set to 0.0 due to no true samples.\n",
      "  'recall', 'true', average, warn_for)\n",
      "C:\\ProgramData\\Anaconda3\\lib\\site-packages\\sklearn\\metrics\\ranking.py:528: RuntimeWarning: invalid value encountered in true_divide\n",
      "  recall = tps / tps[-1]\n",
      "C:\\ProgramData\\Anaconda3\\lib\\site-packages\\sklearn\\metrics\\ranking.py:113: RuntimeWarning: invalid value encountered in less\n",
      "  if np.any(dx < 0):\n",
      "C:\\ProgramData\\Anaconda3\\lib\\site-packages\\sklearn\\metrics\\classification.py:1439: UndefinedMetricWarning: Recall is ill-defined and being set to 0.0 due to no true samples.\n",
      "  'recall', 'true', average, warn_for)\n"
     ]
    },
    {
     "name": "stdout",
     "output_type": "stream",
     "text": [
      "Training Random Forest\n",
      "Combination 16 of 31\n",
      "Training Random Forest\n"
     ]
    },
    {
     "name": "stderr",
     "output_type": "stream",
     "text": [
      "C:\\ProgramData\\Anaconda3\\lib\\site-packages\\sklearn\\metrics\\classification.py:1439: UndefinedMetricWarning: F-score is ill-defined and being set to 0.0 due to no true samples.\n",
      "  'recall', 'true', average, warn_for)\n",
      "C:\\ProgramData\\Anaconda3\\lib\\site-packages\\sklearn\\metrics\\ranking.py:528: RuntimeWarning: invalid value encountered in true_divide\n",
      "  recall = tps / tps[-1]\n",
      "C:\\ProgramData\\Anaconda3\\lib\\site-packages\\sklearn\\metrics\\ranking.py:113: RuntimeWarning: invalid value encountered in less\n",
      "  if np.any(dx < 0):\n",
      "C:\\ProgramData\\Anaconda3\\lib\\site-packages\\sklearn\\metrics\\classification.py:1439: UndefinedMetricWarning: Recall is ill-defined and being set to 0.0 due to no true samples.\n",
      "  'recall', 'true', average, warn_for)\n"
     ]
    },
    {
     "name": "stdout",
     "output_type": "stream",
     "text": [
      "Training Random Forest\n",
      "Combination 17 of 31\n",
      "Training Random Forest\n"
     ]
    },
    {
     "name": "stderr",
     "output_type": "stream",
     "text": [
      "C:\\ProgramData\\Anaconda3\\lib\\site-packages\\sklearn\\metrics\\classification.py:1439: UndefinedMetricWarning: F-score is ill-defined and being set to 0.0 due to no true samples.\n",
      "  'recall', 'true', average, warn_for)\n",
      "C:\\ProgramData\\Anaconda3\\lib\\site-packages\\sklearn\\metrics\\ranking.py:528: RuntimeWarning: invalid value encountered in true_divide\n",
      "  recall = tps / tps[-1]\n",
      "C:\\ProgramData\\Anaconda3\\lib\\site-packages\\sklearn\\metrics\\ranking.py:113: RuntimeWarning: invalid value encountered in less\n",
      "  if np.any(dx < 0):\n",
      "C:\\ProgramData\\Anaconda3\\lib\\site-packages\\sklearn\\metrics\\classification.py:1439: UndefinedMetricWarning: Recall is ill-defined and being set to 0.0 due to no true samples.\n",
      "  'recall', 'true', average, warn_for)\n"
     ]
    },
    {
     "name": "stdout",
     "output_type": "stream",
     "text": [
      "Training Random Forest\n",
      "Combination 18 of 31\n",
      "Training Random Forest\n"
     ]
    },
    {
     "name": "stderr",
     "output_type": "stream",
     "text": [
      "C:\\ProgramData\\Anaconda3\\lib\\site-packages\\sklearn\\metrics\\classification.py:1439: UndefinedMetricWarning: F-score is ill-defined and being set to 0.0 due to no true samples.\n",
      "  'recall', 'true', average, warn_for)\n",
      "C:\\ProgramData\\Anaconda3\\lib\\site-packages\\sklearn\\metrics\\ranking.py:528: RuntimeWarning: invalid value encountered in true_divide\n",
      "  recall = tps / tps[-1]\n",
      "C:\\ProgramData\\Anaconda3\\lib\\site-packages\\sklearn\\metrics\\ranking.py:113: RuntimeWarning: invalid value encountered in less\n",
      "  if np.any(dx < 0):\n",
      "C:\\ProgramData\\Anaconda3\\lib\\site-packages\\sklearn\\metrics\\classification.py:1439: UndefinedMetricWarning: Recall is ill-defined and being set to 0.0 due to no true samples.\n",
      "  'recall', 'true', average, warn_for)\n"
     ]
    },
    {
     "name": "stdout",
     "output_type": "stream",
     "text": [
      "Training Random Forest\n",
      "Combination 19 of 31\n",
      "Training Random Forest\n"
     ]
    },
    {
     "name": "stderr",
     "output_type": "stream",
     "text": [
      "C:\\ProgramData\\Anaconda3\\lib\\site-packages\\sklearn\\metrics\\classification.py:1439: UndefinedMetricWarning: F-score is ill-defined and being set to 0.0 due to no true samples.\n",
      "  'recall', 'true', average, warn_for)\n",
      "C:\\ProgramData\\Anaconda3\\lib\\site-packages\\sklearn\\metrics\\ranking.py:528: RuntimeWarning: invalid value encountered in true_divide\n",
      "  recall = tps / tps[-1]\n",
      "C:\\ProgramData\\Anaconda3\\lib\\site-packages\\sklearn\\metrics\\ranking.py:113: RuntimeWarning: invalid value encountered in less\n",
      "  if np.any(dx < 0):\n",
      "C:\\ProgramData\\Anaconda3\\lib\\site-packages\\sklearn\\metrics\\classification.py:1439: UndefinedMetricWarning: Recall is ill-defined and being set to 0.0 due to no true samples.\n",
      "  'recall', 'true', average, warn_for)\n"
     ]
    },
    {
     "name": "stdout",
     "output_type": "stream",
     "text": [
      "Training Random Forest\n",
      "Combination 20 of 31\n",
      "Training Random Forest\n"
     ]
    },
    {
     "name": "stderr",
     "output_type": "stream",
     "text": [
      "C:\\ProgramData\\Anaconda3\\lib\\site-packages\\sklearn\\metrics\\classification.py:1439: UndefinedMetricWarning: F-score is ill-defined and being set to 0.0 due to no true samples.\n",
      "  'recall', 'true', average, warn_for)\n",
      "C:\\ProgramData\\Anaconda3\\lib\\site-packages\\sklearn\\metrics\\ranking.py:528: RuntimeWarning: invalid value encountered in true_divide\n",
      "  recall = tps / tps[-1]\n",
      "C:\\ProgramData\\Anaconda3\\lib\\site-packages\\sklearn\\metrics\\ranking.py:113: RuntimeWarning: invalid value encountered in less\n",
      "  if np.any(dx < 0):\n",
      "C:\\ProgramData\\Anaconda3\\lib\\site-packages\\sklearn\\metrics\\classification.py:1439: UndefinedMetricWarning: Recall is ill-defined and being set to 0.0 due to no true samples.\n",
      "  'recall', 'true', average, warn_for)\n"
     ]
    },
    {
     "name": "stdout",
     "output_type": "stream",
     "text": [
      "Training Random Forest\n",
      "Combination 21 of 31\n",
      "Training Random Forest\n"
     ]
    },
    {
     "name": "stderr",
     "output_type": "stream",
     "text": [
      "C:\\ProgramData\\Anaconda3\\lib\\site-packages\\sklearn\\metrics\\classification.py:1439: UndefinedMetricWarning: F-score is ill-defined and being set to 0.0 due to no true samples.\n",
      "  'recall', 'true', average, warn_for)\n",
      "C:\\ProgramData\\Anaconda3\\lib\\site-packages\\sklearn\\metrics\\ranking.py:528: RuntimeWarning: invalid value encountered in true_divide\n",
      "  recall = tps / tps[-1]\n",
      "C:\\ProgramData\\Anaconda3\\lib\\site-packages\\sklearn\\metrics\\ranking.py:113: RuntimeWarning: invalid value encountered in less\n",
      "  if np.any(dx < 0):\n",
      "C:\\ProgramData\\Anaconda3\\lib\\site-packages\\sklearn\\metrics\\classification.py:1439: UndefinedMetricWarning: Recall is ill-defined and being set to 0.0 due to no true samples.\n",
      "  'recall', 'true', average, warn_for)\n"
     ]
    },
    {
     "name": "stdout",
     "output_type": "stream",
     "text": [
      "Training Random Forest\n",
      "Combination 22 of 31\n",
      "Training Random Forest\n"
     ]
    },
    {
     "name": "stderr",
     "output_type": "stream",
     "text": [
      "C:\\ProgramData\\Anaconda3\\lib\\site-packages\\sklearn\\metrics\\classification.py:1439: UndefinedMetricWarning: F-score is ill-defined and being set to 0.0 due to no true samples.\n",
      "  'recall', 'true', average, warn_for)\n",
      "C:\\ProgramData\\Anaconda3\\lib\\site-packages\\sklearn\\metrics\\ranking.py:528: RuntimeWarning: invalid value encountered in true_divide\n",
      "  recall = tps / tps[-1]\n",
      "C:\\ProgramData\\Anaconda3\\lib\\site-packages\\sklearn\\metrics\\ranking.py:113: RuntimeWarning: invalid value encountered in less\n",
      "  if np.any(dx < 0):\n",
      "C:\\ProgramData\\Anaconda3\\lib\\site-packages\\sklearn\\metrics\\classification.py:1439: UndefinedMetricWarning: Recall is ill-defined and being set to 0.0 due to no true samples.\n",
      "  'recall', 'true', average, warn_for)\n"
     ]
    },
    {
     "name": "stdout",
     "output_type": "stream",
     "text": [
      "Training Random Forest\n",
      "Combination 23 of 31\n",
      "Training Random Forest\n"
     ]
    },
    {
     "name": "stderr",
     "output_type": "stream",
     "text": [
      "C:\\ProgramData\\Anaconda3\\lib\\site-packages\\sklearn\\metrics\\classification.py:1439: UndefinedMetricWarning: F-score is ill-defined and being set to 0.0 due to no true samples.\n",
      "  'recall', 'true', average, warn_for)\n",
      "C:\\ProgramData\\Anaconda3\\lib\\site-packages\\sklearn\\metrics\\ranking.py:528: RuntimeWarning: invalid value encountered in true_divide\n",
      "  recall = tps / tps[-1]\n",
      "C:\\ProgramData\\Anaconda3\\lib\\site-packages\\sklearn\\metrics\\ranking.py:113: RuntimeWarning: invalid value encountered in less\n",
      "  if np.any(dx < 0):\n",
      "C:\\ProgramData\\Anaconda3\\lib\\site-packages\\sklearn\\metrics\\classification.py:1439: UndefinedMetricWarning: Recall is ill-defined and being set to 0.0 due to no true samples.\n",
      "  'recall', 'true', average, warn_for)\n"
     ]
    },
    {
     "name": "stdout",
     "output_type": "stream",
     "text": [
      "Training Random Forest\n",
      "Combination 24 of 31\n",
      "Training Random Forest\n"
     ]
    },
    {
     "name": "stderr",
     "output_type": "stream",
     "text": [
      "C:\\ProgramData\\Anaconda3\\lib\\site-packages\\sklearn\\metrics\\classification.py:1439: UndefinedMetricWarning: F-score is ill-defined and being set to 0.0 due to no true samples.\n",
      "  'recall', 'true', average, warn_for)\n",
      "C:\\ProgramData\\Anaconda3\\lib\\site-packages\\sklearn\\metrics\\ranking.py:528: RuntimeWarning: invalid value encountered in true_divide\n",
      "  recall = tps / tps[-1]\n",
      "C:\\ProgramData\\Anaconda3\\lib\\site-packages\\sklearn\\metrics\\ranking.py:113: RuntimeWarning: invalid value encountered in less\n",
      "  if np.any(dx < 0):\n",
      "C:\\ProgramData\\Anaconda3\\lib\\site-packages\\sklearn\\metrics\\classification.py:1439: UndefinedMetricWarning: Recall is ill-defined and being set to 0.0 due to no true samples.\n",
      "  'recall', 'true', average, warn_for)\n"
     ]
    },
    {
     "name": "stdout",
     "output_type": "stream",
     "text": [
      "Training Random Forest\n",
      "Combination 25 of 31\n",
      "Training Random Forest\n"
     ]
    },
    {
     "name": "stderr",
     "output_type": "stream",
     "text": [
      "C:\\ProgramData\\Anaconda3\\lib\\site-packages\\sklearn\\metrics\\classification.py:1439: UndefinedMetricWarning: F-score is ill-defined and being set to 0.0 due to no true samples.\n",
      "  'recall', 'true', average, warn_for)\n",
      "C:\\ProgramData\\Anaconda3\\lib\\site-packages\\sklearn\\metrics\\ranking.py:528: RuntimeWarning: invalid value encountered in true_divide\n",
      "  recall = tps / tps[-1]\n",
      "C:\\ProgramData\\Anaconda3\\lib\\site-packages\\sklearn\\metrics\\ranking.py:113: RuntimeWarning: invalid value encountered in less\n",
      "  if np.any(dx < 0):\n",
      "C:\\ProgramData\\Anaconda3\\lib\\site-packages\\sklearn\\metrics\\classification.py:1439: UndefinedMetricWarning: Recall is ill-defined and being set to 0.0 due to no true samples.\n",
      "  'recall', 'true', average, warn_for)\n"
     ]
    },
    {
     "name": "stdout",
     "output_type": "stream",
     "text": [
      "Training Random Forest\n",
      "Combination 26 of 31\n",
      "Training Random Forest\n"
     ]
    },
    {
     "name": "stderr",
     "output_type": "stream",
     "text": [
      "C:\\ProgramData\\Anaconda3\\lib\\site-packages\\sklearn\\metrics\\classification.py:1439: UndefinedMetricWarning: F-score is ill-defined and being set to 0.0 due to no true samples.\n",
      "  'recall', 'true', average, warn_for)\n",
      "C:\\ProgramData\\Anaconda3\\lib\\site-packages\\sklearn\\metrics\\ranking.py:528: RuntimeWarning: invalid value encountered in true_divide\n",
      "  recall = tps / tps[-1]\n",
      "C:\\ProgramData\\Anaconda3\\lib\\site-packages\\sklearn\\metrics\\ranking.py:113: RuntimeWarning: invalid value encountered in less\n",
      "  if np.any(dx < 0):\n",
      "C:\\ProgramData\\Anaconda3\\lib\\site-packages\\sklearn\\metrics\\classification.py:1439: UndefinedMetricWarning: Recall is ill-defined and being set to 0.0 due to no true samples.\n",
      "  'recall', 'true', average, warn_for)\n"
     ]
    },
    {
     "name": "stdout",
     "output_type": "stream",
     "text": [
      "Training Random Forest\n",
      "Combination 27 of 31\n",
      "Training Random Forest\n"
     ]
    },
    {
     "name": "stderr",
     "output_type": "stream",
     "text": [
      "C:\\ProgramData\\Anaconda3\\lib\\site-packages\\sklearn\\metrics\\classification.py:1439: UndefinedMetricWarning: F-score is ill-defined and being set to 0.0 due to no true samples.\n",
      "  'recall', 'true', average, warn_for)\n",
      "C:\\ProgramData\\Anaconda3\\lib\\site-packages\\sklearn\\metrics\\ranking.py:528: RuntimeWarning: invalid value encountered in true_divide\n",
      "  recall = tps / tps[-1]\n",
      "C:\\ProgramData\\Anaconda3\\lib\\site-packages\\sklearn\\metrics\\ranking.py:113: RuntimeWarning: invalid value encountered in less\n",
      "  if np.any(dx < 0):\n",
      "C:\\ProgramData\\Anaconda3\\lib\\site-packages\\sklearn\\metrics\\classification.py:1439: UndefinedMetricWarning: Recall is ill-defined and being set to 0.0 due to no true samples.\n",
      "  'recall', 'true', average, warn_for)\n"
     ]
    },
    {
     "name": "stdout",
     "output_type": "stream",
     "text": [
      "Training Random Forest\n",
      "Combination 28 of 31\n",
      "Training Random Forest\n"
     ]
    },
    {
     "name": "stderr",
     "output_type": "stream",
     "text": [
      "C:\\ProgramData\\Anaconda3\\lib\\site-packages\\sklearn\\metrics\\classification.py:1439: UndefinedMetricWarning: F-score is ill-defined and being set to 0.0 due to no true samples.\n",
      "  'recall', 'true', average, warn_for)\n",
      "C:\\ProgramData\\Anaconda3\\lib\\site-packages\\sklearn\\metrics\\ranking.py:528: RuntimeWarning: invalid value encountered in true_divide\n",
      "  recall = tps / tps[-1]\n",
      "C:\\ProgramData\\Anaconda3\\lib\\site-packages\\sklearn\\metrics\\ranking.py:113: RuntimeWarning: invalid value encountered in less\n",
      "  if np.any(dx < 0):\n",
      "C:\\ProgramData\\Anaconda3\\lib\\site-packages\\sklearn\\metrics\\classification.py:1439: UndefinedMetricWarning: Recall is ill-defined and being set to 0.0 due to no true samples.\n",
      "  'recall', 'true', average, warn_for)\n"
     ]
    },
    {
     "name": "stdout",
     "output_type": "stream",
     "text": [
      "Training Random Forest\n",
      "Combination 29 of 31\n",
      "Training Random Forest\n"
     ]
    },
    {
     "name": "stderr",
     "output_type": "stream",
     "text": [
      "C:\\ProgramData\\Anaconda3\\lib\\site-packages\\sklearn\\metrics\\classification.py:1439: UndefinedMetricWarning: F-score is ill-defined and being set to 0.0 due to no true samples.\n",
      "  'recall', 'true', average, warn_for)\n",
      "C:\\ProgramData\\Anaconda3\\lib\\site-packages\\sklearn\\metrics\\ranking.py:528: RuntimeWarning: invalid value encountered in true_divide\n",
      "  recall = tps / tps[-1]\n",
      "C:\\ProgramData\\Anaconda3\\lib\\site-packages\\sklearn\\metrics\\ranking.py:113: RuntimeWarning: invalid value encountered in less\n",
      "  if np.any(dx < 0):\n",
      "C:\\ProgramData\\Anaconda3\\lib\\site-packages\\sklearn\\metrics\\classification.py:1439: UndefinedMetricWarning: Recall is ill-defined and being set to 0.0 due to no true samples.\n",
      "  'recall', 'true', average, warn_for)\n"
     ]
    },
    {
     "name": "stdout",
     "output_type": "stream",
     "text": [
      "Training Random Forest\n",
      "Combination 30 of 31\n",
      "Training Random Forest\n"
     ]
    },
    {
     "name": "stderr",
     "output_type": "stream",
     "text": [
      "C:\\ProgramData\\Anaconda3\\lib\\site-packages\\sklearn\\metrics\\classification.py:1439: UndefinedMetricWarning: F-score is ill-defined and being set to 0.0 due to no true samples.\n",
      "  'recall', 'true', average, warn_for)\n",
      "C:\\ProgramData\\Anaconda3\\lib\\site-packages\\sklearn\\metrics\\ranking.py:528: RuntimeWarning: invalid value encountered in true_divide\n",
      "  recall = tps / tps[-1]\n",
      "C:\\ProgramData\\Anaconda3\\lib\\site-packages\\sklearn\\metrics\\ranking.py:113: RuntimeWarning: invalid value encountered in less\n",
      "  if np.any(dx < 0):\n",
      "C:\\ProgramData\\Anaconda3\\lib\\site-packages\\sklearn\\metrics\\classification.py:1439: UndefinedMetricWarning: Recall is ill-defined and being set to 0.0 due to no true samples.\n",
      "  'recall', 'true', average, warn_for)\n"
     ]
    },
    {
     "name": "stdout",
     "output_type": "stream",
     "text": [
      "Training Random Forest\n",
      "Combination 31 of 31\n",
      "Training Random Forest\n"
     ]
    },
    {
     "name": "stderr",
     "output_type": "stream",
     "text": [
      "C:\\ProgramData\\Anaconda3\\lib\\site-packages\\sklearn\\metrics\\classification.py:1439: UndefinedMetricWarning: F-score is ill-defined and being set to 0.0 due to no true samples.\n",
      "  'recall', 'true', average, warn_for)\n",
      "C:\\ProgramData\\Anaconda3\\lib\\site-packages\\sklearn\\metrics\\ranking.py:528: RuntimeWarning: invalid value encountered in true_divide\n",
      "  recall = tps / tps[-1]\n",
      "C:\\ProgramData\\Anaconda3\\lib\\site-packages\\sklearn\\metrics\\ranking.py:113: RuntimeWarning: invalid value encountered in less\n",
      "  if np.any(dx < 0):\n",
      "C:\\ProgramData\\Anaconda3\\lib\\site-packages\\sklearn\\metrics\\classification.py:1439: UndefinedMetricWarning: Recall is ill-defined and being set to 0.0 due to no true samples.\n",
      "  'recall', 'true', average, warn_for)\n"
     ]
    },
    {
     "name": "stdout",
     "output_type": "stream",
     "text": [
      "Training Random Forest\n",
      "sensor, Bradykinesia\n",
      "Combination 1 of 31\n",
      "Training Random Forest\n",
      "Training Random Forest\n",
      "Combination 2 of 31\n",
      "Training Random Forest\n",
      "Training Random Forest\n",
      "Combination 3 of 31\n",
      "Training Random Forest\n",
      "Training Random Forest\n",
      "Combination 4 of 31\n",
      "Training Random Forest\n",
      "Training Random Forest\n",
      "Combination 5 of 31\n",
      "Training Random Forest\n",
      "Training Random Forest\n",
      "Combination 6 of 31\n",
      "Training Random Forest\n",
      "Training Random Forest\n",
      "Combination 7 of 31\n",
      "Training Random Forest\n",
      "Training Random Forest\n",
      "Combination 8 of 31\n",
      "Training Random Forest\n",
      "Training Random Forest\n",
      "Combination 9 of 31\n",
      "Training Random Forest\n",
      "Training Random Forest\n",
      "Combination 10 of 31\n",
      "Training Random Forest\n",
      "Training Random Forest\n",
      "Combination 11 of 31\n",
      "Training Random Forest\n",
      "Training Random Forest\n",
      "Combination 12 of 31\n",
      "Training Random Forest\n",
      "Training Random Forest\n",
      "Combination 13 of 31\n",
      "Training Random Forest\n",
      "Training Random Forest\n",
      "Combination 14 of 31\n",
      "Training Random Forest\n",
      "Training Random Forest\n",
      "Combination 15 of 31\n",
      "Training Random Forest\n",
      "Training Random Forest\n",
      "Combination 16 of 31\n",
      "Training Random Forest\n",
      "Training Random Forest\n",
      "Combination 17 of 31\n",
      "Training Random Forest\n",
      "Training Random Forest\n",
      "Combination 18 of 31\n",
      "Training Random Forest\n",
      "Training Random Forest\n",
      "Combination 19 of 31\n",
      "Training Random Forest\n",
      "Training Random Forest\n",
      "Combination 20 of 31\n",
      "Training Random Forest\n",
      "Training Random Forest\n",
      "Combination 21 of 31\n",
      "Training Random Forest\n",
      "Training Random Forest\n",
      "Combination 22 of 31\n",
      "Training Random Forest\n",
      "Training Random Forest\n",
      "Combination 23 of 31\n",
      "Training Random Forest\n",
      "Training Random Forest\n",
      "Combination 24 of 31\n",
      "Training Random Forest\n",
      "Training Random Forest\n",
      "Combination 25 of 31\n",
      "Training Random Forest\n",
      "Training Random Forest\n",
      "Combination 26 of 31\n",
      "Training Random Forest\n",
      "Training Random Forest\n",
      "Combination 27 of 31\n",
      "Training Random Forest\n",
      "Training Random Forest\n",
      "Combination 28 of 31\n",
      "Training Random Forest\n",
      "Training Random Forest\n",
      "Combination 29 of 31\n",
      "Training Random Forest\n",
      "Training Random Forest\n",
      "Combination 30 of 31\n",
      "Training Random Forest\n",
      "Training Random Forest\n",
      "Combination 31 of 31\n",
      "Training Random Forest\n",
      "Training Random Forest\n",
      "Elapsed time = 215.073 min\n",
      "watch, Tremor\n",
      "Combination 1 of 31\n",
      "Training Random Forest\n"
     ]
    },
    {
     "name": "stderr",
     "output_type": "stream",
     "text": [
      "C:\\ProgramData\\Anaconda3\\lib\\site-packages\\sklearn\\metrics\\classification.py:1439: UndefinedMetricWarning: F-score is ill-defined and being set to 0.0 due to no true samples.\n",
      "  'recall', 'true', average, warn_for)\n",
      "C:\\ProgramData\\Anaconda3\\lib\\site-packages\\sklearn\\metrics\\ranking.py:528: RuntimeWarning: invalid value encountered in true_divide\n",
      "  recall = tps / tps[-1]\n",
      "C:\\ProgramData\\Anaconda3\\lib\\site-packages\\sklearn\\metrics\\ranking.py:113: RuntimeWarning: invalid value encountered in less\n",
      "  if np.any(dx < 0):\n",
      "C:\\ProgramData\\Anaconda3\\lib\\site-packages\\sklearn\\metrics\\classification.py:1439: UndefinedMetricWarning: Recall is ill-defined and being set to 0.0 due to no true samples.\n",
      "  'recall', 'true', average, warn_for)\n"
     ]
    },
    {
     "name": "stdout",
     "output_type": "stream",
     "text": [
      "Training Random Forest\n",
      "Combination 2 of 31\n",
      "Training Random Forest\n"
     ]
    },
    {
     "name": "stderr",
     "output_type": "stream",
     "text": [
      "C:\\ProgramData\\Anaconda3\\lib\\site-packages\\sklearn\\metrics\\classification.py:1439: UndefinedMetricWarning: F-score is ill-defined and being set to 0.0 due to no true samples.\n",
      "  'recall', 'true', average, warn_for)\n",
      "C:\\ProgramData\\Anaconda3\\lib\\site-packages\\sklearn\\metrics\\ranking.py:528: RuntimeWarning: invalid value encountered in true_divide\n",
      "  recall = tps / tps[-1]\n",
      "C:\\ProgramData\\Anaconda3\\lib\\site-packages\\sklearn\\metrics\\ranking.py:113: RuntimeWarning: invalid value encountered in less\n",
      "  if np.any(dx < 0):\n",
      "C:\\ProgramData\\Anaconda3\\lib\\site-packages\\sklearn\\metrics\\classification.py:1439: UndefinedMetricWarning: Recall is ill-defined and being set to 0.0 due to no true samples.\n",
      "  'recall', 'true', average, warn_for)\n"
     ]
    },
    {
     "name": "stdout",
     "output_type": "stream",
     "text": [
      "Training Random Forest\n",
      "Combination 3 of 31\n",
      "Training Random Forest\n"
     ]
    },
    {
     "name": "stderr",
     "output_type": "stream",
     "text": [
      "C:\\ProgramData\\Anaconda3\\lib\\site-packages\\sklearn\\metrics\\classification.py:1439: UndefinedMetricWarning: F-score is ill-defined and being set to 0.0 due to no true samples.\n",
      "  'recall', 'true', average, warn_for)\n",
      "C:\\ProgramData\\Anaconda3\\lib\\site-packages\\sklearn\\metrics\\ranking.py:528: RuntimeWarning: invalid value encountered in true_divide\n",
      "  recall = tps / tps[-1]\n",
      "C:\\ProgramData\\Anaconda3\\lib\\site-packages\\sklearn\\metrics\\ranking.py:113: RuntimeWarning: invalid value encountered in less\n",
      "  if np.any(dx < 0):\n",
      "C:\\ProgramData\\Anaconda3\\lib\\site-packages\\sklearn\\metrics\\classification.py:1439: UndefinedMetricWarning: Recall is ill-defined and being set to 0.0 due to no true samples.\n",
      "  'recall', 'true', average, warn_for)\n"
     ]
    },
    {
     "name": "stdout",
     "output_type": "stream",
     "text": [
      "Training Random Forest\n",
      "Combination 4 of 31\n",
      "Training Random Forest\n"
     ]
    },
    {
     "name": "stderr",
     "output_type": "stream",
     "text": [
      "C:\\ProgramData\\Anaconda3\\lib\\site-packages\\sklearn\\metrics\\classification.py:1439: UndefinedMetricWarning: F-score is ill-defined and being set to 0.0 due to no true samples.\n",
      "  'recall', 'true', average, warn_for)\n",
      "C:\\ProgramData\\Anaconda3\\lib\\site-packages\\sklearn\\metrics\\ranking.py:528: RuntimeWarning: invalid value encountered in true_divide\n",
      "  recall = tps / tps[-1]\n",
      "C:\\ProgramData\\Anaconda3\\lib\\site-packages\\sklearn\\metrics\\ranking.py:113: RuntimeWarning: invalid value encountered in less\n",
      "  if np.any(dx < 0):\n",
      "C:\\ProgramData\\Anaconda3\\lib\\site-packages\\sklearn\\metrics\\classification.py:1439: UndefinedMetricWarning: Recall is ill-defined and being set to 0.0 due to no true samples.\n",
      "  'recall', 'true', average, warn_for)\n"
     ]
    },
    {
     "name": "stdout",
     "output_type": "stream",
     "text": [
      "Training Random Forest\n",
      "Combination 5 of 31\n",
      "Training Random Forest\n"
     ]
    },
    {
     "name": "stderr",
     "output_type": "stream",
     "text": [
      "C:\\ProgramData\\Anaconda3\\lib\\site-packages\\sklearn\\metrics\\classification.py:1439: UndefinedMetricWarning: F-score is ill-defined and being set to 0.0 due to no true samples.\n",
      "  'recall', 'true', average, warn_for)\n",
      "C:\\ProgramData\\Anaconda3\\lib\\site-packages\\sklearn\\metrics\\ranking.py:528: RuntimeWarning: invalid value encountered in true_divide\n",
      "  recall = tps / tps[-1]\n",
      "C:\\ProgramData\\Anaconda3\\lib\\site-packages\\sklearn\\metrics\\ranking.py:113: RuntimeWarning: invalid value encountered in less\n",
      "  if np.any(dx < 0):\n",
      "C:\\ProgramData\\Anaconda3\\lib\\site-packages\\sklearn\\metrics\\classification.py:1439: UndefinedMetricWarning: Recall is ill-defined and being set to 0.0 due to no true samples.\n",
      "  'recall', 'true', average, warn_for)\n"
     ]
    },
    {
     "name": "stdout",
     "output_type": "stream",
     "text": [
      "Training Random Forest\n",
      "Combination 6 of 31\n",
      "Training Random Forest\n"
     ]
    },
    {
     "name": "stderr",
     "output_type": "stream",
     "text": [
      "C:\\ProgramData\\Anaconda3\\lib\\site-packages\\sklearn\\metrics\\classification.py:1439: UndefinedMetricWarning: F-score is ill-defined and being set to 0.0 due to no true samples.\n",
      "  'recall', 'true', average, warn_for)\n",
      "C:\\ProgramData\\Anaconda3\\lib\\site-packages\\sklearn\\metrics\\ranking.py:528: RuntimeWarning: invalid value encountered in true_divide\n",
      "  recall = tps / tps[-1]\n",
      "C:\\ProgramData\\Anaconda3\\lib\\site-packages\\sklearn\\metrics\\ranking.py:113: RuntimeWarning: invalid value encountered in less\n",
      "  if np.any(dx < 0):\n",
      "C:\\ProgramData\\Anaconda3\\lib\\site-packages\\sklearn\\metrics\\classification.py:1439: UndefinedMetricWarning: Recall is ill-defined and being set to 0.0 due to no true samples.\n",
      "  'recall', 'true', average, warn_for)\n"
     ]
    },
    {
     "name": "stdout",
     "output_type": "stream",
     "text": [
      "Training Random Forest\n",
      "Combination 7 of 31\n",
      "Training Random Forest\n"
     ]
    },
    {
     "name": "stderr",
     "output_type": "stream",
     "text": [
      "C:\\ProgramData\\Anaconda3\\lib\\site-packages\\sklearn\\metrics\\classification.py:1439: UndefinedMetricWarning: F-score is ill-defined and being set to 0.0 due to no true samples.\n",
      "  'recall', 'true', average, warn_for)\n",
      "C:\\ProgramData\\Anaconda3\\lib\\site-packages\\sklearn\\metrics\\ranking.py:528: RuntimeWarning: invalid value encountered in true_divide\n",
      "  recall = tps / tps[-1]\n",
      "C:\\ProgramData\\Anaconda3\\lib\\site-packages\\sklearn\\metrics\\ranking.py:113: RuntimeWarning: invalid value encountered in less\n",
      "  if np.any(dx < 0):\n",
      "C:\\ProgramData\\Anaconda3\\lib\\site-packages\\sklearn\\metrics\\classification.py:1439: UndefinedMetricWarning: Recall is ill-defined and being set to 0.0 due to no true samples.\n",
      "  'recall', 'true', average, warn_for)\n"
     ]
    },
    {
     "name": "stdout",
     "output_type": "stream",
     "text": [
      "Training Random Forest\n",
      "Combination 8 of 31\n",
      "Training Random Forest\n"
     ]
    },
    {
     "name": "stderr",
     "output_type": "stream",
     "text": [
      "C:\\ProgramData\\Anaconda3\\lib\\site-packages\\sklearn\\metrics\\classification.py:1439: UndefinedMetricWarning: F-score is ill-defined and being set to 0.0 due to no true samples.\n",
      "  'recall', 'true', average, warn_for)\n",
      "C:\\ProgramData\\Anaconda3\\lib\\site-packages\\sklearn\\metrics\\ranking.py:528: RuntimeWarning: invalid value encountered in true_divide\n",
      "  recall = tps / tps[-1]\n",
      "C:\\ProgramData\\Anaconda3\\lib\\site-packages\\sklearn\\metrics\\ranking.py:113: RuntimeWarning: invalid value encountered in less\n",
      "  if np.any(dx < 0):\n",
      "C:\\ProgramData\\Anaconda3\\lib\\site-packages\\sklearn\\metrics\\classification.py:1439: UndefinedMetricWarning: Recall is ill-defined and being set to 0.0 due to no true samples.\n",
      "  'recall', 'true', average, warn_for)\n"
     ]
    },
    {
     "name": "stdout",
     "output_type": "stream",
     "text": [
      "Training Random Forest\n",
      "Combination 9 of 31\n",
      "Training Random Forest\n"
     ]
    },
    {
     "name": "stderr",
     "output_type": "stream",
     "text": [
      "C:\\ProgramData\\Anaconda3\\lib\\site-packages\\sklearn\\metrics\\classification.py:1439: UndefinedMetricWarning: F-score is ill-defined and being set to 0.0 due to no true samples.\n",
      "  'recall', 'true', average, warn_for)\n",
      "C:\\ProgramData\\Anaconda3\\lib\\site-packages\\sklearn\\metrics\\ranking.py:528: RuntimeWarning: invalid value encountered in true_divide\n",
      "  recall = tps / tps[-1]\n",
      "C:\\ProgramData\\Anaconda3\\lib\\site-packages\\sklearn\\metrics\\ranking.py:113: RuntimeWarning: invalid value encountered in less\n",
      "  if np.any(dx < 0):\n",
      "C:\\ProgramData\\Anaconda3\\lib\\site-packages\\sklearn\\metrics\\classification.py:1439: UndefinedMetricWarning: Recall is ill-defined and being set to 0.0 due to no true samples.\n",
      "  'recall', 'true', average, warn_for)\n"
     ]
    },
    {
     "name": "stdout",
     "output_type": "stream",
     "text": [
      "Training Random Forest\n",
      "Combination 10 of 31\n",
      "Training Random Forest\n"
     ]
    },
    {
     "name": "stderr",
     "output_type": "stream",
     "text": [
      "C:\\ProgramData\\Anaconda3\\lib\\site-packages\\sklearn\\metrics\\classification.py:1439: UndefinedMetricWarning: F-score is ill-defined and being set to 0.0 due to no true samples.\n",
      "  'recall', 'true', average, warn_for)\n",
      "C:\\ProgramData\\Anaconda3\\lib\\site-packages\\sklearn\\metrics\\ranking.py:528: RuntimeWarning: invalid value encountered in true_divide\n",
      "  recall = tps / tps[-1]\n",
      "C:\\ProgramData\\Anaconda3\\lib\\site-packages\\sklearn\\metrics\\ranking.py:113: RuntimeWarning: invalid value encountered in less\n",
      "  if np.any(dx < 0):\n",
      "C:\\ProgramData\\Anaconda3\\lib\\site-packages\\sklearn\\metrics\\classification.py:1439: UndefinedMetricWarning: Recall is ill-defined and being set to 0.0 due to no true samples.\n",
      "  'recall', 'true', average, warn_for)\n"
     ]
    },
    {
     "name": "stdout",
     "output_type": "stream",
     "text": [
      "Training Random Forest\n",
      "Combination 11 of 31\n",
      "Training Random Forest\n"
     ]
    },
    {
     "name": "stderr",
     "output_type": "stream",
     "text": [
      "C:\\ProgramData\\Anaconda3\\lib\\site-packages\\sklearn\\metrics\\classification.py:1439: UndefinedMetricWarning: F-score is ill-defined and being set to 0.0 due to no true samples.\n",
      "  'recall', 'true', average, warn_for)\n",
      "C:\\ProgramData\\Anaconda3\\lib\\site-packages\\sklearn\\metrics\\ranking.py:528: RuntimeWarning: invalid value encountered in true_divide\n",
      "  recall = tps / tps[-1]\n",
      "C:\\ProgramData\\Anaconda3\\lib\\site-packages\\sklearn\\metrics\\ranking.py:113: RuntimeWarning: invalid value encountered in less\n",
      "  if np.any(dx < 0):\n",
      "C:\\ProgramData\\Anaconda3\\lib\\site-packages\\sklearn\\metrics\\classification.py:1439: UndefinedMetricWarning: Recall is ill-defined and being set to 0.0 due to no true samples.\n",
      "  'recall', 'true', average, warn_for)\n"
     ]
    },
    {
     "name": "stdout",
     "output_type": "stream",
     "text": [
      "Training Random Forest\n",
      "Combination 12 of 31\n",
      "Training Random Forest\n"
     ]
    },
    {
     "name": "stderr",
     "output_type": "stream",
     "text": [
      "C:\\ProgramData\\Anaconda3\\lib\\site-packages\\sklearn\\metrics\\classification.py:1439: UndefinedMetricWarning: F-score is ill-defined and being set to 0.0 due to no true samples.\n",
      "  'recall', 'true', average, warn_for)\n",
      "C:\\ProgramData\\Anaconda3\\lib\\site-packages\\sklearn\\metrics\\ranking.py:528: RuntimeWarning: invalid value encountered in true_divide\n",
      "  recall = tps / tps[-1]\n",
      "C:\\ProgramData\\Anaconda3\\lib\\site-packages\\sklearn\\metrics\\ranking.py:113: RuntimeWarning: invalid value encountered in less\n",
      "  if np.any(dx < 0):\n",
      "C:\\ProgramData\\Anaconda3\\lib\\site-packages\\sklearn\\metrics\\classification.py:1439: UndefinedMetricWarning: Recall is ill-defined and being set to 0.0 due to no true samples.\n",
      "  'recall', 'true', average, warn_for)\n"
     ]
    },
    {
     "name": "stdout",
     "output_type": "stream",
     "text": [
      "Training Random Forest\n",
      "Combination 13 of 31\n",
      "Training Random Forest\n"
     ]
    },
    {
     "name": "stderr",
     "output_type": "stream",
     "text": [
      "C:\\ProgramData\\Anaconda3\\lib\\site-packages\\sklearn\\metrics\\classification.py:1439: UndefinedMetricWarning: F-score is ill-defined and being set to 0.0 due to no true samples.\n",
      "  'recall', 'true', average, warn_for)\n",
      "C:\\ProgramData\\Anaconda3\\lib\\site-packages\\sklearn\\metrics\\ranking.py:528: RuntimeWarning: invalid value encountered in true_divide\n",
      "  recall = tps / tps[-1]\n",
      "C:\\ProgramData\\Anaconda3\\lib\\site-packages\\sklearn\\metrics\\ranking.py:113: RuntimeWarning: invalid value encountered in less\n",
      "  if np.any(dx < 0):\n",
      "C:\\ProgramData\\Anaconda3\\lib\\site-packages\\sklearn\\metrics\\classification.py:1439: UndefinedMetricWarning: Recall is ill-defined and being set to 0.0 due to no true samples.\n",
      "  'recall', 'true', average, warn_for)\n"
     ]
    },
    {
     "name": "stdout",
     "output_type": "stream",
     "text": [
      "Training Random Forest\n",
      "Combination 14 of 31\n",
      "Training Random Forest\n"
     ]
    },
    {
     "name": "stderr",
     "output_type": "stream",
     "text": [
      "C:\\ProgramData\\Anaconda3\\lib\\site-packages\\sklearn\\metrics\\classification.py:1439: UndefinedMetricWarning: F-score is ill-defined and being set to 0.0 due to no true samples.\n",
      "  'recall', 'true', average, warn_for)\n",
      "C:\\ProgramData\\Anaconda3\\lib\\site-packages\\sklearn\\metrics\\ranking.py:528: RuntimeWarning: invalid value encountered in true_divide\n",
      "  recall = tps / tps[-1]\n",
      "C:\\ProgramData\\Anaconda3\\lib\\site-packages\\sklearn\\metrics\\ranking.py:113: RuntimeWarning: invalid value encountered in less\n",
      "  if np.any(dx < 0):\n",
      "C:\\ProgramData\\Anaconda3\\lib\\site-packages\\sklearn\\metrics\\classification.py:1439: UndefinedMetricWarning: Recall is ill-defined and being set to 0.0 due to no true samples.\n",
      "  'recall', 'true', average, warn_for)\n"
     ]
    },
    {
     "name": "stdout",
     "output_type": "stream",
     "text": [
      "Training Random Forest\n",
      "Combination 15 of 31\n",
      "Training Random Forest\n"
     ]
    },
    {
     "name": "stderr",
     "output_type": "stream",
     "text": [
      "C:\\ProgramData\\Anaconda3\\lib\\site-packages\\sklearn\\metrics\\classification.py:1439: UndefinedMetricWarning: F-score is ill-defined and being set to 0.0 due to no true samples.\n",
      "  'recall', 'true', average, warn_for)\n",
      "C:\\ProgramData\\Anaconda3\\lib\\site-packages\\sklearn\\metrics\\ranking.py:528: RuntimeWarning: invalid value encountered in true_divide\n",
      "  recall = tps / tps[-1]\n",
      "C:\\ProgramData\\Anaconda3\\lib\\site-packages\\sklearn\\metrics\\ranking.py:113: RuntimeWarning: invalid value encountered in less\n",
      "  if np.any(dx < 0):\n",
      "C:\\ProgramData\\Anaconda3\\lib\\site-packages\\sklearn\\metrics\\classification.py:1439: UndefinedMetricWarning: Recall is ill-defined and being set to 0.0 due to no true samples.\n",
      "  'recall', 'true', average, warn_for)\n"
     ]
    },
    {
     "name": "stdout",
     "output_type": "stream",
     "text": [
      "Training Random Forest\n",
      "Combination 16 of 31\n",
      "Training Random Forest\n"
     ]
    },
    {
     "name": "stderr",
     "output_type": "stream",
     "text": [
      "C:\\ProgramData\\Anaconda3\\lib\\site-packages\\sklearn\\metrics\\classification.py:1439: UndefinedMetricWarning: F-score is ill-defined and being set to 0.0 due to no true samples.\n",
      "  'recall', 'true', average, warn_for)\n",
      "C:\\ProgramData\\Anaconda3\\lib\\site-packages\\sklearn\\metrics\\ranking.py:528: RuntimeWarning: invalid value encountered in true_divide\n",
      "  recall = tps / tps[-1]\n",
      "C:\\ProgramData\\Anaconda3\\lib\\site-packages\\sklearn\\metrics\\ranking.py:113: RuntimeWarning: invalid value encountered in less\n",
      "  if np.any(dx < 0):\n",
      "C:\\ProgramData\\Anaconda3\\lib\\site-packages\\sklearn\\metrics\\classification.py:1439: UndefinedMetricWarning: Recall is ill-defined and being set to 0.0 due to no true samples.\n",
      "  'recall', 'true', average, warn_for)\n"
     ]
    },
    {
     "name": "stdout",
     "output_type": "stream",
     "text": [
      "Training Random Forest\n",
      "Combination 17 of 31\n",
      "Training Random Forest\n"
     ]
    },
    {
     "name": "stderr",
     "output_type": "stream",
     "text": [
      "C:\\ProgramData\\Anaconda3\\lib\\site-packages\\sklearn\\metrics\\classification.py:1439: UndefinedMetricWarning: F-score is ill-defined and being set to 0.0 due to no true samples.\n",
      "  'recall', 'true', average, warn_for)\n",
      "C:\\ProgramData\\Anaconda3\\lib\\site-packages\\sklearn\\metrics\\ranking.py:528: RuntimeWarning: invalid value encountered in true_divide\n",
      "  recall = tps / tps[-1]\n",
      "C:\\ProgramData\\Anaconda3\\lib\\site-packages\\sklearn\\metrics\\ranking.py:113: RuntimeWarning: invalid value encountered in less\n",
      "  if np.any(dx < 0):\n",
      "C:\\ProgramData\\Anaconda3\\lib\\site-packages\\sklearn\\metrics\\classification.py:1439: UndefinedMetricWarning: Recall is ill-defined and being set to 0.0 due to no true samples.\n",
      "  'recall', 'true', average, warn_for)\n"
     ]
    },
    {
     "name": "stdout",
     "output_type": "stream",
     "text": [
      "Training Random Forest\n",
      "Combination 18 of 31\n",
      "Training Random Forest\n"
     ]
    },
    {
     "name": "stderr",
     "output_type": "stream",
     "text": [
      "C:\\ProgramData\\Anaconda3\\lib\\site-packages\\sklearn\\metrics\\classification.py:1439: UndefinedMetricWarning: F-score is ill-defined and being set to 0.0 due to no true samples.\n",
      "  'recall', 'true', average, warn_for)\n",
      "C:\\ProgramData\\Anaconda3\\lib\\site-packages\\sklearn\\metrics\\ranking.py:528: RuntimeWarning: invalid value encountered in true_divide\n",
      "  recall = tps / tps[-1]\n",
      "C:\\ProgramData\\Anaconda3\\lib\\site-packages\\sklearn\\metrics\\ranking.py:113: RuntimeWarning: invalid value encountered in less\n",
      "  if np.any(dx < 0):\n",
      "C:\\ProgramData\\Anaconda3\\lib\\site-packages\\sklearn\\metrics\\classification.py:1439: UndefinedMetricWarning: Recall is ill-defined and being set to 0.0 due to no true samples.\n",
      "  'recall', 'true', average, warn_for)\n"
     ]
    },
    {
     "name": "stdout",
     "output_type": "stream",
     "text": [
      "Training Random Forest\n",
      "Combination 19 of 31\n",
      "Training Random Forest\n"
     ]
    },
    {
     "name": "stderr",
     "output_type": "stream",
     "text": [
      "C:\\ProgramData\\Anaconda3\\lib\\site-packages\\sklearn\\metrics\\classification.py:1439: UndefinedMetricWarning: F-score is ill-defined and being set to 0.0 due to no true samples.\n",
      "  'recall', 'true', average, warn_for)\n",
      "C:\\ProgramData\\Anaconda3\\lib\\site-packages\\sklearn\\metrics\\ranking.py:528: RuntimeWarning: invalid value encountered in true_divide\n",
      "  recall = tps / tps[-1]\n",
      "C:\\ProgramData\\Anaconda3\\lib\\site-packages\\sklearn\\metrics\\ranking.py:113: RuntimeWarning: invalid value encountered in less\n",
      "  if np.any(dx < 0):\n",
      "C:\\ProgramData\\Anaconda3\\lib\\site-packages\\sklearn\\metrics\\classification.py:1439: UndefinedMetricWarning: Recall is ill-defined and being set to 0.0 due to no true samples.\n",
      "  'recall', 'true', average, warn_for)\n"
     ]
    },
    {
     "name": "stdout",
     "output_type": "stream",
     "text": [
      "Training Random Forest\n",
      "Combination 20 of 31\n",
      "Training Random Forest\n"
     ]
    },
    {
     "name": "stderr",
     "output_type": "stream",
     "text": [
      "C:\\ProgramData\\Anaconda3\\lib\\site-packages\\sklearn\\metrics\\classification.py:1439: UndefinedMetricWarning: F-score is ill-defined and being set to 0.0 due to no true samples.\n",
      "  'recall', 'true', average, warn_for)\n",
      "C:\\ProgramData\\Anaconda3\\lib\\site-packages\\sklearn\\metrics\\ranking.py:528: RuntimeWarning: invalid value encountered in true_divide\n",
      "  recall = tps / tps[-1]\n",
      "C:\\ProgramData\\Anaconda3\\lib\\site-packages\\sklearn\\metrics\\ranking.py:113: RuntimeWarning: invalid value encountered in less\n",
      "  if np.any(dx < 0):\n",
      "C:\\ProgramData\\Anaconda3\\lib\\site-packages\\sklearn\\metrics\\classification.py:1439: UndefinedMetricWarning: Recall is ill-defined and being set to 0.0 due to no true samples.\n",
      "  'recall', 'true', average, warn_for)\n"
     ]
    },
    {
     "name": "stdout",
     "output_type": "stream",
     "text": [
      "Training Random Forest\n",
      "Combination 21 of 31\n",
      "Training Random Forest\n"
     ]
    },
    {
     "name": "stderr",
     "output_type": "stream",
     "text": [
      "C:\\ProgramData\\Anaconda3\\lib\\site-packages\\sklearn\\metrics\\classification.py:1439: UndefinedMetricWarning: F-score is ill-defined and being set to 0.0 due to no true samples.\n",
      "  'recall', 'true', average, warn_for)\n",
      "C:\\ProgramData\\Anaconda3\\lib\\site-packages\\sklearn\\metrics\\ranking.py:528: RuntimeWarning: invalid value encountered in true_divide\n",
      "  recall = tps / tps[-1]\n",
      "C:\\ProgramData\\Anaconda3\\lib\\site-packages\\sklearn\\metrics\\ranking.py:113: RuntimeWarning: invalid value encountered in less\n",
      "  if np.any(dx < 0):\n",
      "C:\\ProgramData\\Anaconda3\\lib\\site-packages\\sklearn\\metrics\\classification.py:1439: UndefinedMetricWarning: Recall is ill-defined and being set to 0.0 due to no true samples.\n",
      "  'recall', 'true', average, warn_for)\n"
     ]
    },
    {
     "name": "stdout",
     "output_type": "stream",
     "text": [
      "Training Random Forest\n",
      "Combination 22 of 31\n",
      "Training Random Forest\n"
     ]
    },
    {
     "name": "stderr",
     "output_type": "stream",
     "text": [
      "C:\\ProgramData\\Anaconda3\\lib\\site-packages\\sklearn\\metrics\\classification.py:1439: UndefinedMetricWarning: F-score is ill-defined and being set to 0.0 due to no true samples.\n",
      "  'recall', 'true', average, warn_for)\n",
      "C:\\ProgramData\\Anaconda3\\lib\\site-packages\\sklearn\\metrics\\ranking.py:528: RuntimeWarning: invalid value encountered in true_divide\n",
      "  recall = tps / tps[-1]\n",
      "C:\\ProgramData\\Anaconda3\\lib\\site-packages\\sklearn\\metrics\\ranking.py:113: RuntimeWarning: invalid value encountered in less\n",
      "  if np.any(dx < 0):\n",
      "C:\\ProgramData\\Anaconda3\\lib\\site-packages\\sklearn\\metrics\\classification.py:1439: UndefinedMetricWarning: Recall is ill-defined and being set to 0.0 due to no true samples.\n",
      "  'recall', 'true', average, warn_for)\n"
     ]
    },
    {
     "name": "stdout",
     "output_type": "stream",
     "text": [
      "Training Random Forest\n",
      "Combination 23 of 31\n",
      "Training Random Forest\n"
     ]
    },
    {
     "name": "stderr",
     "output_type": "stream",
     "text": [
      "C:\\ProgramData\\Anaconda3\\lib\\site-packages\\sklearn\\metrics\\classification.py:1439: UndefinedMetricWarning: F-score is ill-defined and being set to 0.0 due to no true samples.\n",
      "  'recall', 'true', average, warn_for)\n",
      "C:\\ProgramData\\Anaconda3\\lib\\site-packages\\sklearn\\metrics\\ranking.py:528: RuntimeWarning: invalid value encountered in true_divide\n",
      "  recall = tps / tps[-1]\n",
      "C:\\ProgramData\\Anaconda3\\lib\\site-packages\\sklearn\\metrics\\ranking.py:113: RuntimeWarning: invalid value encountered in less\n",
      "  if np.any(dx < 0):\n",
      "C:\\ProgramData\\Anaconda3\\lib\\site-packages\\sklearn\\metrics\\classification.py:1439: UndefinedMetricWarning: Recall is ill-defined and being set to 0.0 due to no true samples.\n",
      "  'recall', 'true', average, warn_for)\n"
     ]
    },
    {
     "name": "stdout",
     "output_type": "stream",
     "text": [
      "Training Random Forest\n",
      "Combination 24 of 31\n",
      "Training Random Forest\n"
     ]
    },
    {
     "name": "stderr",
     "output_type": "stream",
     "text": [
      "C:\\ProgramData\\Anaconda3\\lib\\site-packages\\sklearn\\metrics\\classification.py:1439: UndefinedMetricWarning: F-score is ill-defined and being set to 0.0 due to no true samples.\n",
      "  'recall', 'true', average, warn_for)\n",
      "C:\\ProgramData\\Anaconda3\\lib\\site-packages\\sklearn\\metrics\\ranking.py:528: RuntimeWarning: invalid value encountered in true_divide\n",
      "  recall = tps / tps[-1]\n",
      "C:\\ProgramData\\Anaconda3\\lib\\site-packages\\sklearn\\metrics\\ranking.py:113: RuntimeWarning: invalid value encountered in less\n",
      "  if np.any(dx < 0):\n",
      "C:\\ProgramData\\Anaconda3\\lib\\site-packages\\sklearn\\metrics\\classification.py:1439: UndefinedMetricWarning: Recall is ill-defined and being set to 0.0 due to no true samples.\n",
      "  'recall', 'true', average, warn_for)\n"
     ]
    },
    {
     "name": "stdout",
     "output_type": "stream",
     "text": [
      "Training Random Forest\n",
      "Combination 25 of 31\n",
      "Training Random Forest\n"
     ]
    },
    {
     "name": "stderr",
     "output_type": "stream",
     "text": [
      "C:\\ProgramData\\Anaconda3\\lib\\site-packages\\sklearn\\metrics\\classification.py:1439: UndefinedMetricWarning: F-score is ill-defined and being set to 0.0 due to no true samples.\n",
      "  'recall', 'true', average, warn_for)\n",
      "C:\\ProgramData\\Anaconda3\\lib\\site-packages\\sklearn\\metrics\\ranking.py:528: RuntimeWarning: invalid value encountered in true_divide\n",
      "  recall = tps / tps[-1]\n",
      "C:\\ProgramData\\Anaconda3\\lib\\site-packages\\sklearn\\metrics\\ranking.py:113: RuntimeWarning: invalid value encountered in less\n",
      "  if np.any(dx < 0):\n",
      "C:\\ProgramData\\Anaconda3\\lib\\site-packages\\sklearn\\metrics\\classification.py:1439: UndefinedMetricWarning: Recall is ill-defined and being set to 0.0 due to no true samples.\n",
      "  'recall', 'true', average, warn_for)\n"
     ]
    },
    {
     "name": "stdout",
     "output_type": "stream",
     "text": [
      "Training Random Forest\n",
      "Combination 26 of 31\n",
      "Training Random Forest\n"
     ]
    },
    {
     "name": "stderr",
     "output_type": "stream",
     "text": [
      "C:\\ProgramData\\Anaconda3\\lib\\site-packages\\sklearn\\metrics\\classification.py:1439: UndefinedMetricWarning: F-score is ill-defined and being set to 0.0 due to no true samples.\n",
      "  'recall', 'true', average, warn_for)\n",
      "C:\\ProgramData\\Anaconda3\\lib\\site-packages\\sklearn\\metrics\\ranking.py:528: RuntimeWarning: invalid value encountered in true_divide\n",
      "  recall = tps / tps[-1]\n",
      "C:\\ProgramData\\Anaconda3\\lib\\site-packages\\sklearn\\metrics\\ranking.py:113: RuntimeWarning: invalid value encountered in less\n",
      "  if np.any(dx < 0):\n",
      "C:\\ProgramData\\Anaconda3\\lib\\site-packages\\sklearn\\metrics\\classification.py:1439: UndefinedMetricWarning: Recall is ill-defined and being set to 0.0 due to no true samples.\n",
      "  'recall', 'true', average, warn_for)\n"
     ]
    },
    {
     "name": "stdout",
     "output_type": "stream",
     "text": [
      "Training Random Forest\n",
      "Combination 27 of 31\n",
      "Training Random Forest\n"
     ]
    },
    {
     "name": "stderr",
     "output_type": "stream",
     "text": [
      "C:\\ProgramData\\Anaconda3\\lib\\site-packages\\sklearn\\metrics\\classification.py:1439: UndefinedMetricWarning: F-score is ill-defined and being set to 0.0 due to no true samples.\n",
      "  'recall', 'true', average, warn_for)\n",
      "C:\\ProgramData\\Anaconda3\\lib\\site-packages\\sklearn\\metrics\\ranking.py:528: RuntimeWarning: invalid value encountered in true_divide\n",
      "  recall = tps / tps[-1]\n",
      "C:\\ProgramData\\Anaconda3\\lib\\site-packages\\sklearn\\metrics\\ranking.py:113: RuntimeWarning: invalid value encountered in less\n",
      "  if np.any(dx < 0):\n",
      "C:\\ProgramData\\Anaconda3\\lib\\site-packages\\sklearn\\metrics\\classification.py:1439: UndefinedMetricWarning: Recall is ill-defined and being set to 0.0 due to no true samples.\n",
      "  'recall', 'true', average, warn_for)\n"
     ]
    },
    {
     "name": "stdout",
     "output_type": "stream",
     "text": [
      "Training Random Forest\n",
      "Combination 28 of 31\n",
      "Training Random Forest\n"
     ]
    },
    {
     "name": "stderr",
     "output_type": "stream",
     "text": [
      "C:\\ProgramData\\Anaconda3\\lib\\site-packages\\sklearn\\metrics\\classification.py:1439: UndefinedMetricWarning: F-score is ill-defined and being set to 0.0 due to no true samples.\n",
      "  'recall', 'true', average, warn_for)\n",
      "C:\\ProgramData\\Anaconda3\\lib\\site-packages\\sklearn\\metrics\\ranking.py:528: RuntimeWarning: invalid value encountered in true_divide\n",
      "  recall = tps / tps[-1]\n",
      "C:\\ProgramData\\Anaconda3\\lib\\site-packages\\sklearn\\metrics\\ranking.py:113: RuntimeWarning: invalid value encountered in less\n",
      "  if np.any(dx < 0):\n",
      "C:\\ProgramData\\Anaconda3\\lib\\site-packages\\sklearn\\metrics\\classification.py:1439: UndefinedMetricWarning: Recall is ill-defined and being set to 0.0 due to no true samples.\n",
      "  'recall', 'true', average, warn_for)\n"
     ]
    },
    {
     "name": "stdout",
     "output_type": "stream",
     "text": [
      "Training Random Forest\n",
      "Combination 29 of 31\n",
      "Training Random Forest\n"
     ]
    },
    {
     "name": "stderr",
     "output_type": "stream",
     "text": [
      "C:\\ProgramData\\Anaconda3\\lib\\site-packages\\sklearn\\metrics\\classification.py:1439: UndefinedMetricWarning: F-score is ill-defined and being set to 0.0 due to no true samples.\n",
      "  'recall', 'true', average, warn_for)\n",
      "C:\\ProgramData\\Anaconda3\\lib\\site-packages\\sklearn\\metrics\\ranking.py:528: RuntimeWarning: invalid value encountered in true_divide\n",
      "  recall = tps / tps[-1]\n",
      "C:\\ProgramData\\Anaconda3\\lib\\site-packages\\sklearn\\metrics\\ranking.py:113: RuntimeWarning: invalid value encountered in less\n",
      "  if np.any(dx < 0):\n",
      "C:\\ProgramData\\Anaconda3\\lib\\site-packages\\sklearn\\metrics\\classification.py:1439: UndefinedMetricWarning: Recall is ill-defined and being set to 0.0 due to no true samples.\n",
      "  'recall', 'true', average, warn_for)\n"
     ]
    },
    {
     "name": "stdout",
     "output_type": "stream",
     "text": [
      "Training Random Forest\n",
      "Combination 30 of 31\n",
      "Training Random Forest\n"
     ]
    },
    {
     "name": "stderr",
     "output_type": "stream",
     "text": [
      "C:\\ProgramData\\Anaconda3\\lib\\site-packages\\sklearn\\metrics\\classification.py:1439: UndefinedMetricWarning: F-score is ill-defined and being set to 0.0 due to no true samples.\n",
      "  'recall', 'true', average, warn_for)\n",
      "C:\\ProgramData\\Anaconda3\\lib\\site-packages\\sklearn\\metrics\\ranking.py:528: RuntimeWarning: invalid value encountered in true_divide\n",
      "  recall = tps / tps[-1]\n",
      "C:\\ProgramData\\Anaconda3\\lib\\site-packages\\sklearn\\metrics\\ranking.py:113: RuntimeWarning: invalid value encountered in less\n",
      "  if np.any(dx < 0):\n",
      "C:\\ProgramData\\Anaconda3\\lib\\site-packages\\sklearn\\metrics\\classification.py:1439: UndefinedMetricWarning: Recall is ill-defined and being set to 0.0 due to no true samples.\n",
      "  'recall', 'true', average, warn_for)\n"
     ]
    },
    {
     "name": "stdout",
     "output_type": "stream",
     "text": [
      "Training Random Forest\n",
      "Combination 31 of 31\n",
      "Training Random Forest\n"
     ]
    },
    {
     "name": "stderr",
     "output_type": "stream",
     "text": [
      "C:\\ProgramData\\Anaconda3\\lib\\site-packages\\sklearn\\metrics\\classification.py:1439: UndefinedMetricWarning: F-score is ill-defined and being set to 0.0 due to no true samples.\n",
      "  'recall', 'true', average, warn_for)\n",
      "C:\\ProgramData\\Anaconda3\\lib\\site-packages\\sklearn\\metrics\\ranking.py:528: RuntimeWarning: invalid value encountered in true_divide\n",
      "  recall = tps / tps[-1]\n",
      "C:\\ProgramData\\Anaconda3\\lib\\site-packages\\sklearn\\metrics\\ranking.py:113: RuntimeWarning: invalid value encountered in less\n",
      "  if np.any(dx < 0):\n",
      "C:\\ProgramData\\Anaconda3\\lib\\site-packages\\sklearn\\metrics\\classification.py:1439: UndefinedMetricWarning: Recall is ill-defined and being set to 0.0 due to no true samples.\n",
      "  'recall', 'true', average, warn_for)\n"
     ]
    },
    {
     "name": "stdout",
     "output_type": "stream",
     "text": [
      "Training Random Forest\n",
      "watch, Bradykinesia\n",
      "Combination 1 of 31\n",
      "Training Random Forest\n",
      "Training Random Forest\n",
      "Combination 2 of 31\n",
      "Training Random Forest\n",
      "Training Random Forest\n",
      "Combination 3 of 31\n",
      "Training Random Forest\n",
      "Training Random Forest\n",
      "Combination 4 of 31\n",
      "Training Random Forest\n",
      "Training Random Forest\n",
      "Combination 5 of 31\n",
      "Training Random Forest\n",
      "Training Random Forest\n",
      "Combination 6 of 31\n",
      "Training Random Forest\n",
      "Training Random Forest\n",
      "Combination 7 of 31\n",
      "Training Random Forest\n",
      "Training Random Forest\n",
      "Combination 8 of 31\n",
      "Training Random Forest\n",
      "Training Random Forest\n",
      "Combination 9 of 31\n",
      "Training Random Forest\n",
      "Training Random Forest\n",
      "Combination 10 of 31\n",
      "Training Random Forest\n",
      "Training Random Forest\n",
      "Combination 11 of 31\n",
      "Training Random Forest\n",
      "Training Random Forest\n",
      "Combination 12 of 31\n",
      "Training Random Forest\n",
      "Training Random Forest\n",
      "Combination 13 of 31\n",
      "Training Random Forest\n",
      "Training Random Forest\n",
      "Combination 14 of 31\n",
      "Training Random Forest\n",
      "Training Random Forest\n",
      "Combination 15 of 31\n",
      "Training Random Forest\n",
      "Training Random Forest\n",
      "Combination 16 of 31\n",
      "Training Random Forest\n",
      "Training Random Forest\n",
      "Combination 17 of 31\n",
      "Training Random Forest\n",
      "Training Random Forest\n",
      "Combination 18 of 31\n",
      "Training Random Forest\n",
      "Training Random Forest\n",
      "Combination 19 of 31\n",
      "Training Random Forest\n",
      "Training Random Forest\n",
      "Combination 20 of 31\n",
      "Training Random Forest\n",
      "Training Random Forest\n",
      "Combination 21 of 31\n",
      "Training Random Forest\n",
      "Training Random Forest\n",
      "Combination 22 of 31\n",
      "Training Random Forest\n",
      "Training Random Forest\n",
      "Combination 23 of 31\n",
      "Training Random Forest\n",
      "Training Random Forest\n",
      "Combination 24 of 31\n",
      "Training Random Forest\n",
      "Training Random Forest\n",
      "Combination 25 of 31\n",
      "Training Random Forest\n",
      "Training Random Forest\n",
      "Combination 26 of 31\n",
      "Training Random Forest\n",
      "Training Random Forest\n",
      "Combination 27 of 31\n",
      "Training Random Forest\n",
      "Training Random Forest\n",
      "Combination 28 of 31\n",
      "Training Random Forest\n",
      "Training Random Forest\n",
      "Combination 29 of 31\n",
      "Training Random Forest\n",
      "Training Random Forest\n",
      "Combination 30 of 31\n",
      "Training Random Forest\n",
      "Training Random Forest\n",
      "Combination 31 of 31\n",
      "Training Random Forest\n",
      "Training Random Forest\n",
      "sensor, Tremor\n",
      "Combination 1 of 31\n",
      "Training Random Forest\n"
     ]
    },
    {
     "name": "stderr",
     "output_type": "stream",
     "text": [
      "C:\\ProgramData\\Anaconda3\\lib\\site-packages\\sklearn\\metrics\\classification.py:1439: UndefinedMetricWarning: F-score is ill-defined and being set to 0.0 due to no true samples.\n",
      "  'recall', 'true', average, warn_for)\n",
      "C:\\ProgramData\\Anaconda3\\lib\\site-packages\\sklearn\\metrics\\ranking.py:528: RuntimeWarning: invalid value encountered in true_divide\n",
      "  recall = tps / tps[-1]\n",
      "C:\\ProgramData\\Anaconda3\\lib\\site-packages\\sklearn\\metrics\\ranking.py:113: RuntimeWarning: invalid value encountered in less\n",
      "  if np.any(dx < 0):\n",
      "C:\\ProgramData\\Anaconda3\\lib\\site-packages\\sklearn\\metrics\\classification.py:1439: UndefinedMetricWarning: Recall is ill-defined and being set to 0.0 due to no true samples.\n",
      "  'recall', 'true', average, warn_for)\n"
     ]
    },
    {
     "name": "stdout",
     "output_type": "stream",
     "text": [
      "Training Random Forest\n",
      "Combination 2 of 31\n",
      "Training Random Forest\n"
     ]
    },
    {
     "name": "stderr",
     "output_type": "stream",
     "text": [
      "C:\\ProgramData\\Anaconda3\\lib\\site-packages\\sklearn\\metrics\\classification.py:1439: UndefinedMetricWarning: F-score is ill-defined and being set to 0.0 due to no true samples.\n",
      "  'recall', 'true', average, warn_for)\n",
      "C:\\ProgramData\\Anaconda3\\lib\\site-packages\\sklearn\\metrics\\ranking.py:528: RuntimeWarning: invalid value encountered in true_divide\n",
      "  recall = tps / tps[-1]\n",
      "C:\\ProgramData\\Anaconda3\\lib\\site-packages\\sklearn\\metrics\\ranking.py:113: RuntimeWarning: invalid value encountered in less\n",
      "  if np.any(dx < 0):\n",
      "C:\\ProgramData\\Anaconda3\\lib\\site-packages\\sklearn\\metrics\\classification.py:1439: UndefinedMetricWarning: Recall is ill-defined and being set to 0.0 due to no true samples.\n",
      "  'recall', 'true', average, warn_for)\n"
     ]
    },
    {
     "name": "stdout",
     "output_type": "stream",
     "text": [
      "Training Random Forest\n",
      "Combination 3 of 31\n",
      "Training Random Forest\n"
     ]
    },
    {
     "name": "stderr",
     "output_type": "stream",
     "text": [
      "C:\\ProgramData\\Anaconda3\\lib\\site-packages\\sklearn\\metrics\\classification.py:1439: UndefinedMetricWarning: F-score is ill-defined and being set to 0.0 due to no true samples.\n",
      "  'recall', 'true', average, warn_for)\n",
      "C:\\ProgramData\\Anaconda3\\lib\\site-packages\\sklearn\\metrics\\ranking.py:528: RuntimeWarning: invalid value encountered in true_divide\n",
      "  recall = tps / tps[-1]\n",
      "C:\\ProgramData\\Anaconda3\\lib\\site-packages\\sklearn\\metrics\\ranking.py:113: RuntimeWarning: invalid value encountered in less\n",
      "  if np.any(dx < 0):\n",
      "C:\\ProgramData\\Anaconda3\\lib\\site-packages\\sklearn\\metrics\\classification.py:1439: UndefinedMetricWarning: Recall is ill-defined and being set to 0.0 due to no true samples.\n",
      "  'recall', 'true', average, warn_for)\n"
     ]
    },
    {
     "name": "stdout",
     "output_type": "stream",
     "text": [
      "Training Random Forest\n",
      "Combination 4 of 31\n",
      "Training Random Forest\n"
     ]
    },
    {
     "name": "stderr",
     "output_type": "stream",
     "text": [
      "C:\\ProgramData\\Anaconda3\\lib\\site-packages\\sklearn\\metrics\\classification.py:1439: UndefinedMetricWarning: F-score is ill-defined and being set to 0.0 due to no true samples.\n",
      "  'recall', 'true', average, warn_for)\n",
      "C:\\ProgramData\\Anaconda3\\lib\\site-packages\\sklearn\\metrics\\ranking.py:528: RuntimeWarning: invalid value encountered in true_divide\n",
      "  recall = tps / tps[-1]\n",
      "C:\\ProgramData\\Anaconda3\\lib\\site-packages\\sklearn\\metrics\\ranking.py:113: RuntimeWarning: invalid value encountered in less\n",
      "  if np.any(dx < 0):\n",
      "C:\\ProgramData\\Anaconda3\\lib\\site-packages\\sklearn\\metrics\\classification.py:1439: UndefinedMetricWarning: Recall is ill-defined and being set to 0.0 due to no true samples.\n",
      "  'recall', 'true', average, warn_for)\n"
     ]
    },
    {
     "name": "stdout",
     "output_type": "stream",
     "text": [
      "Training Random Forest\n",
      "Combination 5 of 31\n",
      "Training Random Forest\n"
     ]
    },
    {
     "name": "stderr",
     "output_type": "stream",
     "text": [
      "C:\\ProgramData\\Anaconda3\\lib\\site-packages\\sklearn\\metrics\\classification.py:1439: UndefinedMetricWarning: F-score is ill-defined and being set to 0.0 due to no true samples.\n",
      "  'recall', 'true', average, warn_for)\n",
      "C:\\ProgramData\\Anaconda3\\lib\\site-packages\\sklearn\\metrics\\ranking.py:528: RuntimeWarning: invalid value encountered in true_divide\n",
      "  recall = tps / tps[-1]\n",
      "C:\\ProgramData\\Anaconda3\\lib\\site-packages\\sklearn\\metrics\\ranking.py:113: RuntimeWarning: invalid value encountered in less\n",
      "  if np.any(dx < 0):\n",
      "C:\\ProgramData\\Anaconda3\\lib\\site-packages\\sklearn\\metrics\\classification.py:1439: UndefinedMetricWarning: Recall is ill-defined and being set to 0.0 due to no true samples.\n",
      "  'recall', 'true', average, warn_for)\n"
     ]
    },
    {
     "name": "stdout",
     "output_type": "stream",
     "text": [
      "Training Random Forest\n",
      "Combination 6 of 31\n",
      "Training Random Forest\n"
     ]
    },
    {
     "name": "stderr",
     "output_type": "stream",
     "text": [
      "C:\\ProgramData\\Anaconda3\\lib\\site-packages\\sklearn\\metrics\\classification.py:1439: UndefinedMetricWarning: F-score is ill-defined and being set to 0.0 due to no true samples.\n",
      "  'recall', 'true', average, warn_for)\n",
      "C:\\ProgramData\\Anaconda3\\lib\\site-packages\\sklearn\\metrics\\ranking.py:528: RuntimeWarning: invalid value encountered in true_divide\n",
      "  recall = tps / tps[-1]\n",
      "C:\\ProgramData\\Anaconda3\\lib\\site-packages\\sklearn\\metrics\\ranking.py:113: RuntimeWarning: invalid value encountered in less\n",
      "  if np.any(dx < 0):\n",
      "C:\\ProgramData\\Anaconda3\\lib\\site-packages\\sklearn\\metrics\\classification.py:1439: UndefinedMetricWarning: Recall is ill-defined and being set to 0.0 due to no true samples.\n",
      "  'recall', 'true', average, warn_for)\n"
     ]
    },
    {
     "name": "stdout",
     "output_type": "stream",
     "text": [
      "Training Random Forest\n",
      "Combination 7 of 31\n",
      "Training Random Forest\n"
     ]
    },
    {
     "name": "stderr",
     "output_type": "stream",
     "text": [
      "C:\\ProgramData\\Anaconda3\\lib\\site-packages\\sklearn\\metrics\\classification.py:1439: UndefinedMetricWarning: F-score is ill-defined and being set to 0.0 due to no true samples.\n",
      "  'recall', 'true', average, warn_for)\n",
      "C:\\ProgramData\\Anaconda3\\lib\\site-packages\\sklearn\\metrics\\ranking.py:528: RuntimeWarning: invalid value encountered in true_divide\n",
      "  recall = tps / tps[-1]\n",
      "C:\\ProgramData\\Anaconda3\\lib\\site-packages\\sklearn\\metrics\\ranking.py:113: RuntimeWarning: invalid value encountered in less\n",
      "  if np.any(dx < 0):\n",
      "C:\\ProgramData\\Anaconda3\\lib\\site-packages\\sklearn\\metrics\\classification.py:1439: UndefinedMetricWarning: Recall is ill-defined and being set to 0.0 due to no true samples.\n",
      "  'recall', 'true', average, warn_for)\n"
     ]
    },
    {
     "name": "stdout",
     "output_type": "stream",
     "text": [
      "Training Random Forest\n",
      "Combination 8 of 31\n",
      "Training Random Forest\n"
     ]
    },
    {
     "name": "stderr",
     "output_type": "stream",
     "text": [
      "C:\\ProgramData\\Anaconda3\\lib\\site-packages\\sklearn\\metrics\\classification.py:1439: UndefinedMetricWarning: F-score is ill-defined and being set to 0.0 due to no true samples.\n",
      "  'recall', 'true', average, warn_for)\n",
      "C:\\ProgramData\\Anaconda3\\lib\\site-packages\\sklearn\\metrics\\ranking.py:528: RuntimeWarning: invalid value encountered in true_divide\n",
      "  recall = tps / tps[-1]\n",
      "C:\\ProgramData\\Anaconda3\\lib\\site-packages\\sklearn\\metrics\\ranking.py:113: RuntimeWarning: invalid value encountered in less\n",
      "  if np.any(dx < 0):\n",
      "C:\\ProgramData\\Anaconda3\\lib\\site-packages\\sklearn\\metrics\\classification.py:1439: UndefinedMetricWarning: Recall is ill-defined and being set to 0.0 due to no true samples.\n",
      "  'recall', 'true', average, warn_for)\n"
     ]
    },
    {
     "name": "stdout",
     "output_type": "stream",
     "text": [
      "Training Random Forest\n",
      "Combination 9 of 31\n",
      "Training Random Forest\n"
     ]
    },
    {
     "name": "stderr",
     "output_type": "stream",
     "text": [
      "C:\\ProgramData\\Anaconda3\\lib\\site-packages\\sklearn\\metrics\\classification.py:1439: UndefinedMetricWarning: F-score is ill-defined and being set to 0.0 due to no true samples.\n",
      "  'recall', 'true', average, warn_for)\n",
      "C:\\ProgramData\\Anaconda3\\lib\\site-packages\\sklearn\\metrics\\ranking.py:528: RuntimeWarning: invalid value encountered in true_divide\n",
      "  recall = tps / tps[-1]\n",
      "C:\\ProgramData\\Anaconda3\\lib\\site-packages\\sklearn\\metrics\\ranking.py:113: RuntimeWarning: invalid value encountered in less\n",
      "  if np.any(dx < 0):\n",
      "C:\\ProgramData\\Anaconda3\\lib\\site-packages\\sklearn\\metrics\\classification.py:1439: UndefinedMetricWarning: Recall is ill-defined and being set to 0.0 due to no true samples.\n",
      "  'recall', 'true', average, warn_for)\n"
     ]
    },
    {
     "name": "stdout",
     "output_type": "stream",
     "text": [
      "Training Random Forest\n",
      "Combination 10 of 31\n",
      "Training Random Forest\n"
     ]
    },
    {
     "name": "stderr",
     "output_type": "stream",
     "text": [
      "C:\\ProgramData\\Anaconda3\\lib\\site-packages\\sklearn\\metrics\\classification.py:1439: UndefinedMetricWarning: F-score is ill-defined and being set to 0.0 due to no true samples.\n",
      "  'recall', 'true', average, warn_for)\n",
      "C:\\ProgramData\\Anaconda3\\lib\\site-packages\\sklearn\\metrics\\ranking.py:528: RuntimeWarning: invalid value encountered in true_divide\n",
      "  recall = tps / tps[-1]\n",
      "C:\\ProgramData\\Anaconda3\\lib\\site-packages\\sklearn\\metrics\\ranking.py:113: RuntimeWarning: invalid value encountered in less\n",
      "  if np.any(dx < 0):\n",
      "C:\\ProgramData\\Anaconda3\\lib\\site-packages\\sklearn\\metrics\\classification.py:1439: UndefinedMetricWarning: Recall is ill-defined and being set to 0.0 due to no true samples.\n",
      "  'recall', 'true', average, warn_for)\n"
     ]
    },
    {
     "name": "stdout",
     "output_type": "stream",
     "text": [
      "Training Random Forest\n",
      "Combination 11 of 31\n",
      "Training Random Forest\n"
     ]
    },
    {
     "name": "stderr",
     "output_type": "stream",
     "text": [
      "C:\\ProgramData\\Anaconda3\\lib\\site-packages\\sklearn\\metrics\\classification.py:1439: UndefinedMetricWarning: F-score is ill-defined and being set to 0.0 due to no true samples.\n",
      "  'recall', 'true', average, warn_for)\n",
      "C:\\ProgramData\\Anaconda3\\lib\\site-packages\\sklearn\\metrics\\ranking.py:528: RuntimeWarning: invalid value encountered in true_divide\n",
      "  recall = tps / tps[-1]\n",
      "C:\\ProgramData\\Anaconda3\\lib\\site-packages\\sklearn\\metrics\\ranking.py:113: RuntimeWarning: invalid value encountered in less\n",
      "  if np.any(dx < 0):\n",
      "C:\\ProgramData\\Anaconda3\\lib\\site-packages\\sklearn\\metrics\\classification.py:1439: UndefinedMetricWarning: Recall is ill-defined and being set to 0.0 due to no true samples.\n",
      "  'recall', 'true', average, warn_for)\n"
     ]
    },
    {
     "name": "stdout",
     "output_type": "stream",
     "text": [
      "Training Random Forest\n",
      "Combination 12 of 31\n",
      "Training Random Forest\n"
     ]
    },
    {
     "name": "stderr",
     "output_type": "stream",
     "text": [
      "C:\\ProgramData\\Anaconda3\\lib\\site-packages\\sklearn\\metrics\\classification.py:1439: UndefinedMetricWarning: F-score is ill-defined and being set to 0.0 due to no true samples.\n",
      "  'recall', 'true', average, warn_for)\n",
      "C:\\ProgramData\\Anaconda3\\lib\\site-packages\\sklearn\\metrics\\ranking.py:528: RuntimeWarning: invalid value encountered in true_divide\n",
      "  recall = tps / tps[-1]\n",
      "C:\\ProgramData\\Anaconda3\\lib\\site-packages\\sklearn\\metrics\\ranking.py:113: RuntimeWarning: invalid value encountered in less\n",
      "  if np.any(dx < 0):\n",
      "C:\\ProgramData\\Anaconda3\\lib\\site-packages\\sklearn\\metrics\\classification.py:1439: UndefinedMetricWarning: Recall is ill-defined and being set to 0.0 due to no true samples.\n",
      "  'recall', 'true', average, warn_for)\n"
     ]
    },
    {
     "name": "stdout",
     "output_type": "stream",
     "text": [
      "Training Random Forest\n",
      "Combination 13 of 31\n",
      "Training Random Forest\n"
     ]
    },
    {
     "name": "stderr",
     "output_type": "stream",
     "text": [
      "C:\\ProgramData\\Anaconda3\\lib\\site-packages\\sklearn\\metrics\\classification.py:1439: UndefinedMetricWarning: F-score is ill-defined and being set to 0.0 due to no true samples.\n",
      "  'recall', 'true', average, warn_for)\n",
      "C:\\ProgramData\\Anaconda3\\lib\\site-packages\\sklearn\\metrics\\ranking.py:528: RuntimeWarning: invalid value encountered in true_divide\n",
      "  recall = tps / tps[-1]\n",
      "C:\\ProgramData\\Anaconda3\\lib\\site-packages\\sklearn\\metrics\\ranking.py:113: RuntimeWarning: invalid value encountered in less\n",
      "  if np.any(dx < 0):\n",
      "C:\\ProgramData\\Anaconda3\\lib\\site-packages\\sklearn\\metrics\\classification.py:1439: UndefinedMetricWarning: Recall is ill-defined and being set to 0.0 due to no true samples.\n",
      "  'recall', 'true', average, warn_for)\n"
     ]
    },
    {
     "name": "stdout",
     "output_type": "stream",
     "text": [
      "Training Random Forest\n",
      "Combination 14 of 31\n",
      "Training Random Forest\n"
     ]
    },
    {
     "name": "stderr",
     "output_type": "stream",
     "text": [
      "C:\\ProgramData\\Anaconda3\\lib\\site-packages\\sklearn\\metrics\\classification.py:1439: UndefinedMetricWarning: F-score is ill-defined and being set to 0.0 due to no true samples.\n",
      "  'recall', 'true', average, warn_for)\n",
      "C:\\ProgramData\\Anaconda3\\lib\\site-packages\\sklearn\\metrics\\ranking.py:528: RuntimeWarning: invalid value encountered in true_divide\n",
      "  recall = tps / tps[-1]\n",
      "C:\\ProgramData\\Anaconda3\\lib\\site-packages\\sklearn\\metrics\\ranking.py:113: RuntimeWarning: invalid value encountered in less\n",
      "  if np.any(dx < 0):\n",
      "C:\\ProgramData\\Anaconda3\\lib\\site-packages\\sklearn\\metrics\\classification.py:1439: UndefinedMetricWarning: Recall is ill-defined and being set to 0.0 due to no true samples.\n",
      "  'recall', 'true', average, warn_for)\n"
     ]
    },
    {
     "name": "stdout",
     "output_type": "stream",
     "text": [
      "Training Random Forest\n",
      "Combination 15 of 31\n",
      "Training Random Forest\n"
     ]
    },
    {
     "name": "stderr",
     "output_type": "stream",
     "text": [
      "C:\\ProgramData\\Anaconda3\\lib\\site-packages\\sklearn\\metrics\\classification.py:1439: UndefinedMetricWarning: F-score is ill-defined and being set to 0.0 due to no true samples.\n",
      "  'recall', 'true', average, warn_for)\n",
      "C:\\ProgramData\\Anaconda3\\lib\\site-packages\\sklearn\\metrics\\ranking.py:528: RuntimeWarning: invalid value encountered in true_divide\n",
      "  recall = tps / tps[-1]\n",
      "C:\\ProgramData\\Anaconda3\\lib\\site-packages\\sklearn\\metrics\\ranking.py:113: RuntimeWarning: invalid value encountered in less\n",
      "  if np.any(dx < 0):\n",
      "C:\\ProgramData\\Anaconda3\\lib\\site-packages\\sklearn\\metrics\\classification.py:1439: UndefinedMetricWarning: Recall is ill-defined and being set to 0.0 due to no true samples.\n",
      "  'recall', 'true', average, warn_for)\n"
     ]
    },
    {
     "name": "stdout",
     "output_type": "stream",
     "text": [
      "Training Random Forest\n",
      "Combination 16 of 31\n",
      "Training Random Forest\n"
     ]
    },
    {
     "name": "stderr",
     "output_type": "stream",
     "text": [
      "C:\\ProgramData\\Anaconda3\\lib\\site-packages\\sklearn\\metrics\\classification.py:1439: UndefinedMetricWarning: F-score is ill-defined and being set to 0.0 due to no true samples.\n",
      "  'recall', 'true', average, warn_for)\n",
      "C:\\ProgramData\\Anaconda3\\lib\\site-packages\\sklearn\\metrics\\ranking.py:528: RuntimeWarning: invalid value encountered in true_divide\n",
      "  recall = tps / tps[-1]\n",
      "C:\\ProgramData\\Anaconda3\\lib\\site-packages\\sklearn\\metrics\\ranking.py:113: RuntimeWarning: invalid value encountered in less\n",
      "  if np.any(dx < 0):\n",
      "C:\\ProgramData\\Anaconda3\\lib\\site-packages\\sklearn\\metrics\\classification.py:1439: UndefinedMetricWarning: Recall is ill-defined and being set to 0.0 due to no true samples.\n",
      "  'recall', 'true', average, warn_for)\n"
     ]
    },
    {
     "name": "stdout",
     "output_type": "stream",
     "text": [
      "Training Random Forest\n",
      "Combination 17 of 31\n",
      "Training Random Forest\n"
     ]
    },
    {
     "name": "stderr",
     "output_type": "stream",
     "text": [
      "C:\\ProgramData\\Anaconda3\\lib\\site-packages\\sklearn\\metrics\\classification.py:1439: UndefinedMetricWarning: F-score is ill-defined and being set to 0.0 due to no true samples.\n",
      "  'recall', 'true', average, warn_for)\n",
      "C:\\ProgramData\\Anaconda3\\lib\\site-packages\\sklearn\\metrics\\ranking.py:528: RuntimeWarning: invalid value encountered in true_divide\n",
      "  recall = tps / tps[-1]\n",
      "C:\\ProgramData\\Anaconda3\\lib\\site-packages\\sklearn\\metrics\\ranking.py:113: RuntimeWarning: invalid value encountered in less\n",
      "  if np.any(dx < 0):\n",
      "C:\\ProgramData\\Anaconda3\\lib\\site-packages\\sklearn\\metrics\\classification.py:1439: UndefinedMetricWarning: Recall is ill-defined and being set to 0.0 due to no true samples.\n",
      "  'recall', 'true', average, warn_for)\n"
     ]
    },
    {
     "name": "stdout",
     "output_type": "stream",
     "text": [
      "Training Random Forest\n",
      "Combination 18 of 31\n",
      "Training Random Forest\n"
     ]
    },
    {
     "name": "stderr",
     "output_type": "stream",
     "text": [
      "C:\\ProgramData\\Anaconda3\\lib\\site-packages\\sklearn\\metrics\\classification.py:1439: UndefinedMetricWarning: F-score is ill-defined and being set to 0.0 due to no true samples.\n",
      "  'recall', 'true', average, warn_for)\n",
      "C:\\ProgramData\\Anaconda3\\lib\\site-packages\\sklearn\\metrics\\ranking.py:528: RuntimeWarning: invalid value encountered in true_divide\n",
      "  recall = tps / tps[-1]\n",
      "C:\\ProgramData\\Anaconda3\\lib\\site-packages\\sklearn\\metrics\\ranking.py:113: RuntimeWarning: invalid value encountered in less\n",
      "  if np.any(dx < 0):\n",
      "C:\\ProgramData\\Anaconda3\\lib\\site-packages\\sklearn\\metrics\\classification.py:1439: UndefinedMetricWarning: Recall is ill-defined and being set to 0.0 due to no true samples.\n",
      "  'recall', 'true', average, warn_for)\n"
     ]
    },
    {
     "name": "stdout",
     "output_type": "stream",
     "text": [
      "Training Random Forest\n",
      "Combination 19 of 31\n",
      "Training Random Forest\n"
     ]
    },
    {
     "name": "stderr",
     "output_type": "stream",
     "text": [
      "C:\\ProgramData\\Anaconda3\\lib\\site-packages\\sklearn\\metrics\\classification.py:1439: UndefinedMetricWarning: F-score is ill-defined and being set to 0.0 due to no true samples.\n",
      "  'recall', 'true', average, warn_for)\n",
      "C:\\ProgramData\\Anaconda3\\lib\\site-packages\\sklearn\\metrics\\ranking.py:528: RuntimeWarning: invalid value encountered in true_divide\n",
      "  recall = tps / tps[-1]\n",
      "C:\\ProgramData\\Anaconda3\\lib\\site-packages\\sklearn\\metrics\\ranking.py:113: RuntimeWarning: invalid value encountered in less\n",
      "  if np.any(dx < 0):\n",
      "C:\\ProgramData\\Anaconda3\\lib\\site-packages\\sklearn\\metrics\\classification.py:1439: UndefinedMetricWarning: Recall is ill-defined and being set to 0.0 due to no true samples.\n",
      "  'recall', 'true', average, warn_for)\n"
     ]
    },
    {
     "name": "stdout",
     "output_type": "stream",
     "text": [
      "Training Random Forest\n",
      "Combination 20 of 31\n",
      "Training Random Forest\n"
     ]
    },
    {
     "name": "stderr",
     "output_type": "stream",
     "text": [
      "C:\\ProgramData\\Anaconda3\\lib\\site-packages\\sklearn\\metrics\\classification.py:1439: UndefinedMetricWarning: F-score is ill-defined and being set to 0.0 due to no true samples.\n",
      "  'recall', 'true', average, warn_for)\n",
      "C:\\ProgramData\\Anaconda3\\lib\\site-packages\\sklearn\\metrics\\ranking.py:528: RuntimeWarning: invalid value encountered in true_divide\n",
      "  recall = tps / tps[-1]\n",
      "C:\\ProgramData\\Anaconda3\\lib\\site-packages\\sklearn\\metrics\\ranking.py:113: RuntimeWarning: invalid value encountered in less\n",
      "  if np.any(dx < 0):\n",
      "C:\\ProgramData\\Anaconda3\\lib\\site-packages\\sklearn\\metrics\\classification.py:1439: UndefinedMetricWarning: Recall is ill-defined and being set to 0.0 due to no true samples.\n",
      "  'recall', 'true', average, warn_for)\n"
     ]
    },
    {
     "name": "stdout",
     "output_type": "stream",
     "text": [
      "Training Random Forest\n",
      "Combination 21 of 31\n",
      "Training Random Forest\n"
     ]
    },
    {
     "name": "stderr",
     "output_type": "stream",
     "text": [
      "C:\\ProgramData\\Anaconda3\\lib\\site-packages\\sklearn\\metrics\\classification.py:1439: UndefinedMetricWarning: F-score is ill-defined and being set to 0.0 due to no true samples.\n",
      "  'recall', 'true', average, warn_for)\n",
      "C:\\ProgramData\\Anaconda3\\lib\\site-packages\\sklearn\\metrics\\ranking.py:528: RuntimeWarning: invalid value encountered in true_divide\n",
      "  recall = tps / tps[-1]\n",
      "C:\\ProgramData\\Anaconda3\\lib\\site-packages\\sklearn\\metrics\\ranking.py:113: RuntimeWarning: invalid value encountered in less\n",
      "  if np.any(dx < 0):\n",
      "C:\\ProgramData\\Anaconda3\\lib\\site-packages\\sklearn\\metrics\\classification.py:1439: UndefinedMetricWarning: Recall is ill-defined and being set to 0.0 due to no true samples.\n",
      "  'recall', 'true', average, warn_for)\n"
     ]
    },
    {
     "name": "stdout",
     "output_type": "stream",
     "text": [
      "Training Random Forest\n",
      "Combination 22 of 31\n",
      "Training Random Forest\n"
     ]
    },
    {
     "name": "stderr",
     "output_type": "stream",
     "text": [
      "C:\\ProgramData\\Anaconda3\\lib\\site-packages\\sklearn\\metrics\\classification.py:1439: UndefinedMetricWarning: F-score is ill-defined and being set to 0.0 due to no true samples.\n",
      "  'recall', 'true', average, warn_for)\n",
      "C:\\ProgramData\\Anaconda3\\lib\\site-packages\\sklearn\\metrics\\ranking.py:528: RuntimeWarning: invalid value encountered in true_divide\n",
      "  recall = tps / tps[-1]\n",
      "C:\\ProgramData\\Anaconda3\\lib\\site-packages\\sklearn\\metrics\\ranking.py:113: RuntimeWarning: invalid value encountered in less\n",
      "  if np.any(dx < 0):\n",
      "C:\\ProgramData\\Anaconda3\\lib\\site-packages\\sklearn\\metrics\\classification.py:1439: UndefinedMetricWarning: Recall is ill-defined and being set to 0.0 due to no true samples.\n",
      "  'recall', 'true', average, warn_for)\n"
     ]
    },
    {
     "name": "stdout",
     "output_type": "stream",
     "text": [
      "Training Random Forest\n",
      "Combination 23 of 31\n",
      "Training Random Forest\n"
     ]
    },
    {
     "name": "stderr",
     "output_type": "stream",
     "text": [
      "C:\\ProgramData\\Anaconda3\\lib\\site-packages\\sklearn\\metrics\\classification.py:1439: UndefinedMetricWarning: F-score is ill-defined and being set to 0.0 due to no true samples.\n",
      "  'recall', 'true', average, warn_for)\n",
      "C:\\ProgramData\\Anaconda3\\lib\\site-packages\\sklearn\\metrics\\ranking.py:528: RuntimeWarning: invalid value encountered in true_divide\n",
      "  recall = tps / tps[-1]\n",
      "C:\\ProgramData\\Anaconda3\\lib\\site-packages\\sklearn\\metrics\\ranking.py:113: RuntimeWarning: invalid value encountered in less\n",
      "  if np.any(dx < 0):\n",
      "C:\\ProgramData\\Anaconda3\\lib\\site-packages\\sklearn\\metrics\\classification.py:1439: UndefinedMetricWarning: Recall is ill-defined and being set to 0.0 due to no true samples.\n",
      "  'recall', 'true', average, warn_for)\n"
     ]
    },
    {
     "name": "stdout",
     "output_type": "stream",
     "text": [
      "Training Random Forest\n",
      "Combination 24 of 31\n",
      "Training Random Forest\n"
     ]
    },
    {
     "name": "stderr",
     "output_type": "stream",
     "text": [
      "C:\\ProgramData\\Anaconda3\\lib\\site-packages\\sklearn\\metrics\\classification.py:1439: UndefinedMetricWarning: F-score is ill-defined and being set to 0.0 due to no true samples.\n",
      "  'recall', 'true', average, warn_for)\n",
      "C:\\ProgramData\\Anaconda3\\lib\\site-packages\\sklearn\\metrics\\ranking.py:528: RuntimeWarning: invalid value encountered in true_divide\n",
      "  recall = tps / tps[-1]\n",
      "C:\\ProgramData\\Anaconda3\\lib\\site-packages\\sklearn\\metrics\\ranking.py:113: RuntimeWarning: invalid value encountered in less\n",
      "  if np.any(dx < 0):\n",
      "C:\\ProgramData\\Anaconda3\\lib\\site-packages\\sklearn\\metrics\\classification.py:1439: UndefinedMetricWarning: Recall is ill-defined and being set to 0.0 due to no true samples.\n",
      "  'recall', 'true', average, warn_for)\n"
     ]
    },
    {
     "name": "stdout",
     "output_type": "stream",
     "text": [
      "Training Random Forest\n",
      "Combination 25 of 31\n",
      "Training Random Forest\n"
     ]
    },
    {
     "name": "stderr",
     "output_type": "stream",
     "text": [
      "C:\\ProgramData\\Anaconda3\\lib\\site-packages\\sklearn\\metrics\\classification.py:1439: UndefinedMetricWarning: F-score is ill-defined and being set to 0.0 due to no true samples.\n",
      "  'recall', 'true', average, warn_for)\n",
      "C:\\ProgramData\\Anaconda3\\lib\\site-packages\\sklearn\\metrics\\ranking.py:528: RuntimeWarning: invalid value encountered in true_divide\n",
      "  recall = tps / tps[-1]\n",
      "C:\\ProgramData\\Anaconda3\\lib\\site-packages\\sklearn\\metrics\\ranking.py:113: RuntimeWarning: invalid value encountered in less\n",
      "  if np.any(dx < 0):\n",
      "C:\\ProgramData\\Anaconda3\\lib\\site-packages\\sklearn\\metrics\\classification.py:1439: UndefinedMetricWarning: Recall is ill-defined and being set to 0.0 due to no true samples.\n",
      "  'recall', 'true', average, warn_for)\n"
     ]
    },
    {
     "name": "stdout",
     "output_type": "stream",
     "text": [
      "Training Random Forest\n",
      "Combination 26 of 31\n",
      "Training Random Forest\n"
     ]
    },
    {
     "name": "stderr",
     "output_type": "stream",
     "text": [
      "C:\\ProgramData\\Anaconda3\\lib\\site-packages\\sklearn\\metrics\\classification.py:1439: UndefinedMetricWarning: F-score is ill-defined and being set to 0.0 due to no true samples.\n",
      "  'recall', 'true', average, warn_for)\n",
      "C:\\ProgramData\\Anaconda3\\lib\\site-packages\\sklearn\\metrics\\ranking.py:528: RuntimeWarning: invalid value encountered in true_divide\n",
      "  recall = tps / tps[-1]\n",
      "C:\\ProgramData\\Anaconda3\\lib\\site-packages\\sklearn\\metrics\\ranking.py:113: RuntimeWarning: invalid value encountered in less\n",
      "  if np.any(dx < 0):\n",
      "C:\\ProgramData\\Anaconda3\\lib\\site-packages\\sklearn\\metrics\\classification.py:1439: UndefinedMetricWarning: Recall is ill-defined and being set to 0.0 due to no true samples.\n",
      "  'recall', 'true', average, warn_for)\n"
     ]
    },
    {
     "name": "stdout",
     "output_type": "stream",
     "text": [
      "Training Random Forest\n",
      "Combination 27 of 31\n",
      "Training Random Forest\n"
     ]
    },
    {
     "name": "stderr",
     "output_type": "stream",
     "text": [
      "C:\\ProgramData\\Anaconda3\\lib\\site-packages\\sklearn\\metrics\\classification.py:1439: UndefinedMetricWarning: F-score is ill-defined and being set to 0.0 due to no true samples.\n",
      "  'recall', 'true', average, warn_for)\n",
      "C:\\ProgramData\\Anaconda3\\lib\\site-packages\\sklearn\\metrics\\ranking.py:528: RuntimeWarning: invalid value encountered in true_divide\n",
      "  recall = tps / tps[-1]\n",
      "C:\\ProgramData\\Anaconda3\\lib\\site-packages\\sklearn\\metrics\\ranking.py:113: RuntimeWarning: invalid value encountered in less\n",
      "  if np.any(dx < 0):\n",
      "C:\\ProgramData\\Anaconda3\\lib\\site-packages\\sklearn\\metrics\\classification.py:1439: UndefinedMetricWarning: Recall is ill-defined and being set to 0.0 due to no true samples.\n",
      "  'recall', 'true', average, warn_for)\n"
     ]
    },
    {
     "name": "stdout",
     "output_type": "stream",
     "text": [
      "Training Random Forest\n",
      "Combination 28 of 31\n",
      "Training Random Forest\n"
     ]
    },
    {
     "name": "stderr",
     "output_type": "stream",
     "text": [
      "C:\\ProgramData\\Anaconda3\\lib\\site-packages\\sklearn\\metrics\\classification.py:1439: UndefinedMetricWarning: F-score is ill-defined and being set to 0.0 due to no true samples.\n",
      "  'recall', 'true', average, warn_for)\n",
      "C:\\ProgramData\\Anaconda3\\lib\\site-packages\\sklearn\\metrics\\ranking.py:528: RuntimeWarning: invalid value encountered in true_divide\n",
      "  recall = tps / tps[-1]\n",
      "C:\\ProgramData\\Anaconda3\\lib\\site-packages\\sklearn\\metrics\\ranking.py:113: RuntimeWarning: invalid value encountered in less\n",
      "  if np.any(dx < 0):\n",
      "C:\\ProgramData\\Anaconda3\\lib\\site-packages\\sklearn\\metrics\\classification.py:1439: UndefinedMetricWarning: Recall is ill-defined and being set to 0.0 due to no true samples.\n",
      "  'recall', 'true', average, warn_for)\n"
     ]
    },
    {
     "name": "stdout",
     "output_type": "stream",
     "text": [
      "Training Random Forest\n",
      "Combination 29 of 31\n",
      "Training Random Forest\n"
     ]
    },
    {
     "name": "stderr",
     "output_type": "stream",
     "text": [
      "C:\\ProgramData\\Anaconda3\\lib\\site-packages\\sklearn\\metrics\\classification.py:1439: UndefinedMetricWarning: F-score is ill-defined and being set to 0.0 due to no true samples.\n",
      "  'recall', 'true', average, warn_for)\n",
      "C:\\ProgramData\\Anaconda3\\lib\\site-packages\\sklearn\\metrics\\ranking.py:528: RuntimeWarning: invalid value encountered in true_divide\n",
      "  recall = tps / tps[-1]\n",
      "C:\\ProgramData\\Anaconda3\\lib\\site-packages\\sklearn\\metrics\\ranking.py:113: RuntimeWarning: invalid value encountered in less\n",
      "  if np.any(dx < 0):\n",
      "C:\\ProgramData\\Anaconda3\\lib\\site-packages\\sklearn\\metrics\\classification.py:1439: UndefinedMetricWarning: Recall is ill-defined and being set to 0.0 due to no true samples.\n",
      "  'recall', 'true', average, warn_for)\n"
     ]
    },
    {
     "name": "stdout",
     "output_type": "stream",
     "text": [
      "Training Random Forest\n",
      "Combination 30 of 31\n",
      "Training Random Forest\n"
     ]
    },
    {
     "name": "stderr",
     "output_type": "stream",
     "text": [
      "C:\\ProgramData\\Anaconda3\\lib\\site-packages\\sklearn\\metrics\\classification.py:1439: UndefinedMetricWarning: F-score is ill-defined and being set to 0.0 due to no true samples.\n",
      "  'recall', 'true', average, warn_for)\n",
      "C:\\ProgramData\\Anaconda3\\lib\\site-packages\\sklearn\\metrics\\ranking.py:528: RuntimeWarning: invalid value encountered in true_divide\n",
      "  recall = tps / tps[-1]\n",
      "C:\\ProgramData\\Anaconda3\\lib\\site-packages\\sklearn\\metrics\\ranking.py:113: RuntimeWarning: invalid value encountered in less\n",
      "  if np.any(dx < 0):\n",
      "C:\\ProgramData\\Anaconda3\\lib\\site-packages\\sklearn\\metrics\\classification.py:1439: UndefinedMetricWarning: Recall is ill-defined and being set to 0.0 due to no true samples.\n",
      "  'recall', 'true', average, warn_for)\n"
     ]
    },
    {
     "name": "stdout",
     "output_type": "stream",
     "text": [
      "Training Random Forest\n",
      "Combination 31 of 31\n",
      "Training Random Forest\n"
     ]
    },
    {
     "name": "stderr",
     "output_type": "stream",
     "text": [
      "C:\\ProgramData\\Anaconda3\\lib\\site-packages\\sklearn\\metrics\\classification.py:1439: UndefinedMetricWarning: F-score is ill-defined and being set to 0.0 due to no true samples.\n",
      "  'recall', 'true', average, warn_for)\n",
      "C:\\ProgramData\\Anaconda3\\lib\\site-packages\\sklearn\\metrics\\ranking.py:528: RuntimeWarning: invalid value encountered in true_divide\n",
      "  recall = tps / tps[-1]\n",
      "C:\\ProgramData\\Anaconda3\\lib\\site-packages\\sklearn\\metrics\\ranking.py:113: RuntimeWarning: invalid value encountered in less\n",
      "  if np.any(dx < 0):\n",
      "C:\\ProgramData\\Anaconda3\\lib\\site-packages\\sklearn\\metrics\\classification.py:1439: UndefinedMetricWarning: Recall is ill-defined and being set to 0.0 due to no true samples.\n",
      "  'recall', 'true', average, warn_for)\n"
     ]
    },
    {
     "name": "stdout",
     "output_type": "stream",
     "text": [
      "Training Random Forest\n",
      "sensor, Bradykinesia\n",
      "Combination 1 of 31\n",
      "Training Random Forest\n",
      "Training Random Forest\n",
      "Combination 2 of 31\n",
      "Training Random Forest\n",
      "Training Random Forest\n",
      "Combination 3 of 31\n",
      "Training Random Forest\n",
      "Training Random Forest\n",
      "Combination 4 of 31\n",
      "Training Random Forest\n",
      "Training Random Forest\n",
      "Combination 5 of 31\n",
      "Training Random Forest\n",
      "Training Random Forest\n",
      "Combination 6 of 31\n",
      "Training Random Forest\n",
      "Training Random Forest\n",
      "Combination 7 of 31\n",
      "Training Random Forest\n",
      "Training Random Forest\n",
      "Combination 8 of 31\n",
      "Training Random Forest\n",
      "Training Random Forest\n",
      "Combination 9 of 31\n",
      "Training Random Forest\n",
      "Training Random Forest\n",
      "Combination 10 of 31\n",
      "Training Random Forest\n",
      "Training Random Forest\n",
      "Combination 11 of 31\n",
      "Training Random Forest\n",
      "Training Random Forest\n",
      "Combination 12 of 31\n",
      "Training Random Forest\n",
      "Training Random Forest\n",
      "Combination 13 of 31\n",
      "Training Random Forest\n",
      "Training Random Forest\n",
      "Combination 14 of 31\n",
      "Training Random Forest\n",
      "Training Random Forest\n",
      "Combination 15 of 31\n",
      "Training Random Forest\n",
      "Training Random Forest\n",
      "Combination 16 of 31\n",
      "Training Random Forest\n",
      "Training Random Forest\n",
      "Combination 17 of 31\n",
      "Training Random Forest\n",
      "Training Random Forest\n",
      "Combination 18 of 31\n",
      "Training Random Forest\n",
      "Training Random Forest\n",
      "Combination 19 of 31\n",
      "Training Random Forest\n",
      "Training Random Forest\n",
      "Combination 20 of 31\n",
      "Training Random Forest\n",
      "Training Random Forest\n",
      "Combination 21 of 31\n",
      "Training Random Forest\n",
      "Training Random Forest\n",
      "Combination 22 of 31\n",
      "Training Random Forest\n",
      "Training Random Forest\n",
      "Combination 23 of 31\n",
      "Training Random Forest\n",
      "Training Random Forest\n",
      "Combination 24 of 31\n",
      "Training Random Forest\n",
      "Training Random Forest\n",
      "Combination 25 of 31\n",
      "Training Random Forest\n",
      "Training Random Forest\n",
      "Combination 26 of 31\n",
      "Training Random Forest\n",
      "Training Random Forest\n",
      "Combination 27 of 31\n",
      "Training Random Forest\n",
      "Training Random Forest\n",
      "Combination 28 of 31\n",
      "Training Random Forest\n",
      "Training Random Forest\n",
      "Combination 29 of 31\n",
      "Training Random Forest\n",
      "Training Random Forest\n",
      "Combination 30 of 31\n",
      "Training Random Forest\n",
      "Training Random Forest\n",
      "Combination 31 of 31\n",
      "Training Random Forest\n",
      "Training Random Forest\n",
      "Elapsed time = 405.131 min\n",
      "watch, Tremor\n",
      "Combination 1 of 31\n",
      "Training Random Forest\n"
     ]
    },
    {
     "name": "stderr",
     "output_type": "stream",
     "text": [
      "C:\\ProgramData\\Anaconda3\\lib\\site-packages\\sklearn\\metrics\\classification.py:1439: UndefinedMetricWarning: F-score is ill-defined and being set to 0.0 due to no true samples.\n",
      "  'recall', 'true', average, warn_for)\n",
      "C:\\ProgramData\\Anaconda3\\lib\\site-packages\\sklearn\\metrics\\ranking.py:528: RuntimeWarning: invalid value encountered in true_divide\n",
      "  recall = tps / tps[-1]\n",
      "C:\\ProgramData\\Anaconda3\\lib\\site-packages\\sklearn\\metrics\\ranking.py:113: RuntimeWarning: invalid value encountered in less\n",
      "  if np.any(dx < 0):\n",
      "C:\\ProgramData\\Anaconda3\\lib\\site-packages\\sklearn\\metrics\\classification.py:1439: UndefinedMetricWarning: Recall is ill-defined and being set to 0.0 due to no true samples.\n",
      "  'recall', 'true', average, warn_for)\n"
     ]
    },
    {
     "name": "stdout",
     "output_type": "stream",
     "text": [
      "Training Random Forest\n",
      "Combination 2 of 31\n",
      "Training Random Forest\n"
     ]
    },
    {
     "name": "stderr",
     "output_type": "stream",
     "text": [
      "C:\\ProgramData\\Anaconda3\\lib\\site-packages\\sklearn\\metrics\\classification.py:1439: UndefinedMetricWarning: F-score is ill-defined and being set to 0.0 due to no true samples.\n",
      "  'recall', 'true', average, warn_for)\n",
      "C:\\ProgramData\\Anaconda3\\lib\\site-packages\\sklearn\\metrics\\ranking.py:528: RuntimeWarning: invalid value encountered in true_divide\n",
      "  recall = tps / tps[-1]\n",
      "C:\\ProgramData\\Anaconda3\\lib\\site-packages\\sklearn\\metrics\\ranking.py:113: RuntimeWarning: invalid value encountered in less\n",
      "  if np.any(dx < 0):\n",
      "C:\\ProgramData\\Anaconda3\\lib\\site-packages\\sklearn\\metrics\\classification.py:1439: UndefinedMetricWarning: Recall is ill-defined and being set to 0.0 due to no true samples.\n",
      "  'recall', 'true', average, warn_for)\n"
     ]
    },
    {
     "name": "stdout",
     "output_type": "stream",
     "text": [
      "Training Random Forest\n",
      "Combination 3 of 31\n",
      "Training Random Forest\n"
     ]
    },
    {
     "name": "stderr",
     "output_type": "stream",
     "text": [
      "C:\\ProgramData\\Anaconda3\\lib\\site-packages\\sklearn\\metrics\\classification.py:1439: UndefinedMetricWarning: F-score is ill-defined and being set to 0.0 due to no true samples.\n",
      "  'recall', 'true', average, warn_for)\n",
      "C:\\ProgramData\\Anaconda3\\lib\\site-packages\\sklearn\\metrics\\ranking.py:528: RuntimeWarning: invalid value encountered in true_divide\n",
      "  recall = tps / tps[-1]\n",
      "C:\\ProgramData\\Anaconda3\\lib\\site-packages\\sklearn\\metrics\\ranking.py:113: RuntimeWarning: invalid value encountered in less\n",
      "  if np.any(dx < 0):\n",
      "C:\\ProgramData\\Anaconda3\\lib\\site-packages\\sklearn\\metrics\\classification.py:1439: UndefinedMetricWarning: Recall is ill-defined and being set to 0.0 due to no true samples.\n",
      "  'recall', 'true', average, warn_for)\n"
     ]
    },
    {
     "name": "stdout",
     "output_type": "stream",
     "text": [
      "Training Random Forest\n",
      "Combination 4 of 31\n",
      "Training Random Forest\n"
     ]
    },
    {
     "name": "stderr",
     "output_type": "stream",
     "text": [
      "C:\\ProgramData\\Anaconda3\\lib\\site-packages\\sklearn\\metrics\\classification.py:1439: UndefinedMetricWarning: F-score is ill-defined and being set to 0.0 due to no true samples.\n",
      "  'recall', 'true', average, warn_for)\n",
      "C:\\ProgramData\\Anaconda3\\lib\\site-packages\\sklearn\\metrics\\ranking.py:528: RuntimeWarning: invalid value encountered in true_divide\n",
      "  recall = tps / tps[-1]\n",
      "C:\\ProgramData\\Anaconda3\\lib\\site-packages\\sklearn\\metrics\\ranking.py:113: RuntimeWarning: invalid value encountered in less\n",
      "  if np.any(dx < 0):\n",
      "C:\\ProgramData\\Anaconda3\\lib\\site-packages\\sklearn\\metrics\\classification.py:1439: UndefinedMetricWarning: Recall is ill-defined and being set to 0.0 due to no true samples.\n",
      "  'recall', 'true', average, warn_for)\n"
     ]
    },
    {
     "name": "stdout",
     "output_type": "stream",
     "text": [
      "Training Random Forest\n",
      "Combination 5 of 31\n",
      "Training Random Forest\n"
     ]
    },
    {
     "name": "stderr",
     "output_type": "stream",
     "text": [
      "C:\\ProgramData\\Anaconda3\\lib\\site-packages\\sklearn\\metrics\\classification.py:1439: UndefinedMetricWarning: F-score is ill-defined and being set to 0.0 due to no true samples.\n",
      "  'recall', 'true', average, warn_for)\n",
      "C:\\ProgramData\\Anaconda3\\lib\\site-packages\\sklearn\\metrics\\ranking.py:528: RuntimeWarning: invalid value encountered in true_divide\n",
      "  recall = tps / tps[-1]\n",
      "C:\\ProgramData\\Anaconda3\\lib\\site-packages\\sklearn\\metrics\\ranking.py:113: RuntimeWarning: invalid value encountered in less\n",
      "  if np.any(dx < 0):\n",
      "C:\\ProgramData\\Anaconda3\\lib\\site-packages\\sklearn\\metrics\\classification.py:1439: UndefinedMetricWarning: Recall is ill-defined and being set to 0.0 due to no true samples.\n",
      "  'recall', 'true', average, warn_for)\n"
     ]
    },
    {
     "name": "stdout",
     "output_type": "stream",
     "text": [
      "Training Random Forest\n",
      "Combination 6 of 31\n",
      "Training Random Forest\n"
     ]
    },
    {
     "name": "stderr",
     "output_type": "stream",
     "text": [
      "C:\\ProgramData\\Anaconda3\\lib\\site-packages\\sklearn\\metrics\\classification.py:1439: UndefinedMetricWarning: F-score is ill-defined and being set to 0.0 due to no true samples.\n",
      "  'recall', 'true', average, warn_for)\n",
      "C:\\ProgramData\\Anaconda3\\lib\\site-packages\\sklearn\\metrics\\ranking.py:528: RuntimeWarning: invalid value encountered in true_divide\n",
      "  recall = tps / tps[-1]\n",
      "C:\\ProgramData\\Anaconda3\\lib\\site-packages\\sklearn\\metrics\\ranking.py:113: RuntimeWarning: invalid value encountered in less\n",
      "  if np.any(dx < 0):\n",
      "C:\\ProgramData\\Anaconda3\\lib\\site-packages\\sklearn\\metrics\\classification.py:1439: UndefinedMetricWarning: Recall is ill-defined and being set to 0.0 due to no true samples.\n",
      "  'recall', 'true', average, warn_for)\n"
     ]
    },
    {
     "name": "stdout",
     "output_type": "stream",
     "text": [
      "Training Random Forest\n",
      "Combination 7 of 31\n",
      "Training Random Forest\n"
     ]
    },
    {
     "name": "stderr",
     "output_type": "stream",
     "text": [
      "C:\\ProgramData\\Anaconda3\\lib\\site-packages\\sklearn\\metrics\\classification.py:1439: UndefinedMetricWarning: F-score is ill-defined and being set to 0.0 due to no true samples.\n",
      "  'recall', 'true', average, warn_for)\n",
      "C:\\ProgramData\\Anaconda3\\lib\\site-packages\\sklearn\\metrics\\ranking.py:528: RuntimeWarning: invalid value encountered in true_divide\n",
      "  recall = tps / tps[-1]\n",
      "C:\\ProgramData\\Anaconda3\\lib\\site-packages\\sklearn\\metrics\\ranking.py:113: RuntimeWarning: invalid value encountered in less\n",
      "  if np.any(dx < 0):\n",
      "C:\\ProgramData\\Anaconda3\\lib\\site-packages\\sklearn\\metrics\\classification.py:1439: UndefinedMetricWarning: Recall is ill-defined and being set to 0.0 due to no true samples.\n",
      "  'recall', 'true', average, warn_for)\n"
     ]
    },
    {
     "name": "stdout",
     "output_type": "stream",
     "text": [
      "Training Random Forest\n",
      "Combination 8 of 31\n",
      "Training Random Forest\n"
     ]
    },
    {
     "name": "stderr",
     "output_type": "stream",
     "text": [
      "C:\\ProgramData\\Anaconda3\\lib\\site-packages\\sklearn\\metrics\\classification.py:1439: UndefinedMetricWarning: F-score is ill-defined and being set to 0.0 due to no true samples.\n",
      "  'recall', 'true', average, warn_for)\n",
      "C:\\ProgramData\\Anaconda3\\lib\\site-packages\\sklearn\\metrics\\ranking.py:528: RuntimeWarning: invalid value encountered in true_divide\n",
      "  recall = tps / tps[-1]\n",
      "C:\\ProgramData\\Anaconda3\\lib\\site-packages\\sklearn\\metrics\\ranking.py:113: RuntimeWarning: invalid value encountered in less\n",
      "  if np.any(dx < 0):\n",
      "C:\\ProgramData\\Anaconda3\\lib\\site-packages\\sklearn\\metrics\\classification.py:1439: UndefinedMetricWarning: Recall is ill-defined and being set to 0.0 due to no true samples.\n",
      "  'recall', 'true', average, warn_for)\n"
     ]
    },
    {
     "name": "stdout",
     "output_type": "stream",
     "text": [
      "Training Random Forest\n",
      "Combination 9 of 31\n",
      "Training Random Forest\n"
     ]
    },
    {
     "name": "stderr",
     "output_type": "stream",
     "text": [
      "C:\\ProgramData\\Anaconda3\\lib\\site-packages\\sklearn\\metrics\\classification.py:1439: UndefinedMetricWarning: F-score is ill-defined and being set to 0.0 due to no true samples.\n",
      "  'recall', 'true', average, warn_for)\n",
      "C:\\ProgramData\\Anaconda3\\lib\\site-packages\\sklearn\\metrics\\ranking.py:528: RuntimeWarning: invalid value encountered in true_divide\n",
      "  recall = tps / tps[-1]\n",
      "C:\\ProgramData\\Anaconda3\\lib\\site-packages\\sklearn\\metrics\\ranking.py:113: RuntimeWarning: invalid value encountered in less\n",
      "  if np.any(dx < 0):\n",
      "C:\\ProgramData\\Anaconda3\\lib\\site-packages\\sklearn\\metrics\\classification.py:1439: UndefinedMetricWarning: Recall is ill-defined and being set to 0.0 due to no true samples.\n",
      "  'recall', 'true', average, warn_for)\n"
     ]
    },
    {
     "name": "stdout",
     "output_type": "stream",
     "text": [
      "Training Random Forest\n",
      "Combination 10 of 31\n",
      "Training Random Forest\n"
     ]
    },
    {
     "name": "stderr",
     "output_type": "stream",
     "text": [
      "C:\\ProgramData\\Anaconda3\\lib\\site-packages\\sklearn\\metrics\\classification.py:1439: UndefinedMetricWarning: F-score is ill-defined and being set to 0.0 due to no true samples.\n",
      "  'recall', 'true', average, warn_for)\n",
      "C:\\ProgramData\\Anaconda3\\lib\\site-packages\\sklearn\\metrics\\ranking.py:528: RuntimeWarning: invalid value encountered in true_divide\n",
      "  recall = tps / tps[-1]\n",
      "C:\\ProgramData\\Anaconda3\\lib\\site-packages\\sklearn\\metrics\\ranking.py:113: RuntimeWarning: invalid value encountered in less\n",
      "  if np.any(dx < 0):\n",
      "C:\\ProgramData\\Anaconda3\\lib\\site-packages\\sklearn\\metrics\\classification.py:1439: UndefinedMetricWarning: Recall is ill-defined and being set to 0.0 due to no true samples.\n",
      "  'recall', 'true', average, warn_for)\n"
     ]
    },
    {
     "name": "stdout",
     "output_type": "stream",
     "text": [
      "Training Random Forest\n",
      "Combination 11 of 31\n",
      "Training Random Forest\n"
     ]
    },
    {
     "name": "stderr",
     "output_type": "stream",
     "text": [
      "C:\\ProgramData\\Anaconda3\\lib\\site-packages\\sklearn\\metrics\\classification.py:1439: UndefinedMetricWarning: F-score is ill-defined and being set to 0.0 due to no true samples.\n",
      "  'recall', 'true', average, warn_for)\n",
      "C:\\ProgramData\\Anaconda3\\lib\\site-packages\\sklearn\\metrics\\ranking.py:528: RuntimeWarning: invalid value encountered in true_divide\n",
      "  recall = tps / tps[-1]\n",
      "C:\\ProgramData\\Anaconda3\\lib\\site-packages\\sklearn\\metrics\\ranking.py:113: RuntimeWarning: invalid value encountered in less\n",
      "  if np.any(dx < 0):\n",
      "C:\\ProgramData\\Anaconda3\\lib\\site-packages\\sklearn\\metrics\\classification.py:1439: UndefinedMetricWarning: Recall is ill-defined and being set to 0.0 due to no true samples.\n",
      "  'recall', 'true', average, warn_for)\n"
     ]
    },
    {
     "name": "stdout",
     "output_type": "stream",
     "text": [
      "Training Random Forest\n",
      "Combination 12 of 31\n",
      "Training Random Forest\n"
     ]
    },
    {
     "name": "stderr",
     "output_type": "stream",
     "text": [
      "C:\\ProgramData\\Anaconda3\\lib\\site-packages\\sklearn\\metrics\\classification.py:1439: UndefinedMetricWarning: F-score is ill-defined and being set to 0.0 due to no true samples.\n",
      "  'recall', 'true', average, warn_for)\n",
      "C:\\ProgramData\\Anaconda3\\lib\\site-packages\\sklearn\\metrics\\ranking.py:528: RuntimeWarning: invalid value encountered in true_divide\n",
      "  recall = tps / tps[-1]\n",
      "C:\\ProgramData\\Anaconda3\\lib\\site-packages\\sklearn\\metrics\\ranking.py:113: RuntimeWarning: invalid value encountered in less\n",
      "  if np.any(dx < 0):\n",
      "C:\\ProgramData\\Anaconda3\\lib\\site-packages\\sklearn\\metrics\\classification.py:1439: UndefinedMetricWarning: Recall is ill-defined and being set to 0.0 due to no true samples.\n",
      "  'recall', 'true', average, warn_for)\n"
     ]
    },
    {
     "name": "stdout",
     "output_type": "stream",
     "text": [
      "Training Random Forest\n",
      "Combination 13 of 31\n",
      "Training Random Forest\n"
     ]
    },
    {
     "name": "stderr",
     "output_type": "stream",
     "text": [
      "C:\\ProgramData\\Anaconda3\\lib\\site-packages\\sklearn\\metrics\\classification.py:1439: UndefinedMetricWarning: F-score is ill-defined and being set to 0.0 due to no true samples.\n",
      "  'recall', 'true', average, warn_for)\n",
      "C:\\ProgramData\\Anaconda3\\lib\\site-packages\\sklearn\\metrics\\ranking.py:528: RuntimeWarning: invalid value encountered in true_divide\n",
      "  recall = tps / tps[-1]\n",
      "C:\\ProgramData\\Anaconda3\\lib\\site-packages\\sklearn\\metrics\\ranking.py:113: RuntimeWarning: invalid value encountered in less\n",
      "  if np.any(dx < 0):\n",
      "C:\\ProgramData\\Anaconda3\\lib\\site-packages\\sklearn\\metrics\\classification.py:1439: UndefinedMetricWarning: Recall is ill-defined and being set to 0.0 due to no true samples.\n",
      "  'recall', 'true', average, warn_for)\n"
     ]
    },
    {
     "name": "stdout",
     "output_type": "stream",
     "text": [
      "Training Random Forest\n",
      "Combination 14 of 31\n",
      "Training Random Forest\n"
     ]
    },
    {
     "name": "stderr",
     "output_type": "stream",
     "text": [
      "C:\\ProgramData\\Anaconda3\\lib\\site-packages\\sklearn\\metrics\\classification.py:1439: UndefinedMetricWarning: F-score is ill-defined and being set to 0.0 due to no true samples.\n",
      "  'recall', 'true', average, warn_for)\n",
      "C:\\ProgramData\\Anaconda3\\lib\\site-packages\\sklearn\\metrics\\ranking.py:528: RuntimeWarning: invalid value encountered in true_divide\n",
      "  recall = tps / tps[-1]\n",
      "C:\\ProgramData\\Anaconda3\\lib\\site-packages\\sklearn\\metrics\\ranking.py:113: RuntimeWarning: invalid value encountered in less\n",
      "  if np.any(dx < 0):\n",
      "C:\\ProgramData\\Anaconda3\\lib\\site-packages\\sklearn\\metrics\\classification.py:1439: UndefinedMetricWarning: Recall is ill-defined and being set to 0.0 due to no true samples.\n",
      "  'recall', 'true', average, warn_for)\n"
     ]
    },
    {
     "name": "stdout",
     "output_type": "stream",
     "text": [
      "Training Random Forest\n",
      "Combination 15 of 31\n",
      "Training Random Forest\n"
     ]
    },
    {
     "name": "stderr",
     "output_type": "stream",
     "text": [
      "C:\\ProgramData\\Anaconda3\\lib\\site-packages\\sklearn\\metrics\\classification.py:1439: UndefinedMetricWarning: F-score is ill-defined and being set to 0.0 due to no true samples.\n",
      "  'recall', 'true', average, warn_for)\n",
      "C:\\ProgramData\\Anaconda3\\lib\\site-packages\\sklearn\\metrics\\ranking.py:528: RuntimeWarning: invalid value encountered in true_divide\n",
      "  recall = tps / tps[-1]\n",
      "C:\\ProgramData\\Anaconda3\\lib\\site-packages\\sklearn\\metrics\\ranking.py:113: RuntimeWarning: invalid value encountered in less\n",
      "  if np.any(dx < 0):\n",
      "C:\\ProgramData\\Anaconda3\\lib\\site-packages\\sklearn\\metrics\\classification.py:1439: UndefinedMetricWarning: Recall is ill-defined and being set to 0.0 due to no true samples.\n",
      "  'recall', 'true', average, warn_for)\n"
     ]
    },
    {
     "name": "stdout",
     "output_type": "stream",
     "text": [
      "Training Random Forest\n",
      "Combination 16 of 31\n",
      "Training Random Forest\n"
     ]
    },
    {
     "name": "stderr",
     "output_type": "stream",
     "text": [
      "C:\\ProgramData\\Anaconda3\\lib\\site-packages\\sklearn\\metrics\\classification.py:1439: UndefinedMetricWarning: F-score is ill-defined and being set to 0.0 due to no true samples.\n",
      "  'recall', 'true', average, warn_for)\n",
      "C:\\ProgramData\\Anaconda3\\lib\\site-packages\\sklearn\\metrics\\ranking.py:528: RuntimeWarning: invalid value encountered in true_divide\n",
      "  recall = tps / tps[-1]\n",
      "C:\\ProgramData\\Anaconda3\\lib\\site-packages\\sklearn\\metrics\\ranking.py:113: RuntimeWarning: invalid value encountered in less\n",
      "  if np.any(dx < 0):\n",
      "C:\\ProgramData\\Anaconda3\\lib\\site-packages\\sklearn\\metrics\\classification.py:1439: UndefinedMetricWarning: Recall is ill-defined and being set to 0.0 due to no true samples.\n",
      "  'recall', 'true', average, warn_for)\n"
     ]
    },
    {
     "name": "stdout",
     "output_type": "stream",
     "text": [
      "Training Random Forest\n",
      "Combination 17 of 31\n",
      "Training Random Forest\n"
     ]
    },
    {
     "name": "stderr",
     "output_type": "stream",
     "text": [
      "C:\\ProgramData\\Anaconda3\\lib\\site-packages\\sklearn\\metrics\\classification.py:1439: UndefinedMetricWarning: F-score is ill-defined and being set to 0.0 due to no true samples.\n",
      "  'recall', 'true', average, warn_for)\n",
      "C:\\ProgramData\\Anaconda3\\lib\\site-packages\\sklearn\\metrics\\ranking.py:528: RuntimeWarning: invalid value encountered in true_divide\n",
      "  recall = tps / tps[-1]\n",
      "C:\\ProgramData\\Anaconda3\\lib\\site-packages\\sklearn\\metrics\\ranking.py:113: RuntimeWarning: invalid value encountered in less\n",
      "  if np.any(dx < 0):\n",
      "C:\\ProgramData\\Anaconda3\\lib\\site-packages\\sklearn\\metrics\\classification.py:1439: UndefinedMetricWarning: Recall is ill-defined and being set to 0.0 due to no true samples.\n",
      "  'recall', 'true', average, warn_for)\n"
     ]
    },
    {
     "name": "stdout",
     "output_type": "stream",
     "text": [
      "Training Random Forest\n",
      "Combination 18 of 31\n",
      "Training Random Forest\n"
     ]
    },
    {
     "name": "stderr",
     "output_type": "stream",
     "text": [
      "C:\\ProgramData\\Anaconda3\\lib\\site-packages\\sklearn\\metrics\\classification.py:1439: UndefinedMetricWarning: F-score is ill-defined and being set to 0.0 due to no true samples.\n",
      "  'recall', 'true', average, warn_for)\n",
      "C:\\ProgramData\\Anaconda3\\lib\\site-packages\\sklearn\\metrics\\ranking.py:528: RuntimeWarning: invalid value encountered in true_divide\n",
      "  recall = tps / tps[-1]\n",
      "C:\\ProgramData\\Anaconda3\\lib\\site-packages\\sklearn\\metrics\\ranking.py:113: RuntimeWarning: invalid value encountered in less\n",
      "  if np.any(dx < 0):\n",
      "C:\\ProgramData\\Anaconda3\\lib\\site-packages\\sklearn\\metrics\\classification.py:1439: UndefinedMetricWarning: Recall is ill-defined and being set to 0.0 due to no true samples.\n",
      "  'recall', 'true', average, warn_for)\n"
     ]
    },
    {
     "name": "stdout",
     "output_type": "stream",
     "text": [
      "Training Random Forest\n",
      "Combination 19 of 31\n",
      "Training Random Forest\n"
     ]
    },
    {
     "name": "stderr",
     "output_type": "stream",
     "text": [
      "C:\\ProgramData\\Anaconda3\\lib\\site-packages\\sklearn\\metrics\\classification.py:1439: UndefinedMetricWarning: F-score is ill-defined and being set to 0.0 due to no true samples.\n",
      "  'recall', 'true', average, warn_for)\n",
      "C:\\ProgramData\\Anaconda3\\lib\\site-packages\\sklearn\\metrics\\ranking.py:528: RuntimeWarning: invalid value encountered in true_divide\n",
      "  recall = tps / tps[-1]\n",
      "C:\\ProgramData\\Anaconda3\\lib\\site-packages\\sklearn\\metrics\\ranking.py:113: RuntimeWarning: invalid value encountered in less\n",
      "  if np.any(dx < 0):\n",
      "C:\\ProgramData\\Anaconda3\\lib\\site-packages\\sklearn\\metrics\\classification.py:1439: UndefinedMetricWarning: Recall is ill-defined and being set to 0.0 due to no true samples.\n",
      "  'recall', 'true', average, warn_for)\n"
     ]
    },
    {
     "name": "stdout",
     "output_type": "stream",
     "text": [
      "Training Random Forest\n",
      "Combination 20 of 31\n",
      "Training Random Forest\n"
     ]
    },
    {
     "name": "stderr",
     "output_type": "stream",
     "text": [
      "C:\\ProgramData\\Anaconda3\\lib\\site-packages\\sklearn\\metrics\\classification.py:1439: UndefinedMetricWarning: F-score is ill-defined and being set to 0.0 due to no true samples.\n",
      "  'recall', 'true', average, warn_for)\n",
      "C:\\ProgramData\\Anaconda3\\lib\\site-packages\\sklearn\\metrics\\ranking.py:528: RuntimeWarning: invalid value encountered in true_divide\n",
      "  recall = tps / tps[-1]\n",
      "C:\\ProgramData\\Anaconda3\\lib\\site-packages\\sklearn\\metrics\\ranking.py:113: RuntimeWarning: invalid value encountered in less\n",
      "  if np.any(dx < 0):\n",
      "C:\\ProgramData\\Anaconda3\\lib\\site-packages\\sklearn\\metrics\\classification.py:1439: UndefinedMetricWarning: Recall is ill-defined and being set to 0.0 due to no true samples.\n",
      "  'recall', 'true', average, warn_for)\n"
     ]
    },
    {
     "name": "stdout",
     "output_type": "stream",
     "text": [
      "Training Random Forest\n",
      "Combination 21 of 31\n",
      "Training Random Forest\n"
     ]
    },
    {
     "name": "stderr",
     "output_type": "stream",
     "text": [
      "C:\\ProgramData\\Anaconda3\\lib\\site-packages\\sklearn\\metrics\\classification.py:1439: UndefinedMetricWarning: F-score is ill-defined and being set to 0.0 due to no true samples.\n",
      "  'recall', 'true', average, warn_for)\n",
      "C:\\ProgramData\\Anaconda3\\lib\\site-packages\\sklearn\\metrics\\ranking.py:528: RuntimeWarning: invalid value encountered in true_divide\n",
      "  recall = tps / tps[-1]\n",
      "C:\\ProgramData\\Anaconda3\\lib\\site-packages\\sklearn\\metrics\\ranking.py:113: RuntimeWarning: invalid value encountered in less\n",
      "  if np.any(dx < 0):\n",
      "C:\\ProgramData\\Anaconda3\\lib\\site-packages\\sklearn\\metrics\\classification.py:1439: UndefinedMetricWarning: Recall is ill-defined and being set to 0.0 due to no true samples.\n",
      "  'recall', 'true', average, warn_for)\n"
     ]
    },
    {
     "name": "stdout",
     "output_type": "stream",
     "text": [
      "Training Random Forest\n",
      "Combination 22 of 31\n",
      "Training Random Forest\n"
     ]
    },
    {
     "name": "stderr",
     "output_type": "stream",
     "text": [
      "C:\\ProgramData\\Anaconda3\\lib\\site-packages\\sklearn\\metrics\\classification.py:1439: UndefinedMetricWarning: F-score is ill-defined and being set to 0.0 due to no true samples.\n",
      "  'recall', 'true', average, warn_for)\n",
      "C:\\ProgramData\\Anaconda3\\lib\\site-packages\\sklearn\\metrics\\ranking.py:528: RuntimeWarning: invalid value encountered in true_divide\n",
      "  recall = tps / tps[-1]\n",
      "C:\\ProgramData\\Anaconda3\\lib\\site-packages\\sklearn\\metrics\\ranking.py:113: RuntimeWarning: invalid value encountered in less\n",
      "  if np.any(dx < 0):\n",
      "C:\\ProgramData\\Anaconda3\\lib\\site-packages\\sklearn\\metrics\\classification.py:1439: UndefinedMetricWarning: Recall is ill-defined and being set to 0.0 due to no true samples.\n",
      "  'recall', 'true', average, warn_for)\n"
     ]
    },
    {
     "name": "stdout",
     "output_type": "stream",
     "text": [
      "Training Random Forest\n",
      "Combination 23 of 31\n",
      "Training Random Forest\n"
     ]
    },
    {
     "name": "stderr",
     "output_type": "stream",
     "text": [
      "C:\\ProgramData\\Anaconda3\\lib\\site-packages\\sklearn\\metrics\\classification.py:1439: UndefinedMetricWarning: F-score is ill-defined and being set to 0.0 due to no true samples.\n",
      "  'recall', 'true', average, warn_for)\n",
      "C:\\ProgramData\\Anaconda3\\lib\\site-packages\\sklearn\\metrics\\ranking.py:528: RuntimeWarning: invalid value encountered in true_divide\n",
      "  recall = tps / tps[-1]\n",
      "C:\\ProgramData\\Anaconda3\\lib\\site-packages\\sklearn\\metrics\\ranking.py:113: RuntimeWarning: invalid value encountered in less\n",
      "  if np.any(dx < 0):\n",
      "C:\\ProgramData\\Anaconda3\\lib\\site-packages\\sklearn\\metrics\\classification.py:1439: UndefinedMetricWarning: Recall is ill-defined and being set to 0.0 due to no true samples.\n",
      "  'recall', 'true', average, warn_for)\n"
     ]
    },
    {
     "name": "stdout",
     "output_type": "stream",
     "text": [
      "Training Random Forest\n",
      "Combination 24 of 31\n",
      "Training Random Forest\n"
     ]
    },
    {
     "name": "stderr",
     "output_type": "stream",
     "text": [
      "C:\\ProgramData\\Anaconda3\\lib\\site-packages\\sklearn\\metrics\\classification.py:1439: UndefinedMetricWarning: F-score is ill-defined and being set to 0.0 due to no true samples.\n",
      "  'recall', 'true', average, warn_for)\n",
      "C:\\ProgramData\\Anaconda3\\lib\\site-packages\\sklearn\\metrics\\ranking.py:528: RuntimeWarning: invalid value encountered in true_divide\n",
      "  recall = tps / tps[-1]\n",
      "C:\\ProgramData\\Anaconda3\\lib\\site-packages\\sklearn\\metrics\\ranking.py:113: RuntimeWarning: invalid value encountered in less\n",
      "  if np.any(dx < 0):\n",
      "C:\\ProgramData\\Anaconda3\\lib\\site-packages\\sklearn\\metrics\\classification.py:1439: UndefinedMetricWarning: Recall is ill-defined and being set to 0.0 due to no true samples.\n",
      "  'recall', 'true', average, warn_for)\n"
     ]
    },
    {
     "name": "stdout",
     "output_type": "stream",
     "text": [
      "Training Random Forest\n",
      "Combination 25 of 31\n",
      "Training Random Forest\n"
     ]
    },
    {
     "name": "stderr",
     "output_type": "stream",
     "text": [
      "C:\\ProgramData\\Anaconda3\\lib\\site-packages\\sklearn\\metrics\\classification.py:1439: UndefinedMetricWarning: F-score is ill-defined and being set to 0.0 due to no true samples.\n",
      "  'recall', 'true', average, warn_for)\n",
      "C:\\ProgramData\\Anaconda3\\lib\\site-packages\\sklearn\\metrics\\ranking.py:528: RuntimeWarning: invalid value encountered in true_divide\n",
      "  recall = tps / tps[-1]\n",
      "C:\\ProgramData\\Anaconda3\\lib\\site-packages\\sklearn\\metrics\\ranking.py:113: RuntimeWarning: invalid value encountered in less\n",
      "  if np.any(dx < 0):\n",
      "C:\\ProgramData\\Anaconda3\\lib\\site-packages\\sklearn\\metrics\\classification.py:1439: UndefinedMetricWarning: Recall is ill-defined and being set to 0.0 due to no true samples.\n",
      "  'recall', 'true', average, warn_for)\n"
     ]
    },
    {
     "name": "stdout",
     "output_type": "stream",
     "text": [
      "Training Random Forest\n",
      "Combination 26 of 31\n",
      "Training Random Forest\n"
     ]
    },
    {
     "name": "stderr",
     "output_type": "stream",
     "text": [
      "C:\\ProgramData\\Anaconda3\\lib\\site-packages\\sklearn\\metrics\\classification.py:1439: UndefinedMetricWarning: F-score is ill-defined and being set to 0.0 due to no true samples.\n",
      "  'recall', 'true', average, warn_for)\n",
      "C:\\ProgramData\\Anaconda3\\lib\\site-packages\\sklearn\\metrics\\ranking.py:528: RuntimeWarning: invalid value encountered in true_divide\n",
      "  recall = tps / tps[-1]\n",
      "C:\\ProgramData\\Anaconda3\\lib\\site-packages\\sklearn\\metrics\\ranking.py:113: RuntimeWarning: invalid value encountered in less\n",
      "  if np.any(dx < 0):\n",
      "C:\\ProgramData\\Anaconda3\\lib\\site-packages\\sklearn\\metrics\\classification.py:1439: UndefinedMetricWarning: Recall is ill-defined and being set to 0.0 due to no true samples.\n",
      "  'recall', 'true', average, warn_for)\n"
     ]
    },
    {
     "name": "stdout",
     "output_type": "stream",
     "text": [
      "Training Random Forest\n",
      "Combination 27 of 31\n",
      "Training Random Forest\n"
     ]
    },
    {
     "name": "stderr",
     "output_type": "stream",
     "text": [
      "C:\\ProgramData\\Anaconda3\\lib\\site-packages\\sklearn\\metrics\\classification.py:1439: UndefinedMetricWarning: F-score is ill-defined and being set to 0.0 due to no true samples.\n",
      "  'recall', 'true', average, warn_for)\n",
      "C:\\ProgramData\\Anaconda3\\lib\\site-packages\\sklearn\\metrics\\ranking.py:528: RuntimeWarning: invalid value encountered in true_divide\n",
      "  recall = tps / tps[-1]\n",
      "C:\\ProgramData\\Anaconda3\\lib\\site-packages\\sklearn\\metrics\\ranking.py:113: RuntimeWarning: invalid value encountered in less\n",
      "  if np.any(dx < 0):\n",
      "C:\\ProgramData\\Anaconda3\\lib\\site-packages\\sklearn\\metrics\\classification.py:1439: UndefinedMetricWarning: Recall is ill-defined and being set to 0.0 due to no true samples.\n",
      "  'recall', 'true', average, warn_for)\n"
     ]
    },
    {
     "name": "stdout",
     "output_type": "stream",
     "text": [
      "Training Random Forest\n",
      "Combination 28 of 31\n",
      "Training Random Forest\n"
     ]
    },
    {
     "name": "stderr",
     "output_type": "stream",
     "text": [
      "C:\\ProgramData\\Anaconda3\\lib\\site-packages\\sklearn\\metrics\\classification.py:1439: UndefinedMetricWarning: F-score is ill-defined and being set to 0.0 due to no true samples.\n",
      "  'recall', 'true', average, warn_for)\n",
      "C:\\ProgramData\\Anaconda3\\lib\\site-packages\\sklearn\\metrics\\ranking.py:528: RuntimeWarning: invalid value encountered in true_divide\n",
      "  recall = tps / tps[-1]\n",
      "C:\\ProgramData\\Anaconda3\\lib\\site-packages\\sklearn\\metrics\\ranking.py:113: RuntimeWarning: invalid value encountered in less\n",
      "  if np.any(dx < 0):\n",
      "C:\\ProgramData\\Anaconda3\\lib\\site-packages\\sklearn\\metrics\\classification.py:1439: UndefinedMetricWarning: Recall is ill-defined and being set to 0.0 due to no true samples.\n",
      "  'recall', 'true', average, warn_for)\n"
     ]
    },
    {
     "name": "stdout",
     "output_type": "stream",
     "text": [
      "Training Random Forest\n",
      "Combination 29 of 31\n",
      "Training Random Forest\n"
     ]
    },
    {
     "name": "stderr",
     "output_type": "stream",
     "text": [
      "C:\\ProgramData\\Anaconda3\\lib\\site-packages\\sklearn\\metrics\\classification.py:1439: UndefinedMetricWarning: F-score is ill-defined and being set to 0.0 due to no true samples.\n",
      "  'recall', 'true', average, warn_for)\n",
      "C:\\ProgramData\\Anaconda3\\lib\\site-packages\\sklearn\\metrics\\ranking.py:528: RuntimeWarning: invalid value encountered in true_divide\n",
      "  recall = tps / tps[-1]\n",
      "C:\\ProgramData\\Anaconda3\\lib\\site-packages\\sklearn\\metrics\\ranking.py:113: RuntimeWarning: invalid value encountered in less\n",
      "  if np.any(dx < 0):\n",
      "C:\\ProgramData\\Anaconda3\\lib\\site-packages\\sklearn\\metrics\\classification.py:1439: UndefinedMetricWarning: Recall is ill-defined and being set to 0.0 due to no true samples.\n",
      "  'recall', 'true', average, warn_for)\n"
     ]
    },
    {
     "name": "stdout",
     "output_type": "stream",
     "text": [
      "Training Random Forest\n",
      "Combination 30 of 31\n",
      "Training Random Forest\n"
     ]
    },
    {
     "name": "stderr",
     "output_type": "stream",
     "text": [
      "C:\\ProgramData\\Anaconda3\\lib\\site-packages\\sklearn\\metrics\\classification.py:1439: UndefinedMetricWarning: F-score is ill-defined and being set to 0.0 due to no true samples.\n",
      "  'recall', 'true', average, warn_for)\n",
      "C:\\ProgramData\\Anaconda3\\lib\\site-packages\\sklearn\\metrics\\ranking.py:528: RuntimeWarning: invalid value encountered in true_divide\n",
      "  recall = tps / tps[-1]\n",
      "C:\\ProgramData\\Anaconda3\\lib\\site-packages\\sklearn\\metrics\\ranking.py:113: RuntimeWarning: invalid value encountered in less\n",
      "  if np.any(dx < 0):\n",
      "C:\\ProgramData\\Anaconda3\\lib\\site-packages\\sklearn\\metrics\\classification.py:1439: UndefinedMetricWarning: Recall is ill-defined and being set to 0.0 due to no true samples.\n",
      "  'recall', 'true', average, warn_for)\n"
     ]
    },
    {
     "name": "stdout",
     "output_type": "stream",
     "text": [
      "Training Random Forest\n",
      "Combination 31 of 31\n",
      "Training Random Forest\n"
     ]
    },
    {
     "name": "stderr",
     "output_type": "stream",
     "text": [
      "C:\\ProgramData\\Anaconda3\\lib\\site-packages\\sklearn\\metrics\\classification.py:1439: UndefinedMetricWarning: F-score is ill-defined and being set to 0.0 due to no true samples.\n",
      "  'recall', 'true', average, warn_for)\n",
      "C:\\ProgramData\\Anaconda3\\lib\\site-packages\\sklearn\\metrics\\ranking.py:528: RuntimeWarning: invalid value encountered in true_divide\n",
      "  recall = tps / tps[-1]\n",
      "C:\\ProgramData\\Anaconda3\\lib\\site-packages\\sklearn\\metrics\\ranking.py:113: RuntimeWarning: invalid value encountered in less\n",
      "  if np.any(dx < 0):\n",
      "C:\\ProgramData\\Anaconda3\\lib\\site-packages\\sklearn\\metrics\\classification.py:1439: UndefinedMetricWarning: Recall is ill-defined and being set to 0.0 due to no true samples.\n",
      "  'recall', 'true', average, warn_for)\n"
     ]
    },
    {
     "name": "stdout",
     "output_type": "stream",
     "text": [
      "Training Random Forest\n",
      "watch, Bradykinesia\n",
      "Combination 1 of 31\n",
      "Training Random Forest\n",
      "Training Random Forest\n",
      "Combination 2 of 31\n",
      "Training Random Forest\n",
      "Training Random Forest\n",
      "Combination 3 of 31\n",
      "Training Random Forest\n",
      "Training Random Forest\n",
      "Combination 4 of 31\n",
      "Training Random Forest\n",
      "Training Random Forest\n",
      "Combination 5 of 31\n",
      "Training Random Forest\n",
      "Training Random Forest\n",
      "Combination 6 of 31\n",
      "Training Random Forest\n",
      "Training Random Forest\n",
      "Combination 7 of 31\n",
      "Training Random Forest\n",
      "Training Random Forest\n",
      "Combination 8 of 31\n",
      "Training Random Forest\n",
      "Training Random Forest\n",
      "Combination 9 of 31\n",
      "Training Random Forest\n",
      "Training Random Forest\n",
      "Combination 10 of 31\n",
      "Training Random Forest\n",
      "Training Random Forest\n",
      "Combination 11 of 31\n",
      "Training Random Forest\n",
      "Training Random Forest\n",
      "Combination 12 of 31\n",
      "Training Random Forest\n",
      "Training Random Forest\n",
      "Combination 13 of 31\n",
      "Training Random Forest\n",
      "Training Random Forest\n",
      "Combination 14 of 31\n",
      "Training Random Forest\n",
      "Training Random Forest\n",
      "Combination 15 of 31\n",
      "Training Random Forest\n",
      "Training Random Forest\n",
      "Combination 16 of 31\n",
      "Training Random Forest\n",
      "Training Random Forest\n",
      "Combination 17 of 31\n",
      "Training Random Forest\n",
      "Training Random Forest\n",
      "Combination 18 of 31\n",
      "Training Random Forest\n",
      "Training Random Forest\n",
      "Combination 19 of 31\n",
      "Training Random Forest\n",
      "Training Random Forest\n",
      "Combination 20 of 31\n",
      "Training Random Forest\n",
      "Training Random Forest\n",
      "Combination 21 of 31\n",
      "Training Random Forest\n",
      "Training Random Forest\n",
      "Combination 22 of 31\n",
      "Training Random Forest\n",
      "Training Random Forest\n",
      "Combination 23 of 31\n",
      "Training Random Forest\n",
      "Training Random Forest\n",
      "Combination 24 of 31\n",
      "Training Random Forest\n",
      "Training Random Forest\n",
      "Combination 25 of 31\n",
      "Training Random Forest\n",
      "Training Random Forest\n",
      "Combination 26 of 31\n",
      "Training Random Forest\n",
      "Training Random Forest\n",
      "Combination 27 of 31\n",
      "Training Random Forest\n",
      "Training Random Forest\n",
      "Combination 28 of 31\n",
      "Training Random Forest\n",
      "Training Random Forest\n",
      "Combination 29 of 31\n",
      "Training Random Forest\n",
      "Training Random Forest\n",
      "Combination 30 of 31\n",
      "Training Random Forest\n",
      "Training Random Forest\n",
      "Combination 31 of 31\n",
      "Training Random Forest\n",
      "Training Random Forest\n",
      "sensor, Tremor\n",
      "Combination 1 of 31\n",
      "Training Random Forest\n"
     ]
    },
    {
     "name": "stderr",
     "output_type": "stream",
     "text": [
      "C:\\ProgramData\\Anaconda3\\lib\\site-packages\\sklearn\\metrics\\classification.py:1439: UndefinedMetricWarning: F-score is ill-defined and being set to 0.0 due to no true samples.\n",
      "  'recall', 'true', average, warn_for)\n",
      "C:\\ProgramData\\Anaconda3\\lib\\site-packages\\sklearn\\metrics\\ranking.py:528: RuntimeWarning: invalid value encountered in true_divide\n",
      "  recall = tps / tps[-1]\n",
      "C:\\ProgramData\\Anaconda3\\lib\\site-packages\\sklearn\\metrics\\ranking.py:113: RuntimeWarning: invalid value encountered in less\n",
      "  if np.any(dx < 0):\n",
      "C:\\ProgramData\\Anaconda3\\lib\\site-packages\\sklearn\\metrics\\classification.py:1439: UndefinedMetricWarning: Recall is ill-defined and being set to 0.0 due to no true samples.\n",
      "  'recall', 'true', average, warn_for)\n"
     ]
    },
    {
     "name": "stdout",
     "output_type": "stream",
     "text": [
      "Training Random Forest\n",
      "Combination 2 of 31\n",
      "Training Random Forest\n"
     ]
    },
    {
     "name": "stderr",
     "output_type": "stream",
     "text": [
      "C:\\ProgramData\\Anaconda3\\lib\\site-packages\\sklearn\\metrics\\classification.py:1439: UndefinedMetricWarning: F-score is ill-defined and being set to 0.0 due to no true samples.\n",
      "  'recall', 'true', average, warn_for)\n",
      "C:\\ProgramData\\Anaconda3\\lib\\site-packages\\sklearn\\metrics\\ranking.py:528: RuntimeWarning: invalid value encountered in true_divide\n",
      "  recall = tps / tps[-1]\n",
      "C:\\ProgramData\\Anaconda3\\lib\\site-packages\\sklearn\\metrics\\ranking.py:113: RuntimeWarning: invalid value encountered in less\n",
      "  if np.any(dx < 0):\n",
      "C:\\ProgramData\\Anaconda3\\lib\\site-packages\\sklearn\\metrics\\classification.py:1439: UndefinedMetricWarning: Recall is ill-defined and being set to 0.0 due to no true samples.\n",
      "  'recall', 'true', average, warn_for)\n"
     ]
    },
    {
     "name": "stdout",
     "output_type": "stream",
     "text": [
      "Training Random Forest\n",
      "Combination 3 of 31\n",
      "Training Random Forest\n"
     ]
    },
    {
     "name": "stderr",
     "output_type": "stream",
     "text": [
      "C:\\ProgramData\\Anaconda3\\lib\\site-packages\\sklearn\\metrics\\classification.py:1439: UndefinedMetricWarning: F-score is ill-defined and being set to 0.0 due to no true samples.\n",
      "  'recall', 'true', average, warn_for)\n",
      "C:\\ProgramData\\Anaconda3\\lib\\site-packages\\sklearn\\metrics\\ranking.py:528: RuntimeWarning: invalid value encountered in true_divide\n",
      "  recall = tps / tps[-1]\n",
      "C:\\ProgramData\\Anaconda3\\lib\\site-packages\\sklearn\\metrics\\ranking.py:113: RuntimeWarning: invalid value encountered in less\n",
      "  if np.any(dx < 0):\n",
      "C:\\ProgramData\\Anaconda3\\lib\\site-packages\\sklearn\\metrics\\classification.py:1439: UndefinedMetricWarning: Recall is ill-defined and being set to 0.0 due to no true samples.\n",
      "  'recall', 'true', average, warn_for)\n"
     ]
    },
    {
     "name": "stdout",
     "output_type": "stream",
     "text": [
      "Training Random Forest\n",
      "Combination 4 of 31\n",
      "Training Random Forest\n"
     ]
    },
    {
     "name": "stderr",
     "output_type": "stream",
     "text": [
      "C:\\ProgramData\\Anaconda3\\lib\\site-packages\\sklearn\\metrics\\classification.py:1439: UndefinedMetricWarning: F-score is ill-defined and being set to 0.0 due to no true samples.\n",
      "  'recall', 'true', average, warn_for)\n",
      "C:\\ProgramData\\Anaconda3\\lib\\site-packages\\sklearn\\metrics\\ranking.py:528: RuntimeWarning: invalid value encountered in true_divide\n",
      "  recall = tps / tps[-1]\n",
      "C:\\ProgramData\\Anaconda3\\lib\\site-packages\\sklearn\\metrics\\ranking.py:113: RuntimeWarning: invalid value encountered in less\n",
      "  if np.any(dx < 0):\n",
      "C:\\ProgramData\\Anaconda3\\lib\\site-packages\\sklearn\\metrics\\classification.py:1439: UndefinedMetricWarning: Recall is ill-defined and being set to 0.0 due to no true samples.\n",
      "  'recall', 'true', average, warn_for)\n"
     ]
    },
    {
     "name": "stdout",
     "output_type": "stream",
     "text": [
      "Training Random Forest\n",
      "Combination 5 of 31\n",
      "Training Random Forest\n"
     ]
    },
    {
     "name": "stderr",
     "output_type": "stream",
     "text": [
      "C:\\ProgramData\\Anaconda3\\lib\\site-packages\\sklearn\\metrics\\classification.py:1439: UndefinedMetricWarning: F-score is ill-defined and being set to 0.0 due to no true samples.\n",
      "  'recall', 'true', average, warn_for)\n",
      "C:\\ProgramData\\Anaconda3\\lib\\site-packages\\sklearn\\metrics\\ranking.py:528: RuntimeWarning: invalid value encountered in true_divide\n",
      "  recall = tps / tps[-1]\n",
      "C:\\ProgramData\\Anaconda3\\lib\\site-packages\\sklearn\\metrics\\ranking.py:113: RuntimeWarning: invalid value encountered in less\n",
      "  if np.any(dx < 0):\n",
      "C:\\ProgramData\\Anaconda3\\lib\\site-packages\\sklearn\\metrics\\classification.py:1439: UndefinedMetricWarning: Recall is ill-defined and being set to 0.0 due to no true samples.\n",
      "  'recall', 'true', average, warn_for)\n"
     ]
    },
    {
     "name": "stdout",
     "output_type": "stream",
     "text": [
      "Training Random Forest\n",
      "Combination 6 of 31\n",
      "Training Random Forest\n"
     ]
    },
    {
     "name": "stderr",
     "output_type": "stream",
     "text": [
      "C:\\ProgramData\\Anaconda3\\lib\\site-packages\\sklearn\\metrics\\classification.py:1439: UndefinedMetricWarning: F-score is ill-defined and being set to 0.0 due to no true samples.\n",
      "  'recall', 'true', average, warn_for)\n",
      "C:\\ProgramData\\Anaconda3\\lib\\site-packages\\sklearn\\metrics\\ranking.py:528: RuntimeWarning: invalid value encountered in true_divide\n",
      "  recall = tps / tps[-1]\n",
      "C:\\ProgramData\\Anaconda3\\lib\\site-packages\\sklearn\\metrics\\ranking.py:113: RuntimeWarning: invalid value encountered in less\n",
      "  if np.any(dx < 0):\n",
      "C:\\ProgramData\\Anaconda3\\lib\\site-packages\\sklearn\\metrics\\classification.py:1439: UndefinedMetricWarning: Recall is ill-defined and being set to 0.0 due to no true samples.\n",
      "  'recall', 'true', average, warn_for)\n"
     ]
    },
    {
     "name": "stdout",
     "output_type": "stream",
     "text": [
      "Training Random Forest\n",
      "Combination 7 of 31\n",
      "Training Random Forest\n"
     ]
    },
    {
     "name": "stderr",
     "output_type": "stream",
     "text": [
      "C:\\ProgramData\\Anaconda3\\lib\\site-packages\\sklearn\\metrics\\classification.py:1439: UndefinedMetricWarning: F-score is ill-defined and being set to 0.0 due to no true samples.\n",
      "  'recall', 'true', average, warn_for)\n",
      "C:\\ProgramData\\Anaconda3\\lib\\site-packages\\sklearn\\metrics\\ranking.py:528: RuntimeWarning: invalid value encountered in true_divide\n",
      "  recall = tps / tps[-1]\n",
      "C:\\ProgramData\\Anaconda3\\lib\\site-packages\\sklearn\\metrics\\ranking.py:113: RuntimeWarning: invalid value encountered in less\n",
      "  if np.any(dx < 0):\n",
      "C:\\ProgramData\\Anaconda3\\lib\\site-packages\\sklearn\\metrics\\classification.py:1439: UndefinedMetricWarning: Recall is ill-defined and being set to 0.0 due to no true samples.\n",
      "  'recall', 'true', average, warn_for)\n"
     ]
    },
    {
     "name": "stdout",
     "output_type": "stream",
     "text": [
      "Training Random Forest\n",
      "Combination 8 of 31\n",
      "Training Random Forest\n"
     ]
    },
    {
     "name": "stderr",
     "output_type": "stream",
     "text": [
      "C:\\ProgramData\\Anaconda3\\lib\\site-packages\\sklearn\\metrics\\classification.py:1439: UndefinedMetricWarning: F-score is ill-defined and being set to 0.0 due to no true samples.\n",
      "  'recall', 'true', average, warn_for)\n",
      "C:\\ProgramData\\Anaconda3\\lib\\site-packages\\sklearn\\metrics\\ranking.py:528: RuntimeWarning: invalid value encountered in true_divide\n",
      "  recall = tps / tps[-1]\n",
      "C:\\ProgramData\\Anaconda3\\lib\\site-packages\\sklearn\\metrics\\ranking.py:113: RuntimeWarning: invalid value encountered in less\n",
      "  if np.any(dx < 0):\n",
      "C:\\ProgramData\\Anaconda3\\lib\\site-packages\\sklearn\\metrics\\classification.py:1439: UndefinedMetricWarning: Recall is ill-defined and being set to 0.0 due to no true samples.\n",
      "  'recall', 'true', average, warn_for)\n"
     ]
    },
    {
     "name": "stdout",
     "output_type": "stream",
     "text": [
      "Training Random Forest\n",
      "Combination 9 of 31\n",
      "Training Random Forest\n"
     ]
    },
    {
     "name": "stderr",
     "output_type": "stream",
     "text": [
      "C:\\ProgramData\\Anaconda3\\lib\\site-packages\\sklearn\\metrics\\classification.py:1439: UndefinedMetricWarning: F-score is ill-defined and being set to 0.0 due to no true samples.\n",
      "  'recall', 'true', average, warn_for)\n",
      "C:\\ProgramData\\Anaconda3\\lib\\site-packages\\sklearn\\metrics\\ranking.py:528: RuntimeWarning: invalid value encountered in true_divide\n",
      "  recall = tps / tps[-1]\n",
      "C:\\ProgramData\\Anaconda3\\lib\\site-packages\\sklearn\\metrics\\ranking.py:113: RuntimeWarning: invalid value encountered in less\n",
      "  if np.any(dx < 0):\n",
      "C:\\ProgramData\\Anaconda3\\lib\\site-packages\\sklearn\\metrics\\classification.py:1439: UndefinedMetricWarning: Recall is ill-defined and being set to 0.0 due to no true samples.\n",
      "  'recall', 'true', average, warn_for)\n"
     ]
    },
    {
     "name": "stdout",
     "output_type": "stream",
     "text": [
      "Training Random Forest\n",
      "Combination 10 of 31\n",
      "Training Random Forest\n"
     ]
    },
    {
     "name": "stderr",
     "output_type": "stream",
     "text": [
      "C:\\ProgramData\\Anaconda3\\lib\\site-packages\\sklearn\\metrics\\classification.py:1439: UndefinedMetricWarning: F-score is ill-defined and being set to 0.0 due to no true samples.\n",
      "  'recall', 'true', average, warn_for)\n",
      "C:\\ProgramData\\Anaconda3\\lib\\site-packages\\sklearn\\metrics\\ranking.py:528: RuntimeWarning: invalid value encountered in true_divide\n",
      "  recall = tps / tps[-1]\n",
      "C:\\ProgramData\\Anaconda3\\lib\\site-packages\\sklearn\\metrics\\ranking.py:113: RuntimeWarning: invalid value encountered in less\n",
      "  if np.any(dx < 0):\n",
      "C:\\ProgramData\\Anaconda3\\lib\\site-packages\\sklearn\\metrics\\classification.py:1439: UndefinedMetricWarning: Recall is ill-defined and being set to 0.0 due to no true samples.\n",
      "  'recall', 'true', average, warn_for)\n"
     ]
    },
    {
     "name": "stdout",
     "output_type": "stream",
     "text": [
      "Training Random Forest\n",
      "Combination 11 of 31\n",
      "Training Random Forest\n"
     ]
    },
    {
     "name": "stderr",
     "output_type": "stream",
     "text": [
      "C:\\ProgramData\\Anaconda3\\lib\\site-packages\\sklearn\\metrics\\classification.py:1439: UndefinedMetricWarning: F-score is ill-defined and being set to 0.0 due to no true samples.\n",
      "  'recall', 'true', average, warn_for)\n",
      "C:\\ProgramData\\Anaconda3\\lib\\site-packages\\sklearn\\metrics\\ranking.py:528: RuntimeWarning: invalid value encountered in true_divide\n",
      "  recall = tps / tps[-1]\n",
      "C:\\ProgramData\\Anaconda3\\lib\\site-packages\\sklearn\\metrics\\ranking.py:113: RuntimeWarning: invalid value encountered in less\n",
      "  if np.any(dx < 0):\n",
      "C:\\ProgramData\\Anaconda3\\lib\\site-packages\\sklearn\\metrics\\classification.py:1439: UndefinedMetricWarning: Recall is ill-defined and being set to 0.0 due to no true samples.\n",
      "  'recall', 'true', average, warn_for)\n"
     ]
    },
    {
     "name": "stdout",
     "output_type": "stream",
     "text": [
      "Training Random Forest\n",
      "Combination 12 of 31\n",
      "Training Random Forest\n"
     ]
    },
    {
     "name": "stderr",
     "output_type": "stream",
     "text": [
      "C:\\ProgramData\\Anaconda3\\lib\\site-packages\\sklearn\\metrics\\classification.py:1439: UndefinedMetricWarning: F-score is ill-defined and being set to 0.0 due to no true samples.\n",
      "  'recall', 'true', average, warn_for)\n",
      "C:\\ProgramData\\Anaconda3\\lib\\site-packages\\sklearn\\metrics\\ranking.py:528: RuntimeWarning: invalid value encountered in true_divide\n",
      "  recall = tps / tps[-1]\n",
      "C:\\ProgramData\\Anaconda3\\lib\\site-packages\\sklearn\\metrics\\ranking.py:113: RuntimeWarning: invalid value encountered in less\n",
      "  if np.any(dx < 0):\n",
      "C:\\ProgramData\\Anaconda3\\lib\\site-packages\\sklearn\\metrics\\classification.py:1439: UndefinedMetricWarning: Recall is ill-defined and being set to 0.0 due to no true samples.\n",
      "  'recall', 'true', average, warn_for)\n"
     ]
    },
    {
     "name": "stdout",
     "output_type": "stream",
     "text": [
      "Training Random Forest\n",
      "Combination 13 of 31\n",
      "Training Random Forest\n"
     ]
    },
    {
     "name": "stderr",
     "output_type": "stream",
     "text": [
      "C:\\ProgramData\\Anaconda3\\lib\\site-packages\\sklearn\\metrics\\classification.py:1439: UndefinedMetricWarning: F-score is ill-defined and being set to 0.0 due to no true samples.\n",
      "  'recall', 'true', average, warn_for)\n",
      "C:\\ProgramData\\Anaconda3\\lib\\site-packages\\sklearn\\metrics\\ranking.py:528: RuntimeWarning: invalid value encountered in true_divide\n",
      "  recall = tps / tps[-1]\n",
      "C:\\ProgramData\\Anaconda3\\lib\\site-packages\\sklearn\\metrics\\ranking.py:113: RuntimeWarning: invalid value encountered in less\n",
      "  if np.any(dx < 0):\n",
      "C:\\ProgramData\\Anaconda3\\lib\\site-packages\\sklearn\\metrics\\classification.py:1439: UndefinedMetricWarning: Recall is ill-defined and being set to 0.0 due to no true samples.\n",
      "  'recall', 'true', average, warn_for)\n"
     ]
    },
    {
     "name": "stdout",
     "output_type": "stream",
     "text": [
      "Training Random Forest\n",
      "Combination 14 of 31\n",
      "Training Random Forest\n"
     ]
    },
    {
     "name": "stderr",
     "output_type": "stream",
     "text": [
      "C:\\ProgramData\\Anaconda3\\lib\\site-packages\\sklearn\\metrics\\classification.py:1439: UndefinedMetricWarning: F-score is ill-defined and being set to 0.0 due to no true samples.\n",
      "  'recall', 'true', average, warn_for)\n",
      "C:\\ProgramData\\Anaconda3\\lib\\site-packages\\sklearn\\metrics\\ranking.py:528: RuntimeWarning: invalid value encountered in true_divide\n",
      "  recall = tps / tps[-1]\n",
      "C:\\ProgramData\\Anaconda3\\lib\\site-packages\\sklearn\\metrics\\ranking.py:113: RuntimeWarning: invalid value encountered in less\n",
      "  if np.any(dx < 0):\n",
      "C:\\ProgramData\\Anaconda3\\lib\\site-packages\\sklearn\\metrics\\classification.py:1439: UndefinedMetricWarning: Recall is ill-defined and being set to 0.0 due to no true samples.\n",
      "  'recall', 'true', average, warn_for)\n"
     ]
    },
    {
     "name": "stdout",
     "output_type": "stream",
     "text": [
      "Training Random Forest\n",
      "Combination 15 of 31\n",
      "Training Random Forest\n"
     ]
    },
    {
     "name": "stderr",
     "output_type": "stream",
     "text": [
      "C:\\ProgramData\\Anaconda3\\lib\\site-packages\\sklearn\\metrics\\classification.py:1439: UndefinedMetricWarning: F-score is ill-defined and being set to 0.0 due to no true samples.\n",
      "  'recall', 'true', average, warn_for)\n",
      "C:\\ProgramData\\Anaconda3\\lib\\site-packages\\sklearn\\metrics\\ranking.py:528: RuntimeWarning: invalid value encountered in true_divide\n",
      "  recall = tps / tps[-1]\n",
      "C:\\ProgramData\\Anaconda3\\lib\\site-packages\\sklearn\\metrics\\ranking.py:113: RuntimeWarning: invalid value encountered in less\n",
      "  if np.any(dx < 0):\n",
      "C:\\ProgramData\\Anaconda3\\lib\\site-packages\\sklearn\\metrics\\classification.py:1439: UndefinedMetricWarning: Recall is ill-defined and being set to 0.0 due to no true samples.\n",
      "  'recall', 'true', average, warn_for)\n"
     ]
    },
    {
     "name": "stdout",
     "output_type": "stream",
     "text": [
      "Training Random Forest\n",
      "Combination 16 of 31\n",
      "Training Random Forest\n"
     ]
    },
    {
     "name": "stderr",
     "output_type": "stream",
     "text": [
      "C:\\ProgramData\\Anaconda3\\lib\\site-packages\\sklearn\\metrics\\classification.py:1439: UndefinedMetricWarning: F-score is ill-defined and being set to 0.0 due to no true samples.\n",
      "  'recall', 'true', average, warn_for)\n",
      "C:\\ProgramData\\Anaconda3\\lib\\site-packages\\sklearn\\metrics\\ranking.py:528: RuntimeWarning: invalid value encountered in true_divide\n",
      "  recall = tps / tps[-1]\n",
      "C:\\ProgramData\\Anaconda3\\lib\\site-packages\\sklearn\\metrics\\ranking.py:113: RuntimeWarning: invalid value encountered in less\n",
      "  if np.any(dx < 0):\n",
      "C:\\ProgramData\\Anaconda3\\lib\\site-packages\\sklearn\\metrics\\classification.py:1439: UndefinedMetricWarning: Recall is ill-defined and being set to 0.0 due to no true samples.\n",
      "  'recall', 'true', average, warn_for)\n"
     ]
    },
    {
     "name": "stdout",
     "output_type": "stream",
     "text": [
      "Training Random Forest\n",
      "Combination 17 of 31\n",
      "Training Random Forest\n"
     ]
    },
    {
     "name": "stderr",
     "output_type": "stream",
     "text": [
      "C:\\ProgramData\\Anaconda3\\lib\\site-packages\\sklearn\\metrics\\classification.py:1439: UndefinedMetricWarning: F-score is ill-defined and being set to 0.0 due to no true samples.\n",
      "  'recall', 'true', average, warn_for)\n",
      "C:\\ProgramData\\Anaconda3\\lib\\site-packages\\sklearn\\metrics\\ranking.py:528: RuntimeWarning: invalid value encountered in true_divide\n",
      "  recall = tps / tps[-1]\n",
      "C:\\ProgramData\\Anaconda3\\lib\\site-packages\\sklearn\\metrics\\ranking.py:113: RuntimeWarning: invalid value encountered in less\n",
      "  if np.any(dx < 0):\n",
      "C:\\ProgramData\\Anaconda3\\lib\\site-packages\\sklearn\\metrics\\classification.py:1439: UndefinedMetricWarning: Recall is ill-defined and being set to 0.0 due to no true samples.\n",
      "  'recall', 'true', average, warn_for)\n"
     ]
    },
    {
     "name": "stdout",
     "output_type": "stream",
     "text": [
      "Training Random Forest\n",
      "Combination 18 of 31\n",
      "Training Random Forest\n"
     ]
    },
    {
     "name": "stderr",
     "output_type": "stream",
     "text": [
      "C:\\ProgramData\\Anaconda3\\lib\\site-packages\\sklearn\\metrics\\classification.py:1439: UndefinedMetricWarning: F-score is ill-defined and being set to 0.0 due to no true samples.\n",
      "  'recall', 'true', average, warn_for)\n",
      "C:\\ProgramData\\Anaconda3\\lib\\site-packages\\sklearn\\metrics\\ranking.py:528: RuntimeWarning: invalid value encountered in true_divide\n",
      "  recall = tps / tps[-1]\n",
      "C:\\ProgramData\\Anaconda3\\lib\\site-packages\\sklearn\\metrics\\ranking.py:113: RuntimeWarning: invalid value encountered in less\n",
      "  if np.any(dx < 0):\n",
      "C:\\ProgramData\\Anaconda3\\lib\\site-packages\\sklearn\\metrics\\classification.py:1439: UndefinedMetricWarning: Recall is ill-defined and being set to 0.0 due to no true samples.\n",
      "  'recall', 'true', average, warn_for)\n"
     ]
    },
    {
     "name": "stdout",
     "output_type": "stream",
     "text": [
      "Training Random Forest\n",
      "Combination 19 of 31\n",
      "Training Random Forest\n"
     ]
    },
    {
     "name": "stderr",
     "output_type": "stream",
     "text": [
      "C:\\ProgramData\\Anaconda3\\lib\\site-packages\\sklearn\\metrics\\classification.py:1439: UndefinedMetricWarning: F-score is ill-defined and being set to 0.0 due to no true samples.\n",
      "  'recall', 'true', average, warn_for)\n",
      "C:\\ProgramData\\Anaconda3\\lib\\site-packages\\sklearn\\metrics\\ranking.py:528: RuntimeWarning: invalid value encountered in true_divide\n",
      "  recall = tps / tps[-1]\n",
      "C:\\ProgramData\\Anaconda3\\lib\\site-packages\\sklearn\\metrics\\ranking.py:113: RuntimeWarning: invalid value encountered in less\n",
      "  if np.any(dx < 0):\n",
      "C:\\ProgramData\\Anaconda3\\lib\\site-packages\\sklearn\\metrics\\classification.py:1439: UndefinedMetricWarning: Recall is ill-defined and being set to 0.0 due to no true samples.\n",
      "  'recall', 'true', average, warn_for)\n"
     ]
    },
    {
     "name": "stdout",
     "output_type": "stream",
     "text": [
      "Training Random Forest\n",
      "Combination 20 of 31\n",
      "Training Random Forest\n"
     ]
    },
    {
     "name": "stderr",
     "output_type": "stream",
     "text": [
      "C:\\ProgramData\\Anaconda3\\lib\\site-packages\\sklearn\\metrics\\classification.py:1439: UndefinedMetricWarning: F-score is ill-defined and being set to 0.0 due to no true samples.\n",
      "  'recall', 'true', average, warn_for)\n",
      "C:\\ProgramData\\Anaconda3\\lib\\site-packages\\sklearn\\metrics\\ranking.py:528: RuntimeWarning: invalid value encountered in true_divide\n",
      "  recall = tps / tps[-1]\n",
      "C:\\ProgramData\\Anaconda3\\lib\\site-packages\\sklearn\\metrics\\ranking.py:113: RuntimeWarning: invalid value encountered in less\n",
      "  if np.any(dx < 0):\n",
      "C:\\ProgramData\\Anaconda3\\lib\\site-packages\\sklearn\\metrics\\classification.py:1439: UndefinedMetricWarning: Recall is ill-defined and being set to 0.0 due to no true samples.\n",
      "  'recall', 'true', average, warn_for)\n"
     ]
    },
    {
     "name": "stdout",
     "output_type": "stream",
     "text": [
      "Training Random Forest\n",
      "Combination 21 of 31\n",
      "Training Random Forest\n"
     ]
    },
    {
     "name": "stderr",
     "output_type": "stream",
     "text": [
      "C:\\ProgramData\\Anaconda3\\lib\\site-packages\\sklearn\\metrics\\classification.py:1439: UndefinedMetricWarning: F-score is ill-defined and being set to 0.0 due to no true samples.\n",
      "  'recall', 'true', average, warn_for)\n",
      "C:\\ProgramData\\Anaconda3\\lib\\site-packages\\sklearn\\metrics\\ranking.py:528: RuntimeWarning: invalid value encountered in true_divide\n",
      "  recall = tps / tps[-1]\n",
      "C:\\ProgramData\\Anaconda3\\lib\\site-packages\\sklearn\\metrics\\ranking.py:113: RuntimeWarning: invalid value encountered in less\n",
      "  if np.any(dx < 0):\n",
      "C:\\ProgramData\\Anaconda3\\lib\\site-packages\\sklearn\\metrics\\classification.py:1439: UndefinedMetricWarning: Recall is ill-defined and being set to 0.0 due to no true samples.\n",
      "  'recall', 'true', average, warn_for)\n"
     ]
    },
    {
     "name": "stdout",
     "output_type": "stream",
     "text": [
      "Training Random Forest\n",
      "Combination 22 of 31\n",
      "Training Random Forest\n"
     ]
    },
    {
     "name": "stderr",
     "output_type": "stream",
     "text": [
      "C:\\ProgramData\\Anaconda3\\lib\\site-packages\\sklearn\\metrics\\classification.py:1439: UndefinedMetricWarning: F-score is ill-defined and being set to 0.0 due to no true samples.\n",
      "  'recall', 'true', average, warn_for)\n",
      "C:\\ProgramData\\Anaconda3\\lib\\site-packages\\sklearn\\metrics\\ranking.py:528: RuntimeWarning: invalid value encountered in true_divide\n",
      "  recall = tps / tps[-1]\n",
      "C:\\ProgramData\\Anaconda3\\lib\\site-packages\\sklearn\\metrics\\ranking.py:113: RuntimeWarning: invalid value encountered in less\n",
      "  if np.any(dx < 0):\n",
      "C:\\ProgramData\\Anaconda3\\lib\\site-packages\\sklearn\\metrics\\classification.py:1439: UndefinedMetricWarning: Recall is ill-defined and being set to 0.0 due to no true samples.\n",
      "  'recall', 'true', average, warn_for)\n"
     ]
    },
    {
     "name": "stdout",
     "output_type": "stream",
     "text": [
      "Training Random Forest\n",
      "Combination 23 of 31\n",
      "Training Random Forest\n"
     ]
    },
    {
     "name": "stderr",
     "output_type": "stream",
     "text": [
      "C:\\ProgramData\\Anaconda3\\lib\\site-packages\\sklearn\\metrics\\classification.py:1439: UndefinedMetricWarning: F-score is ill-defined and being set to 0.0 due to no true samples.\n",
      "  'recall', 'true', average, warn_for)\n",
      "C:\\ProgramData\\Anaconda3\\lib\\site-packages\\sklearn\\metrics\\ranking.py:528: RuntimeWarning: invalid value encountered in true_divide\n",
      "  recall = tps / tps[-1]\n",
      "C:\\ProgramData\\Anaconda3\\lib\\site-packages\\sklearn\\metrics\\ranking.py:113: RuntimeWarning: invalid value encountered in less\n",
      "  if np.any(dx < 0):\n",
      "C:\\ProgramData\\Anaconda3\\lib\\site-packages\\sklearn\\metrics\\classification.py:1439: UndefinedMetricWarning: Recall is ill-defined and being set to 0.0 due to no true samples.\n",
      "  'recall', 'true', average, warn_for)\n"
     ]
    },
    {
     "name": "stdout",
     "output_type": "stream",
     "text": [
      "Training Random Forest\n",
      "Combination 24 of 31\n",
      "Training Random Forest\n"
     ]
    },
    {
     "name": "stderr",
     "output_type": "stream",
     "text": [
      "C:\\ProgramData\\Anaconda3\\lib\\site-packages\\sklearn\\metrics\\classification.py:1439: UndefinedMetricWarning: F-score is ill-defined and being set to 0.0 due to no true samples.\n",
      "  'recall', 'true', average, warn_for)\n",
      "C:\\ProgramData\\Anaconda3\\lib\\site-packages\\sklearn\\metrics\\ranking.py:528: RuntimeWarning: invalid value encountered in true_divide\n",
      "  recall = tps / tps[-1]\n",
      "C:\\ProgramData\\Anaconda3\\lib\\site-packages\\sklearn\\metrics\\ranking.py:113: RuntimeWarning: invalid value encountered in less\n",
      "  if np.any(dx < 0):\n",
      "C:\\ProgramData\\Anaconda3\\lib\\site-packages\\sklearn\\metrics\\classification.py:1439: UndefinedMetricWarning: Recall is ill-defined and being set to 0.0 due to no true samples.\n",
      "  'recall', 'true', average, warn_for)\n"
     ]
    },
    {
     "name": "stdout",
     "output_type": "stream",
     "text": [
      "Training Random Forest\n",
      "Combination 25 of 31\n",
      "Training Random Forest\n"
     ]
    },
    {
     "name": "stderr",
     "output_type": "stream",
     "text": [
      "C:\\ProgramData\\Anaconda3\\lib\\site-packages\\sklearn\\metrics\\classification.py:1439: UndefinedMetricWarning: F-score is ill-defined and being set to 0.0 due to no true samples.\n",
      "  'recall', 'true', average, warn_for)\n",
      "C:\\ProgramData\\Anaconda3\\lib\\site-packages\\sklearn\\metrics\\ranking.py:528: RuntimeWarning: invalid value encountered in true_divide\n",
      "  recall = tps / tps[-1]\n",
      "C:\\ProgramData\\Anaconda3\\lib\\site-packages\\sklearn\\metrics\\ranking.py:113: RuntimeWarning: invalid value encountered in less\n",
      "  if np.any(dx < 0):\n",
      "C:\\ProgramData\\Anaconda3\\lib\\site-packages\\sklearn\\metrics\\classification.py:1439: UndefinedMetricWarning: Recall is ill-defined and being set to 0.0 due to no true samples.\n",
      "  'recall', 'true', average, warn_for)\n"
     ]
    },
    {
     "name": "stdout",
     "output_type": "stream",
     "text": [
      "Training Random Forest\n",
      "Combination 26 of 31\n",
      "Training Random Forest\n"
     ]
    },
    {
     "name": "stderr",
     "output_type": "stream",
     "text": [
      "C:\\ProgramData\\Anaconda3\\lib\\site-packages\\sklearn\\metrics\\classification.py:1439: UndefinedMetricWarning: F-score is ill-defined and being set to 0.0 due to no true samples.\n",
      "  'recall', 'true', average, warn_for)\n",
      "C:\\ProgramData\\Anaconda3\\lib\\site-packages\\sklearn\\metrics\\ranking.py:528: RuntimeWarning: invalid value encountered in true_divide\n",
      "  recall = tps / tps[-1]\n",
      "C:\\ProgramData\\Anaconda3\\lib\\site-packages\\sklearn\\metrics\\ranking.py:113: RuntimeWarning: invalid value encountered in less\n",
      "  if np.any(dx < 0):\n",
      "C:\\ProgramData\\Anaconda3\\lib\\site-packages\\sklearn\\metrics\\classification.py:1439: UndefinedMetricWarning: Recall is ill-defined and being set to 0.0 due to no true samples.\n",
      "  'recall', 'true', average, warn_for)\n"
     ]
    },
    {
     "name": "stdout",
     "output_type": "stream",
     "text": [
      "Training Random Forest\n",
      "Combination 27 of 31\n",
      "Training Random Forest\n"
     ]
    },
    {
     "name": "stderr",
     "output_type": "stream",
     "text": [
      "C:\\ProgramData\\Anaconda3\\lib\\site-packages\\sklearn\\metrics\\classification.py:1439: UndefinedMetricWarning: F-score is ill-defined and being set to 0.0 due to no true samples.\n",
      "  'recall', 'true', average, warn_for)\n",
      "C:\\ProgramData\\Anaconda3\\lib\\site-packages\\sklearn\\metrics\\ranking.py:528: RuntimeWarning: invalid value encountered in true_divide\n",
      "  recall = tps / tps[-1]\n",
      "C:\\ProgramData\\Anaconda3\\lib\\site-packages\\sklearn\\metrics\\ranking.py:113: RuntimeWarning: invalid value encountered in less\n",
      "  if np.any(dx < 0):\n",
      "C:\\ProgramData\\Anaconda3\\lib\\site-packages\\sklearn\\metrics\\classification.py:1439: UndefinedMetricWarning: Recall is ill-defined and being set to 0.0 due to no true samples.\n",
      "  'recall', 'true', average, warn_for)\n"
     ]
    },
    {
     "name": "stdout",
     "output_type": "stream",
     "text": [
      "Training Random Forest\n",
      "Combination 28 of 31\n",
      "Training Random Forest\n"
     ]
    },
    {
     "name": "stderr",
     "output_type": "stream",
     "text": [
      "C:\\ProgramData\\Anaconda3\\lib\\site-packages\\sklearn\\metrics\\classification.py:1439: UndefinedMetricWarning: F-score is ill-defined and being set to 0.0 due to no true samples.\n",
      "  'recall', 'true', average, warn_for)\n",
      "C:\\ProgramData\\Anaconda3\\lib\\site-packages\\sklearn\\metrics\\ranking.py:528: RuntimeWarning: invalid value encountered in true_divide\n",
      "  recall = tps / tps[-1]\n",
      "C:\\ProgramData\\Anaconda3\\lib\\site-packages\\sklearn\\metrics\\ranking.py:113: RuntimeWarning: invalid value encountered in less\n",
      "  if np.any(dx < 0):\n",
      "C:\\ProgramData\\Anaconda3\\lib\\site-packages\\sklearn\\metrics\\classification.py:1439: UndefinedMetricWarning: Recall is ill-defined and being set to 0.0 due to no true samples.\n",
      "  'recall', 'true', average, warn_for)\n"
     ]
    },
    {
     "name": "stdout",
     "output_type": "stream",
     "text": [
      "Training Random Forest\n",
      "Combination 29 of 31\n",
      "Training Random Forest\n"
     ]
    },
    {
     "name": "stderr",
     "output_type": "stream",
     "text": [
      "C:\\ProgramData\\Anaconda3\\lib\\site-packages\\sklearn\\metrics\\classification.py:1439: UndefinedMetricWarning: F-score is ill-defined and being set to 0.0 due to no true samples.\n",
      "  'recall', 'true', average, warn_for)\n",
      "C:\\ProgramData\\Anaconda3\\lib\\site-packages\\sklearn\\metrics\\ranking.py:528: RuntimeWarning: invalid value encountered in true_divide\n",
      "  recall = tps / tps[-1]\n",
      "C:\\ProgramData\\Anaconda3\\lib\\site-packages\\sklearn\\metrics\\ranking.py:113: RuntimeWarning: invalid value encountered in less\n",
      "  if np.any(dx < 0):\n",
      "C:\\ProgramData\\Anaconda3\\lib\\site-packages\\sklearn\\metrics\\classification.py:1439: UndefinedMetricWarning: Recall is ill-defined and being set to 0.0 due to no true samples.\n",
      "  'recall', 'true', average, warn_for)\n"
     ]
    },
    {
     "name": "stdout",
     "output_type": "stream",
     "text": [
      "Training Random Forest\n",
      "Combination 30 of 31\n",
      "Training Random Forest\n"
     ]
    },
    {
     "name": "stderr",
     "output_type": "stream",
     "text": [
      "C:\\ProgramData\\Anaconda3\\lib\\site-packages\\sklearn\\metrics\\classification.py:1439: UndefinedMetricWarning: F-score is ill-defined and being set to 0.0 due to no true samples.\n",
      "  'recall', 'true', average, warn_for)\n",
      "C:\\ProgramData\\Anaconda3\\lib\\site-packages\\sklearn\\metrics\\ranking.py:528: RuntimeWarning: invalid value encountered in true_divide\n",
      "  recall = tps / tps[-1]\n",
      "C:\\ProgramData\\Anaconda3\\lib\\site-packages\\sklearn\\metrics\\ranking.py:113: RuntimeWarning: invalid value encountered in less\n",
      "  if np.any(dx < 0):\n",
      "C:\\ProgramData\\Anaconda3\\lib\\site-packages\\sklearn\\metrics\\classification.py:1439: UndefinedMetricWarning: Recall is ill-defined and being set to 0.0 due to no true samples.\n",
      "  'recall', 'true', average, warn_for)\n"
     ]
    },
    {
     "name": "stdout",
     "output_type": "stream",
     "text": [
      "Training Random Forest\n",
      "Combination 31 of 31\n",
      "Training Random Forest\n"
     ]
    },
    {
     "name": "stderr",
     "output_type": "stream",
     "text": [
      "C:\\ProgramData\\Anaconda3\\lib\\site-packages\\sklearn\\metrics\\classification.py:1439: UndefinedMetricWarning: F-score is ill-defined and being set to 0.0 due to no true samples.\n",
      "  'recall', 'true', average, warn_for)\n",
      "C:\\ProgramData\\Anaconda3\\lib\\site-packages\\sklearn\\metrics\\ranking.py:528: RuntimeWarning: invalid value encountered in true_divide\n",
      "  recall = tps / tps[-1]\n",
      "C:\\ProgramData\\Anaconda3\\lib\\site-packages\\sklearn\\metrics\\ranking.py:113: RuntimeWarning: invalid value encountered in less\n",
      "  if np.any(dx < 0):\n",
      "C:\\ProgramData\\Anaconda3\\lib\\site-packages\\sklearn\\metrics\\classification.py:1439: UndefinedMetricWarning: Recall is ill-defined and being set to 0.0 due to no true samples.\n",
      "  'recall', 'true', average, warn_for)\n"
     ]
    },
    {
     "name": "stdout",
     "output_type": "stream",
     "text": [
      "Training Random Forest\n",
      "sensor, Bradykinesia\n",
      "Combination 1 of 31\n",
      "Training Random Forest\n",
      "Training Random Forest\n",
      "Combination 2 of 31\n",
      "Training Random Forest\n",
      "Training Random Forest\n",
      "Combination 3 of 31\n",
      "Training Random Forest\n",
      "Training Random Forest\n",
      "Combination 4 of 31\n",
      "Training Random Forest\n",
      "Training Random Forest\n",
      "Combination 5 of 31\n",
      "Training Random Forest\n",
      "Training Random Forest\n",
      "Combination 6 of 31\n",
      "Training Random Forest\n",
      "Training Random Forest\n",
      "Combination 7 of 31\n",
      "Training Random Forest\n",
      "Training Random Forest\n",
      "Combination 8 of 31\n",
      "Training Random Forest\n",
      "Training Random Forest\n",
      "Combination 9 of 31\n",
      "Training Random Forest\n",
      "Training Random Forest\n",
      "Combination 10 of 31\n",
      "Training Random Forest\n",
      "Training Random Forest\n",
      "Combination 11 of 31\n",
      "Training Random Forest\n",
      "Training Random Forest\n",
      "Combination 12 of 31\n",
      "Training Random Forest\n",
      "Training Random Forest\n",
      "Combination 13 of 31\n",
      "Training Random Forest\n",
      "Training Random Forest\n",
      "Combination 14 of 31\n",
      "Training Random Forest\n",
      "Training Random Forest\n",
      "Combination 15 of 31\n",
      "Training Random Forest\n",
      "Training Random Forest\n",
      "Combination 16 of 31\n",
      "Training Random Forest\n",
      "Training Random Forest\n",
      "Combination 17 of 31\n",
      "Training Random Forest\n",
      "Training Random Forest\n",
      "Combination 18 of 31\n",
      "Training Random Forest\n",
      "Training Random Forest\n",
      "Combination 19 of 31\n",
      "Training Random Forest\n",
      "Training Random Forest\n",
      "Combination 20 of 31\n",
      "Training Random Forest\n",
      "Training Random Forest\n",
      "Combination 21 of 31\n",
      "Training Random Forest\n",
      "Training Random Forest\n",
      "Combination 22 of 31\n",
      "Training Random Forest\n",
      "Training Random Forest\n",
      "Combination 23 of 31\n",
      "Training Random Forest\n",
      "Training Random Forest\n",
      "Combination 24 of 31\n",
      "Training Random Forest\n",
      "Training Random Forest\n",
      "Combination 25 of 31\n",
      "Training Random Forest\n",
      "Training Random Forest\n",
      "Combination 26 of 31\n",
      "Training Random Forest\n",
      "Training Random Forest\n",
      "Combination 27 of 31\n",
      "Training Random Forest\n",
      "Training Random Forest\n",
      "Combination 28 of 31\n",
      "Training Random Forest\n",
      "Training Random Forest\n",
      "Combination 29 of 31\n",
      "Training Random Forest\n",
      "Training Random Forest\n",
      "Combination 30 of 31\n",
      "Training Random Forest\n",
      "Training Random Forest\n",
      "Combination 31 of 31\n",
      "Training Random Forest\n",
      "Training Random Forest\n",
      "Elapsed time = 535.583 min\n"
     ]
    }
   ],
   "source": [
    "#skip this cell and open pkl file\n",
    "\n",
    "t1 = time.time()\n",
    "results = {}\n",
    "for featdict, filename in zip([featdict_full, featdict_tri, featdict_mag],['full', 'tri', 'mag']):\n",
    "    \n",
    "    featdictsensors = {}\n",
    "    for featgroup in featdict.keys():\n",
    "        feats = fix_feature_names(featdict[featgroup])\n",
    "        featdictsensors[featgroup] = feats\n",
    "    \n",
    "    lst = featdict.keys()\n",
    "    combs = []\n",
    "    for i in range(len(lst)):\n",
    "        els = [list(x) for x in combinations(lst, i+1)]\n",
    "        combs.extend(els)\n",
    "        \n",
    "    for mode in ['watch','sensor']:\n",
    "\n",
    "        results[mode] = {}\n",
    "\n",
    "        for symptom in ['Tremor','Bradykinesia']:\n",
    "\n",
    "            count = 0\n",
    "            print(mode + ', ' + symptom)\n",
    "\n",
    "            results[mode][symptom] = {}\n",
    "\n",
    "            dataBin = datadict[mode][symptom]['Binary']\n",
    "            dataMulti = datadict[mode][symptom]['Multiclass']\n",
    "\n",
    "            results[mode][symptom]['Binary'] = {}\n",
    "            binary_res_all = pd.DataFrame()\n",
    "            binary_res_groups = {}\n",
    "\n",
    "            results[mode][symptom]['Multiclass'] = {}\n",
    "            multi_res_all = pd.DataFrame()\n",
    "            multi_res_groups = {}\n",
    "\n",
    "            for comb in combs:\n",
    "\n",
    "                count += 1\n",
    "                print('Combination %d of %d'%(count,len(combs)))\n",
    "\n",
    "                feat_cols = []\n",
    "                comb_group = ''\n",
    "\n",
    "                for features_set in comb:\n",
    "\n",
    "                    comb_group += features_set[0]\n",
    "                    if mode == 'sensor' and symptom == 'Bradykinesia':\n",
    "                        feat_cols = feat_cols + featdictsensors[features_set]\n",
    "                    else:\n",
    "                        feat_cols = feat_cols + featdict[features_set]\n",
    "\n",
    "                DataBin = dataBin[info + feat_cols].copy()\n",
    "                DataMulti = dataMulti[info + feat_cols].copy()\n",
    "\n",
    "                DataBin=DataBin[~DataBin[symptom].isnull()] #remove nan rows for current symptom\n",
    "                for s in DataBin.columns.values[5:]:\n",
    "                    DataBin.loc[DataBin[s]>np.finfo(np.float32).max,s] = 100\n",
    "                DataBin=DataBin.reset_index(drop=True) #reset index\n",
    "                DataMulti=DataMulti[~DataMulti[symptom].isnull()] #remove nan rows for current symptom\n",
    "                for s in DataMulti.columns.values[5:]:\n",
    "                    DataMulti.loc[DataMulti[s]>np.finfo(np.float32).max,s] = 100\n",
    "                DataMulti=DataMulti.reset_index(drop=True) #reset index\n",
    "\n",
    "                #Binary\n",
    "\n",
    "                X = DataBin.iloc[:,5:].values\n",
    "                groups = DataBin.Subject.values\n",
    "                fnames = DataBin.iloc[:,5:].columns.values\n",
    "\n",
    "                y = ((DataBin[symptom]>0)).values.astype(int)\n",
    "\n",
    "                model = [RandomForestClassifier(n_estimators=50,random_state=2)]          \n",
    "                model_name = ['Random Forest']\n",
    "                model = list(zip(model,model_name))\n",
    "\n",
    "                res,res_group = LOSOCV(DataBin,X,y,groups,model)\n",
    "                res['Combination'] = comb_group\n",
    "                binary_res_all = pd.concat((binary_res_all,res))\n",
    "                binary_res_groups[comb_group] = res_group\n",
    "\n",
    "                #Multiple Classes\n",
    "\n",
    "                X = DataMulti.iloc[:,5:].values\n",
    "                groups = DataMulti.Subject.values\n",
    "                fnames = DataMulti.iloc[:,5:].columns.values\n",
    "\n",
    "                y = DataMulti[symptom].values.astype(int)\n",
    "\n",
    "                model = [RandomForestClassifier(n_estimators=50,random_state=2)]          \n",
    "                model_name = ['Random Forest']\n",
    "                model = list(zip(model,model_name))\n",
    "\n",
    "                res,res_group = LOSOMultiClass(DataMulti,X,y,groups,model,True)\n",
    "                res['Combination'] = comb_group\n",
    "                multi_res_groups[comb_group] = res_group\n",
    "                R = pd.DataFrame()\n",
    "                R['RMS'] = [np.nanmean(multi_res_groups[comb_group][model_name[0]]['RMS'])]\n",
    "                R['Model'] = ['Random Forest']\n",
    "                R['Combination'] = [comb_group]\n",
    "                multi_res_all = pd.concat([multi_res_all,R])\n",
    "\n",
    "            results[mode][symptom]['Binary']['res_all'] = binary_res_all.reset_index(drop=True)\n",
    "            results[mode][symptom]['Binary']['res_groups'] = binary_res_groups\n",
    "\n",
    "            results[mode][symptom]['Multiclass']['res_all'] = multi_res_all.reset_index(drop=True)\n",
    "            results[mode][symptom]['Multiclass']['res_groups'] = multi_res_groups\n",
    "\n",
    "    f = open('FeaturesAnalysisResults_'+filename+'.pkl','wb')\n",
    "    pickle.dump(results,f)\n",
    "    f.close()\n",
    "\n",
    "    print('Elapsed time = %.3f min'%((time.time()-t1)/60))"
   ]
  },
  {
   "cell_type": "code",
   "execution_count": 295,
   "metadata": {},
   "outputs": [],
   "source": [
    "f = open('FeaturesAnalysisResults_full.pkl','rb')\n",
    "full_results = pickle.load(f)\n",
    "f.close()"
   ]
  },
  {
   "cell_type": "code",
   "execution_count": 296,
   "metadata": {},
   "outputs": [],
   "source": [
    "T = [0.00101043, 0.00232074, 0.0034716,  0.04128475, 0.0010748,  0.0089197,\n",
    " 0.00242512, 0.00134522, 0.01359604, 0.00302631, 0.00071365]\n",
    "TDict = {'t': T[2]+T[7], 'e': T[3]+T[8], 'c': T[4], 'f': T[5]+T[9], 'j': T[6]+T[10]}"
   ]
  },
  {
   "cell_type": "code",
   "execution_count": 297,
   "metadata": {},
   "outputs": [],
   "source": [
    "D = pd.concat([full_results['sensor']['Tremor']['Binary']['res_all'].auroc,\n",
    "           full_results['sensor']['Tremor']['Multiclass']['res_all'].RMS,\n",
    "           full_results['sensor']['Bradykinesia']['Binary']['res_all'].auroc,\n",
    "           full_results['sensor']['Bradykinesia']['Multiclass']['res_all'].RMS],axis=1)\n",
    "D.index = [c for c in full_results['sensor']['Tremor']['Binary']['res_all'].Combination]\n",
    "D['Times'] = [sum([TDict[f] for f in g])+T[0]+T[1] for g in D.index]\n",
    "D.sort_values(by='Times',inplace=True)"
   ]
  },
  {
   "cell_type": "code",
   "execution_count": 298,
   "metadata": {},
   "outputs": [
    {
     "name": "stdout",
     "output_type": "stream",
     "text": [
      "          auroc       RMS     auroc       RMS     Times\n",
      "c      0.683654  0.668824  0.613911  0.594211  0.004406\n",
      "j      0.725163  0.711995  0.641022  0.619481  0.006470\n",
      "cj     0.722486  0.704650  0.652407  0.623601  0.007545\n",
      "t      0.731763  0.698029  0.673269  0.639273  0.008148\n",
      "tc     0.727632  0.698302  0.662234  0.639132  0.009223\n",
      "tj     0.742871  0.718420  0.680417  0.651082  0.011287\n",
      "tcj    0.738967  0.717270  0.670996  0.643608  0.012362\n",
      "f      0.740311  0.725564  0.668794  0.647886  0.015277\n",
      "fc     0.738999  0.733948  0.660488  0.635488  0.016352\n",
      "fj     0.745250  0.741753  0.670677  0.644869  0.018416\n",
      "fcj    0.737267  0.727381  0.663324  0.628261  0.019491\n",
      "ft     0.754462  0.738454  0.672234  0.642015  0.020094\n",
      "ftc    0.746361  0.727819  0.667138  0.645273  0.021169\n",
      "ftj    0.751791  0.738930  0.677283  0.644032  0.023233\n",
      "ftcj   0.760314  0.731717  0.675468  0.643995  0.024308\n",
      "e      0.619769  0.611519  0.590401  0.559498  0.058212\n",
      "ec     0.765896  0.733013  0.648787  0.612550  0.059287\n",
      "ej     0.747767  0.729153  0.666371  0.639521  0.061351\n",
      "ecj    0.752075  0.719770  0.651089  0.632154  0.062426\n",
      "te     0.754935  0.729166  0.682265  0.644030  0.063029\n",
      "tec    0.757897  0.731941  0.669996  0.642368  0.064104\n",
      "tej    0.764438  0.732288  0.683328  0.648655  0.066168\n",
      "tecj   0.756415  0.727185  0.679799  0.648921  0.067242\n",
      "fe     0.768988  0.753445  0.672043  0.649278  0.070158\n",
      "fec    0.766991  0.750714  0.664337  0.637582  0.071233\n",
      "fej    0.758445  0.753671  0.666934  0.642863  0.073297\n",
      "fecj   0.762334  0.745722  0.664440  0.633131  0.074372\n",
      "fte    0.769285  0.751942  0.679779  0.653983  0.074975\n",
      "ftec   0.774000  0.754444  0.674128  0.651365  0.076050\n",
      "ftej   0.767858  0.749311  0.681592  0.655066  0.078114\n",
      "ftecj  0.762251  0.742171  0.678444  0.647430  0.079188\n"
     ]
    }
   ],
   "source": [
    "print(D)"
   ]
  },
  {
   "cell_type": "code",
   "execution_count": 48,
   "metadata": {
    "scrolled": true
   },
   "outputs": [
    {
     "data": {
      "text/plain": [
       "<matplotlib.axes._subplots.AxesSubplot at 0xbaafa58>"
      ]
     },
     "execution_count": 48,
     "metadata": {},
     "output_type": "execute_result"
    },
    {
     "data": {
      "image/png": "[encoded data removed]",
      "text/plain": [
       "<Figure size 720x1080 with 2 Axes>"
      ]
     },
     "metadata": {
      "needs_background": "light"
     },
     "output_type": "display_data"
    }
   ],
   "source": [
    "plt.figure(figsize=(10,15))\n",
    "sns.heatmap(D.drop(columns=['Times']))"
   ]
  },
  {
   "cell_type": "code",
   "execution_count": 299,
   "metadata": {},
   "outputs": [],
   "source": [
    "entropyComps = list(zip(['c', 'j', 'cj', 't', 'tc', 'tj', 'tcj', 'f', 'fc', 'fj', 'fcj', 'ft', 'ftc', 'ftj', 'ftcj'],\n",
    "                        ['ec', 'ej', 'ecj', 'te', 'tec', 'tej', 'tecj', 'fe', 'fec', 'fej', 'fecj', 'fte', 'ftec', 'ftej', 'ftecj']))"
   ]
  },
  {
   "cell_type": "code",
   "execution_count": 300,
   "metadata": {},
   "outputs": [
    {
     "name": "stdout",
     "output_type": "stream",
     "text": [
      "Ttest_relResult(statistic=-4.62696430941652, pvalue=0.0007320178934943556)\n",
      "Ttest_relResult(statistic=-3.9434704871261634, pvalue=0.002298301333388055)\n",
      "Ttest_relResult(statistic=-2.2902271027742693, pvalue=0.042760603310905664)\n",
      "Ttest_relResult(statistic=-2.1740276919467303, pvalue=0.05240798005219412)\n",
      "Ttest_relResult(statistic=-3.8876510620157676, pvalue=0.002529797238457296)\n",
      "Ttest_relResult(statistic=-1.7213743896414817, pvalue=0.11314782499546776)\n",
      "Ttest_relResult(statistic=-2.828307077323619, pvalue=0.016421813121867256)\n",
      "Ttest_relResult(statistic=-2.7414990216291746, pvalue=0.01917997316513399)\n",
      "Ttest_relResult(statistic=-2.666766469195459, pvalue=0.021920227446526344)\n",
      "Ttest_relResult(statistic=-1.7269490467736561, pvalue=0.11211275398723813)\n",
      "Ttest_relResult(statistic=-1.9246166120124744, pvalue=0.08051933907837476)\n",
      "Ttest_relResult(statistic=-1.7684487554746078, pvalue=0.10467134277328417)\n",
      "Ttest_relResult(statistic=-3.1631991009723675, pvalue=0.009027333335571357)\n",
      "Ttest_relResult(statistic=-2.6986157859489066, pvalue=0.020707900729215658)\n",
      "Ttest_relResult(statistic=-0.6038570767793907, pvalue=0.5581862410691365)\n",
      "0.02548554513986761 [0.012286014137471072 0.0029944834233183964 0.00276420743949665\n",
      " 0.003798271161640751 0.00614174824517641 0.005194420457432624\n",
      " 0.010502891049245573 0.006620419642852675 0.0037740828546912303 --\n",
      " 0.006081885048367449 0.004624820107858025 0.020164209666822933]\n"
     ]
    }
   ],
   "source": [
    "diffs = []\n",
    "for pair in entropyComps:\n",
    "    print(PairedT(full_results['sensor']['Tremor']['Binary']['res_groups'][pair[0]]['Random Forest']['auroc'],\n",
    "                  full_results['sensor']['Tremor']['Binary']['res_groups'][pair[1]]['Random Forest']['auroc']))\n",
    "    diffs.append(np.subtract(full_results['sensor']['Tremor']['Binary']['res_groups'][pair[1]]['Random Forest']['auroc'],\n",
    "                            full_results['sensor']['Tremor']['Binary']['res_groups'][pair[0]]['Random Forest']['auroc']))\n",
    "print(np.nanmean(diffs),stats.sem(diffs,nan_policy='omit'))"
   ]
  },
  {
   "cell_type": "code",
   "execution_count": 301,
   "metadata": {},
   "outputs": [
    {
     "data": {
      "text/plain": [
       "[array([ 0.1654476 ,  0.05263388, -0.00647969,  0.00096525,  0.09031058,\n",
       "         0.05775529,  0.12695952,  0.08548014,  0.05389977,         nan,\n",
       "         0.07489474,  0.07684298,  0.20819842]),\n",
       " array([ 0.00687726,  0.02408202,  0.01290933,  0.008958  ,  0.04138351,\n",
       "         0.03667732,  0.06365477,  0.02125688,  0.00754481,         nan,\n",
       "         0.03898011,  0.01890676, -0.0099728 ]),\n",
       " array([0.02805785, 0.02248694, 0.0039644 , 0.00577973, 0.03238543,\n",
       "        0.0131141 , 0.00130426, 0.03532323, 0.00456551,        nan,\n",
       "        0.03472924, 0.00770467, 0.16565212]),\n",
       " array([ 0.01521156,  0.03103396, -0.01411317, -0.00088874,  0.03722308,\n",
       "         0.04386455,  0.09529048,  0.04923008,  0.0100296 ,         nan,\n",
       "         0.04203265,  0.02257719, -0.05342572]),\n",
       " array([ 0.04605238,  0.02063051, -0.01146022, -0.01482602,  0.04383178,\n",
       "         0.06498469,  0.06239635,  0.04221199,  0.00284758,         nan,\n",
       "         0.04548841,  0.01756471,  0.04345292]),\n",
       " array([-0.00617788,  0.02958564, -0.00955561,  0.01464945,  0.01092519,\n",
       "         0.02645675,  0.00882566,  0.01439829, -0.00381538,         nan,\n",
       "         0.01296314,  0.00642406,  0.15412511]),\n",
       " array([ 0.01867933,  0.04050147,  0.00676251,  0.0149143 ,  0.0153359 ,\n",
       "        -0.00503151, -0.00272937,  0.00983308,  0.00094659,         nan,\n",
       "         0.02183087,  0.01521854,  0.07311229]),\n",
       " array([ 0.09599992,  0.02578396, -0.01436344, -0.031353  ,  0.02693241,\n",
       "         0.01943927,  0.02076406,  0.02658942,  0.01434395,         nan,\n",
       "         0.0921541 ,  0.03474136,  0.03309157]),\n",
       " array([ 0.11225085,  0.03431424,  0.00544855, -0.02843959,  0.04585605,\n",
       "         0.02937469,  0.01739297,  0.01748487,  0.01073173,         nan,\n",
       "         0.07021149,  0.02619265, -0.00492164]),\n",
       " array([ 0.0590978 ,  0.01910624, -0.02802611,  0.00014126,  0.01167748,\n",
       "         0.0082013 , -0.00775892, -0.00518166,  0.00150695,         nan,\n",
       "         0.04747377,  0.00106879,  0.05102966]),\n",
       " array([ 0.06140964,  0.01905603,  0.00067074,  0.00892269, -0.00525281,\n",
       "         0.01083744,  0.00038336,  0.01246702, -0.00106156,         nan,\n",
       "         0.02434901,  0.01192162,  0.157104  ]),\n",
       " array([ 0.07141469,  0.03151673,  0.00027531, -0.01874588,  0.026398  ,\n",
       "         0.02031021,  0.00229184, -0.00565154, -0.00167662,         nan,\n",
       "         0.05371   ,  0.02574637, -0.02771662]),\n",
       " array([ 0.09293527,  0.02585348, -0.00548108, -0.01227752,  0.0295647 ,\n",
       "         0.01848067,  0.00957572,  0.03234442,  0.00423621,         nan,\n",
       "         0.05817625,  0.01744506,  0.06080819]),\n",
       " array([ 0.00962622,  0.0342473 , -0.00883731, -0.0004532 ,  0.00109532,\n",
       "         0.01139662,  0.01692627,  0.02139051, -0.0011051 ,         nan,\n",
       "         0.02673921,  0.01352238,  0.06825541]),\n",
       " array([ 0.02354101,  0.00055487,  0.00625194,  0.00559139,  0.00274271,\n",
       "        -0.00151555, -0.00427115, -0.0215845 , -0.01043592,         nan,\n",
       "         0.00867502,  0.00864249,  0.00505116])]"
      ]
     },
     "execution_count": 301,
     "metadata": {},
     "output_type": "execute_result"
    }
   ],
   "source": [
    "diffs"
   ]
  },
  {
   "cell_type": "code",
   "execution_count": 302,
   "metadata": {},
   "outputs": [
    {
     "data": {
      "text/plain": [
       "Ttest_relResult(statistic=-1.7374615372284943, pvalue=0.11018398360521357)"
      ]
     },
     "execution_count": 302,
     "metadata": {},
     "output_type": "execute_result"
    }
   ],
   "source": [
    "PairedT(results['sensor']['Tremor']['Multiclass']['res_groups']['ftej']['Random Forest']['RMS'],\n",
    "        full_results['sensor']['Tremor']['Multiclass']['res_groups']['fec']['Random Forest']['RMS'])"
   ]
  },
  {
   "cell_type": "code",
   "execution_count": 303,
   "metadata": {},
   "outputs": [
    {
     "name": "stdout",
     "output_type": "stream",
     "text": [
      "Index(['c', 'j', 't', 'tj', 'fj', 'ft', 'ftcj', 'ec', 'fe', 'fte', 'ftec'], dtype='object')\n",
      "Index(['c', 'j', 'tj', 'f', 'fc', 'fj', 'fe', 'fej', 'ftec'], dtype='object')\n",
      "Index(['c', 'j', 'cj', 't', 'tj', 'te', 'tej'], dtype='object')\n",
      "Index(['c', 'j', 'cj', 't', 'tj', 'fte', 'ftej'], dtype='object')\n"
     ]
    }
   ],
   "source": [
    "full_dict = {}\n",
    "full_sem = {}\n",
    "TB = D.iloc[:,[0,4]]; diff = TB.iloc[:,0].diff()>=0; diff.iloc[0]=True\n",
    "full_sem['TB'] = np.mean(stats.sem([results['sensor']['Tremor']['Binary']['res_groups'][g]['Random Forest']['auroc'] \n",
    "                                    for g in TB.index],nan_policy='omit'))\n",
    "\n",
    "while not all(diff):\n",
    "    TB = TB[diff]\n",
    "    diff = TB.iloc[:,0].diff()>=0; diff.iloc[0]=True\n",
    "full_dict['TB']=[full_results['sensor']['Tremor']['Binary']['res_groups'][g]['Random Forest']['auroc'] for g in TB.index]\n",
    "print(TB.index)\n",
    "TB.columns = ['AUROC','Computation Time']\n",
    "\n",
    "TM = D.iloc[:,[1,4]]; diff = TM.iloc[:,0].diff()>=0; diff.iloc[0]=True\n",
    "full_sem['TM'] = np.mean(stats.sem([results['sensor']['Tremor']['Multiclass']['res_groups'][g]['Random Forest']['RMS'] \n",
    "                                    for g in TM.index],nan_policy='omit'))\n",
    "\n",
    "while not all(diff):\n",
    "    TM = TM[diff]\n",
    "    diff = TM.iloc[:,0].diff()>=0; diff.iloc[0]=True\n",
    "full_dict['TM']=[full_results['sensor']['Tremor']['Multiclass']['res_groups'][g]['Random Forest']['RMS'] for g in TM.index]\n",
    "print(TM.index)\n",
    "TM.columns = ['AUROC','Computation Time']\n",
    "\n",
    "\n",
    "BB = D.iloc[:,[2,4]]; diff = BB.iloc[:,0].diff()>=0; diff.iloc[0]=True\n",
    "full_sem['BB'] = np.mean(stats.sem([results['sensor']['Bradykinesia']['Binary']['res_groups'][g]['Random Forest']['auroc'] \n",
    "                                    for g in TB.index],nan_policy='omit'))\n",
    "\n",
    "while not all(diff):\n",
    "    BB = BB[diff]\n",
    "    diff = BB.iloc[:,0].diff()>=0; diff.iloc[0]=True\n",
    "full_dict['BB']=[full_results['sensor']['Bradykinesia']['Binary']['res_groups'][g]['Random Forest']['auroc'] for g in BB.index]\n",
    "print(BB.index)\n",
    "BB.columns = ['AUROC','Computation Time']\n",
    "\n",
    "\n",
    "BM = D.iloc[:,[3,4]]; diff = BM.iloc[:,0].diff()>=0; diff.iloc[0]=True\n",
    "full_sem['BM'] = np.mean(stats.sem([results['sensor']['Bradykinesia']['Multiclass']['res_groups'][g]['Random Forest']['RMS'] \n",
    "                                    for g in TM.index],nan_policy='omit'))\n",
    "\n",
    "while not all(diff):\n",
    "    BM = BM[diff]\n",
    "    diff = BM.iloc[:,0].diff()>=0; diff.iloc[0]=True\n",
    "full_dict['BM']=[full_results['sensor']['Bradykinesia']['Multiclass']['res_groups'][g]['Random Forest']['RMS'] for g in BM.index]\n",
    "print(BM.index)\n",
    "BM.columns = ['AUROC','Computation Time']\n"
   ]
  },
  {
   "cell_type": "code",
   "execution_count": 58,
   "metadata": {},
   "outputs": [],
   "source": [
    "groups = full_results['sensor']['Tremor']['Binary']['res_all']['Combination'].values"
   ]
  },
  {
   "cell_type": "code",
   "execution_count": 304,
   "metadata": {},
   "outputs": [
    {
     "data": {
      "text/plain": [
       "(6.620697628075646, 5.7007360570953084e-08)"
      ]
     },
     "execution_count": 304,
     "metadata": {},
     "output_type": "execute_result"
    }
   ],
   "source": [
    "D = pd.DataFrame(data = np.vstack([full_results['sensor']['Tremor']['Binary']['res_groups'][g]['Random Forest']['auroc']\n",
    "                                   for g in TB.index]).transpose(), \n",
    "                 columns = TB.index)\n",
    "D.dropna(inplace=True)\n",
    "rmANOVA(D,list(D.columns))"
   ]
  },
  {
   "cell_type": "code",
   "execution_count": 305,
   "metadata": {
    "scrolled": true
   },
   "outputs": [
    {
     "data": {
      "text/html": [
       "<div>\n",
       "<style scoped>\n",
       "    .dataframe tbody tr th:only-of-type {\n",
       "        vertical-align: middle;\n",
       "    }\n",
       "\n",
       "    .dataframe tbody tr th {\n",
       "        vertical-align: top;\n",
       "    }\n",
       "\n",
       "    .dataframe thead th {\n",
       "        text-align: right;\n",
       "    }\n",
       "</style>\n",
       "<table border=\"1\" class=\"dataframe\">\n",
       "  <thead>\n",
       "    <tr style=\"text-align: right;\">\n",
       "      <th></th>\n",
       "      <th>c</th>\n",
       "      <th>j</th>\n",
       "      <th>t</th>\n",
       "      <th>tj</th>\n",
       "      <th>fj</th>\n",
       "      <th>ft</th>\n",
       "      <th>ftcj</th>\n",
       "      <th>ec</th>\n",
       "      <th>fe</th>\n",
       "      <th>fte</th>\n",
       "      <th>ftec</th>\n",
       "    </tr>\n",
       "  </thead>\n",
       "  <tbody>\n",
       "    <tr>\n",
       "      <th>0</th>\n",
       "      <td>0.549510</td>\n",
       "      <td>0.650979</td>\n",
       "      <td>0.722923</td>\n",
       "      <td>0.707503</td>\n",
       "      <td>0.635209</td>\n",
       "      <td>0.658473</td>\n",
       "      <td>0.670081</td>\n",
       "      <td>0.714958</td>\n",
       "      <td>0.730024</td>\n",
       "      <td>0.729888</td>\n",
       "      <td>0.732200</td>\n",
       "    </tr>\n",
       "    <tr>\n",
       "      <th>1</th>\n",
       "      <td>0.691517</td>\n",
       "      <td>0.678362</td>\n",
       "      <td>0.689193</td>\n",
       "      <td>0.677935</td>\n",
       "      <td>0.704939</td>\n",
       "      <td>0.699958</td>\n",
       "      <td>0.705873</td>\n",
       "      <td>0.744151</td>\n",
       "      <td>0.741549</td>\n",
       "      <td>0.731475</td>\n",
       "      <td>0.725451</td>\n",
       "    </tr>\n",
       "    <tr>\n",
       "      <th>2</th>\n",
       "      <td>0.800624</td>\n",
       "      <td>0.800696</td>\n",
       "      <td>0.829946</td>\n",
       "      <td>0.830685</td>\n",
       "      <td>0.832887</td>\n",
       "      <td>0.827386</td>\n",
       "      <td>0.834674</td>\n",
       "      <td>0.794144</td>\n",
       "      <td>0.806005</td>\n",
       "      <td>0.827661</td>\n",
       "      <td>0.834138</td>\n",
       "    </tr>\n",
       "    <tr>\n",
       "      <th>3</th>\n",
       "      <td>0.791423</td>\n",
       "      <td>0.743955</td>\n",
       "      <td>0.784478</td>\n",
       "      <td>0.756910</td>\n",
       "      <td>0.752919</td>\n",
       "      <td>0.804731</td>\n",
       "      <td>0.778245</td>\n",
       "      <td>0.792389</td>\n",
       "      <td>0.774714</td>\n",
       "      <td>0.785985</td>\n",
       "      <td>0.781382</td>\n",
       "    </tr>\n",
       "    <tr>\n",
       "      <th>4</th>\n",
       "      <td>0.609632</td>\n",
       "      <td>0.654046</td>\n",
       "      <td>0.669948</td>\n",
       "      <td>0.702482</td>\n",
       "      <td>0.697931</td>\n",
       "      <td>0.689864</td>\n",
       "      <td>0.718934</td>\n",
       "      <td>0.699942</td>\n",
       "      <td>0.717737</td>\n",
       "      <td>0.716262</td>\n",
       "      <td>0.712802</td>\n",
       "    </tr>\n",
       "    <tr>\n",
       "      <th>5</th>\n",
       "      <td>0.647901</td>\n",
       "      <td>0.669820</td>\n",
       "      <td>0.653854</td>\n",
       "      <td>0.711169</td>\n",
       "      <td>0.729990</td>\n",
       "      <td>0.706400</td>\n",
       "      <td>0.738124</td>\n",
       "      <td>0.705656</td>\n",
       "      <td>0.736576</td>\n",
       "      <td>0.726710</td>\n",
       "      <td>0.729749</td>\n",
       "    </tr>\n",
       "    <tr>\n",
       "      <th>6</th>\n",
       "      <td>0.809073</td>\n",
       "      <td>0.856493</td>\n",
       "      <td>0.825366</td>\n",
       "      <td>0.924890</td>\n",
       "      <td>0.938766</td>\n",
       "      <td>0.914298</td>\n",
       "      <td>0.932732</td>\n",
       "      <td>0.936033</td>\n",
       "      <td>0.925619</td>\n",
       "      <td>0.916590</td>\n",
       "      <td>0.919998</td>\n",
       "    </tr>\n",
       "    <tr>\n",
       "      <th>7</th>\n",
       "      <td>0.834963</td>\n",
       "      <td>0.899337</td>\n",
       "      <td>0.868105</td>\n",
       "      <td>0.910869</td>\n",
       "      <td>0.921137</td>\n",
       "      <td>0.908226</td>\n",
       "      <td>0.927918</td>\n",
       "      <td>0.920443</td>\n",
       "      <td>0.905053</td>\n",
       "      <td>0.902574</td>\n",
       "      <td>0.916167</td>\n",
       "    </tr>\n",
       "    <tr>\n",
       "      <th>8</th>\n",
       "      <td>0.766263</td>\n",
       "      <td>0.835780</td>\n",
       "      <td>0.758109</td>\n",
       "      <td>0.839804</td>\n",
       "      <td>0.871975</td>\n",
       "      <td>0.856508</td>\n",
       "      <td>0.865916</td>\n",
       "      <td>0.820163</td>\n",
       "      <td>0.865568</td>\n",
       "      <td>0.854831</td>\n",
       "      <td>0.866185</td>\n",
       "    </tr>\n",
       "    <tr>\n",
       "      <th>10</th>\n",
       "      <td>0.312056</td>\n",
       "      <td>0.262175</td>\n",
       "      <td>0.224503</td>\n",
       "      <td>0.264184</td>\n",
       "      <td>0.261350</td>\n",
       "      <td>0.246420</td>\n",
       "      <td>0.261009</td>\n",
       "      <td>0.386951</td>\n",
       "      <td>0.356411</td>\n",
       "      <td>0.300130</td>\n",
       "      <td>0.296130</td>\n",
       "    </tr>\n",
       "    <tr>\n",
       "      <th>11</th>\n",
       "      <td>0.708459</td>\n",
       "      <td>0.782284</td>\n",
       "      <td>0.821297</td>\n",
       "      <td>0.858903</td>\n",
       "      <td>0.839711</td>\n",
       "      <td>0.834274</td>\n",
       "      <td>0.850668</td>\n",
       "      <td>0.785302</td>\n",
       "      <td>0.833146</td>\n",
       "      <td>0.860021</td>\n",
       "      <td>0.849561</td>\n",
       "    </tr>\n",
       "    <tr>\n",
       "      <th>12</th>\n",
       "      <td>0.682425</td>\n",
       "      <td>0.868022</td>\n",
       "      <td>0.933428</td>\n",
       "      <td>0.729115</td>\n",
       "      <td>0.756184</td>\n",
       "      <td>0.907007</td>\n",
       "      <td>0.839593</td>\n",
       "      <td>0.890623</td>\n",
       "      <td>0.835449</td>\n",
       "      <td>0.879290</td>\n",
       "      <td>0.924233</td>\n",
       "    </tr>\n",
       "  </tbody>\n",
       "</table>\n",
       "</div>"
      ],
      "text/plain": [
       "           c         j         t        tj        fj        ft      ftcj  \\\n",
       "0   0.549510  0.650979  0.722923  0.707503  0.635209  0.658473  0.670081   \n",
       "1   0.691517  0.678362  0.689193  0.677935  0.704939  0.699958  0.705873   \n",
       "2   0.800624  0.800696  0.829946  0.830685  0.832887  0.827386  0.834674   \n",
       "3   0.791423  0.743955  0.784478  0.756910  0.752919  0.804731  0.778245   \n",
       "4   0.609632  0.654046  0.669948  0.702482  0.697931  0.689864  0.718934   \n",
       "5   0.647901  0.669820  0.653854  0.711169  0.729990  0.706400  0.738124   \n",
       "6   0.809073  0.856493  0.825366  0.924890  0.938766  0.914298  0.932732   \n",
       "7   0.834963  0.899337  0.868105  0.910869  0.921137  0.908226  0.927918   \n",
       "8   0.766263  0.835780  0.758109  0.839804  0.871975  0.856508  0.865916   \n",
       "10  0.312056  0.262175  0.224503  0.264184  0.261350  0.246420  0.261009   \n",
       "11  0.708459  0.782284  0.821297  0.858903  0.839711  0.834274  0.850668   \n",
       "12  0.682425  0.868022  0.933428  0.729115  0.756184  0.907007  0.839593   \n",
       "\n",
       "          ec        fe       fte      ftec  \n",
       "0   0.714958  0.730024  0.729888  0.732200  \n",
       "1   0.744151  0.741549  0.731475  0.725451  \n",
       "2   0.794144  0.806005  0.827661  0.834138  \n",
       "3   0.792389  0.774714  0.785985  0.781382  \n",
       "4   0.699942  0.717737  0.716262  0.712802  \n",
       "5   0.705656  0.736576  0.726710  0.729749  \n",
       "6   0.936033  0.925619  0.916590  0.919998  \n",
       "7   0.920443  0.905053  0.902574  0.916167  \n",
       "8   0.820163  0.865568  0.854831  0.866185  \n",
       "10  0.386951  0.356411  0.300130  0.296130  \n",
       "11  0.785302  0.833146  0.860021  0.849561  \n",
       "12  0.890623  0.835449  0.879290  0.924233  "
      ]
     },
     "execution_count": 305,
     "metadata": {},
     "output_type": "execute_result"
    }
   ],
   "source": [
    "D"
   ]
  },
  {
   "cell_type": "code",
   "execution_count": 306,
   "metadata": {},
   "outputs": [
    {
     "name": "stdout",
     "output_type": "stream",
     "text": [
      "ftec+j       0.000\t0.005\tReject\n",
      "ftec+c       0.000\t0.006\tReject\n",
      "ftec+t       0.001\t0.006\tReject\n",
      "ftec+ft      0.004\t0.007\tReject\n",
      "ftec+tj      0.018\t0.008\tAccept\n",
      "ftec+fj      0.022\t0.010\tAccept\n",
      "ftec+ftcj    0.040\t0.013\tAccept\n",
      "ftec+fte     0.071\t0.017\tAccept\n",
      "ftec+ec      0.126\t0.025\tAccept\n",
      "ftec+fe      0.155\t0.050\tAccept\n"
     ]
    }
   ],
   "source": [
    "HBCorrections(D,[('ftec','c'),('ftec','j'),('ftec','t'),('ftec','tj'),('ftec','fj'),('ftec','ft'),('ftec','ftcj'),('ftec','ec'),\n",
    "                 ('ftec','fe'),('ftec','fte')])"
   ]
  },
  {
   "cell_type": "code",
   "execution_count": 307,
   "metadata": {},
   "outputs": [
    {
     "data": {
      "text/html": [
       "<div>\n",
       "<style scoped>\n",
       "    .dataframe tbody tr th:only-of-type {\n",
       "        vertical-align: middle;\n",
       "    }\n",
       "\n",
       "    .dataframe tbody tr th {\n",
       "        vertical-align: top;\n",
       "    }\n",
       "\n",
       "    .dataframe thead th {\n",
       "        text-align: right;\n",
       "    }\n",
       "</style>\n",
       "<table border=\"1\" class=\"dataframe\">\n",
       "  <thead>\n",
       "    <tr style=\"text-align: right;\">\n",
       "      <th></th>\n",
       "      <th>AUROC</th>\n",
       "      <th>Computation Time</th>\n",
       "    </tr>\n",
       "  </thead>\n",
       "  <tbody>\n",
       "    <tr>\n",
       "      <th>c</th>\n",
       "      <td>0.683654</td>\n",
       "      <td>0.004406</td>\n",
       "    </tr>\n",
       "    <tr>\n",
       "      <th>j</th>\n",
       "      <td>0.725163</td>\n",
       "      <td>0.006470</td>\n",
       "    </tr>\n",
       "    <tr>\n",
       "      <th>t</th>\n",
       "      <td>0.731763</td>\n",
       "      <td>0.008148</td>\n",
       "    </tr>\n",
       "    <tr>\n",
       "      <th>tj</th>\n",
       "      <td>0.742871</td>\n",
       "      <td>0.011287</td>\n",
       "    </tr>\n",
       "    <tr>\n",
       "      <th>fj</th>\n",
       "      <td>0.745250</td>\n",
       "      <td>0.018416</td>\n",
       "    </tr>\n",
       "    <tr>\n",
       "      <th>ft</th>\n",
       "      <td>0.754462</td>\n",
       "      <td>0.020094</td>\n",
       "    </tr>\n",
       "    <tr>\n",
       "      <th>ftcj</th>\n",
       "      <td>0.760314</td>\n",
       "      <td>0.024308</td>\n",
       "    </tr>\n",
       "    <tr>\n",
       "      <th>ec</th>\n",
       "      <td>0.765896</td>\n",
       "      <td>0.059287</td>\n",
       "    </tr>\n",
       "    <tr>\n",
       "      <th>fe</th>\n",
       "      <td>0.768988</td>\n",
       "      <td>0.070158</td>\n",
       "    </tr>\n",
       "    <tr>\n",
       "      <th>fte</th>\n",
       "      <td>0.769285</td>\n",
       "      <td>0.074975</td>\n",
       "    </tr>\n",
       "    <tr>\n",
       "      <th>ftec</th>\n",
       "      <td>0.774000</td>\n",
       "      <td>0.076050</td>\n",
       "    </tr>\n",
       "  </tbody>\n",
       "</table>\n",
       "</div>"
      ],
      "text/plain": [
       "         AUROC  Computation Time\n",
       "c     0.683654          0.004406\n",
       "j     0.725163          0.006470\n",
       "t     0.731763          0.008148\n",
       "tj    0.742871          0.011287\n",
       "fj    0.745250          0.018416\n",
       "ft    0.754462          0.020094\n",
       "ftcj  0.760314          0.024308\n",
       "ec    0.765896          0.059287\n",
       "fe    0.768988          0.070158\n",
       "fte   0.769285          0.074975\n",
       "ftec  0.774000          0.076050"
      ]
     },
     "execution_count": 307,
     "metadata": {},
     "output_type": "execute_result"
    }
   ],
   "source": [
    "TB"
   ]
  },
  {
   "cell_type": "code",
   "execution_count": 308,
   "metadata": {},
   "outputs": [
    {
     "data": {
      "text/plain": [
       "(8.904424424822869, 7.337839703681372e-09)"
      ]
     },
     "execution_count": 308,
     "metadata": {},
     "output_type": "execute_result"
    }
   ],
   "source": [
    "D = pd.DataFrame(data = np.vstack([full_results['sensor']['Tremor']['Multiclass']['res_groups'][g]['Random Forest']['RMS']\n",
    "                                   for g in TM.index]).transpose(), \n",
    "                 columns = TM.index)\n",
    "D.dropna(inplace=True)\n",
    "rmANOVA(D,list(D.columns))"
   ]
  },
  {
   "cell_type": "code",
   "execution_count": 309,
   "metadata": {},
   "outputs": [
    {
     "data": {
      "text/html": [
       "<div>\n",
       "<style scoped>\n",
       "    .dataframe tbody tr th:only-of-type {\n",
       "        vertical-align: middle;\n",
       "    }\n",
       "\n",
       "    .dataframe tbody tr th {\n",
       "        vertical-align: top;\n",
       "    }\n",
       "\n",
       "    .dataframe thead th {\n",
       "        text-align: right;\n",
       "    }\n",
       "</style>\n",
       "<table border=\"1\" class=\"dataframe\">\n",
       "  <thead>\n",
       "    <tr style=\"text-align: right;\">\n",
       "      <th></th>\n",
       "      <th>c</th>\n",
       "      <th>j</th>\n",
       "      <th>tj</th>\n",
       "      <th>f</th>\n",
       "      <th>fc</th>\n",
       "      <th>fj</th>\n",
       "      <th>fe</th>\n",
       "      <th>fej</th>\n",
       "      <th>ftec</th>\n",
       "    </tr>\n",
       "  </thead>\n",
       "  <tbody>\n",
       "    <tr>\n",
       "      <th>0</th>\n",
       "      <td>0.545462</td>\n",
       "      <td>0.666790</td>\n",
       "      <td>0.697349</td>\n",
       "      <td>0.637393</td>\n",
       "      <td>0.635378</td>\n",
       "      <td>0.665502</td>\n",
       "      <td>0.725986</td>\n",
       "      <td>0.715907</td>\n",
       "      <td>0.713937</td>\n",
       "    </tr>\n",
       "    <tr>\n",
       "      <th>1</th>\n",
       "      <td>0.695895</td>\n",
       "      <td>0.698249</td>\n",
       "      <td>0.666633</td>\n",
       "      <td>0.711829</td>\n",
       "      <td>0.718915</td>\n",
       "      <td>0.702087</td>\n",
       "      <td>0.742939</td>\n",
       "      <td>0.727336</td>\n",
       "      <td>0.721577</td>\n",
       "    </tr>\n",
       "    <tr>\n",
       "      <th>2</th>\n",
       "      <td>0.819522</td>\n",
       "      <td>0.802634</td>\n",
       "      <td>0.828085</td>\n",
       "      <td>0.809996</td>\n",
       "      <td>0.823113</td>\n",
       "      <td>0.834283</td>\n",
       "      <td>0.808720</td>\n",
       "      <td>0.822829</td>\n",
       "      <td>0.826235</td>\n",
       "    </tr>\n",
       "    <tr>\n",
       "      <th>3</th>\n",
       "      <td>0.789174</td>\n",
       "      <td>0.746705</td>\n",
       "      <td>0.761852</td>\n",
       "      <td>0.804811</td>\n",
       "      <td>0.785426</td>\n",
       "      <td>0.751991</td>\n",
       "      <td>0.761286</td>\n",
       "      <td>0.762042</td>\n",
       "      <td>0.774893</td>\n",
       "    </tr>\n",
       "    <tr>\n",
       "      <th>4</th>\n",
       "      <td>0.612363</td>\n",
       "      <td>0.626638</td>\n",
       "      <td>0.693900</td>\n",
       "      <td>0.675335</td>\n",
       "      <td>0.672087</td>\n",
       "      <td>0.679283</td>\n",
       "      <td>0.706841</td>\n",
       "      <td>0.701394</td>\n",
       "      <td>0.708918</td>\n",
       "    </tr>\n",
       "    <tr>\n",
       "      <th>5</th>\n",
       "      <td>0.624633</td>\n",
       "      <td>0.637381</td>\n",
       "      <td>0.679957</td>\n",
       "      <td>0.691352</td>\n",
       "      <td>0.695843</td>\n",
       "      <td>0.707083</td>\n",
       "      <td>0.720016</td>\n",
       "      <td>0.714807</td>\n",
       "      <td>0.706003</td>\n",
       "    </tr>\n",
       "    <tr>\n",
       "      <th>6</th>\n",
       "      <td>0.809174</td>\n",
       "      <td>0.851096</td>\n",
       "      <td>0.923439</td>\n",
       "      <td>0.903064</td>\n",
       "      <td>0.904287</td>\n",
       "      <td>0.930413</td>\n",
       "      <td>0.927379</td>\n",
       "      <td>0.933752</td>\n",
       "      <td>0.919884</td>\n",
       "    </tr>\n",
       "    <tr>\n",
       "      <th>7</th>\n",
       "      <td>0.841304</td>\n",
       "      <td>0.886525</td>\n",
       "      <td>0.882337</td>\n",
       "      <td>0.887184</td>\n",
       "      <td>0.899090</td>\n",
       "      <td>0.916869</td>\n",
       "      <td>0.909937</td>\n",
       "      <td>0.924507</td>\n",
       "      <td>0.904696</td>\n",
       "    </tr>\n",
       "    <tr>\n",
       "      <th>8</th>\n",
       "      <td>0.664922</td>\n",
       "      <td>0.730916</td>\n",
       "      <td>0.708226</td>\n",
       "      <td>0.777658</td>\n",
       "      <td>0.785486</td>\n",
       "      <td>0.786233</td>\n",
       "      <td>0.779283</td>\n",
       "      <td>0.778357</td>\n",
       "      <td>0.761547</td>\n",
       "    </tr>\n",
       "    <tr>\n",
       "      <th>10</th>\n",
       "      <td>0.341641</td>\n",
       "      <td>0.318826</td>\n",
       "      <td>0.307390</td>\n",
       "      <td>0.317174</td>\n",
       "      <td>0.321331</td>\n",
       "      <td>0.333022</td>\n",
       "      <td>0.417671</td>\n",
       "      <td>0.353105</td>\n",
       "      <td>0.352866</td>\n",
       "    </tr>\n",
       "    <tr>\n",
       "      <th>11</th>\n",
       "      <td>0.585454</td>\n",
       "      <td>0.639269</td>\n",
       "      <td>0.667181</td>\n",
       "      <td>0.710017</td>\n",
       "      <td>0.720312</td>\n",
       "      <td>0.732076</td>\n",
       "      <td>0.727999</td>\n",
       "      <td>0.739152</td>\n",
       "      <td>0.728292</td>\n",
       "    </tr>\n",
       "    <tr>\n",
       "      <th>12</th>\n",
       "      <td>0.696341</td>\n",
       "      <td>0.938909</td>\n",
       "      <td>0.804697</td>\n",
       "      <td>0.780956</td>\n",
       "      <td>0.846115</td>\n",
       "      <td>0.862198</td>\n",
       "      <td>0.813285</td>\n",
       "      <td>0.870864</td>\n",
       "      <td>0.934483</td>\n",
       "    </tr>\n",
       "  </tbody>\n",
       "</table>\n",
       "</div>"
      ],
      "text/plain": [
       "           c         j        tj         f        fc        fj        fe  \\\n",
       "0   0.545462  0.666790  0.697349  0.637393  0.635378  0.665502  0.725986   \n",
       "1   0.695895  0.698249  0.666633  0.711829  0.718915  0.702087  0.742939   \n",
       "2   0.819522  0.802634  0.828085  0.809996  0.823113  0.834283  0.808720   \n",
       "3   0.789174  0.746705  0.761852  0.804811  0.785426  0.751991  0.761286   \n",
       "4   0.612363  0.626638  0.693900  0.675335  0.672087  0.679283  0.706841   \n",
       "5   0.624633  0.637381  0.679957  0.691352  0.695843  0.707083  0.720016   \n",
       "6   0.809174  0.851096  0.923439  0.903064  0.904287  0.930413  0.927379   \n",
       "7   0.841304  0.886525  0.882337  0.887184  0.899090  0.916869  0.909937   \n",
       "8   0.664922  0.730916  0.708226  0.777658  0.785486  0.786233  0.779283   \n",
       "10  0.341641  0.318826  0.307390  0.317174  0.321331  0.333022  0.417671   \n",
       "11  0.585454  0.639269  0.667181  0.710017  0.720312  0.732076  0.727999   \n",
       "12  0.696341  0.938909  0.804697  0.780956  0.846115  0.862198  0.813285   \n",
       "\n",
       "         fej      ftec  \n",
       "0   0.715907  0.713937  \n",
       "1   0.727336  0.721577  \n",
       "2   0.822829  0.826235  \n",
       "3   0.762042  0.774893  \n",
       "4   0.701394  0.708918  \n",
       "5   0.714807  0.706003  \n",
       "6   0.933752  0.919884  \n",
       "7   0.924507  0.904696  \n",
       "8   0.778357  0.761547  \n",
       "10  0.353105  0.352866  \n",
       "11  0.739152  0.728292  \n",
       "12  0.870864  0.934483  "
      ]
     },
     "execution_count": 309,
     "metadata": {},
     "output_type": "execute_result"
    }
   ],
   "source": [
    "D"
   ]
  },
  {
   "cell_type": "code",
   "execution_count": 310,
   "metadata": {},
   "outputs": [
    {
     "name": "stdout",
     "output_type": "stream",
     "text": [
      "ftec+j       0.000\t0.006\tReject\n",
      "ftec+c       0.001\t0.007\tReject\n",
      "ftec+tj      0.001\t0.008\tReject\n",
      "ftec+f       0.014\t0.010\tAccept\n",
      "ftec+fc      0.015\t0.013\tAccept\n",
      "ftec+fj      0.037\t0.017\tAccept\n",
      "ftec+fej     0.226\t0.025\tAccept\n",
      "ftec+fe      0.234\t0.050\tAccept\n"
     ]
    }
   ],
   "source": [
    "HBCorrections(D,[('ftec','c'),('ftec','j'),('ftec','tj'),('ftec','f'),('ftec','fc'),('ftec','fj'),('ftec','fe'),\n",
    "                 ('ftec','fej')])"
   ]
  },
  {
   "cell_type": "code",
   "execution_count": 311,
   "metadata": {},
   "outputs": [
    {
     "data": {
      "text/html": [
       "<div>\n",
       "<style scoped>\n",
       "    .dataframe tbody tr th:only-of-type {\n",
       "        vertical-align: middle;\n",
       "    }\n",
       "\n",
       "    .dataframe tbody tr th {\n",
       "        vertical-align: top;\n",
       "    }\n",
       "\n",
       "    .dataframe thead th {\n",
       "        text-align: right;\n",
       "    }\n",
       "</style>\n",
       "<table border=\"1\" class=\"dataframe\">\n",
       "  <thead>\n",
       "    <tr style=\"text-align: right;\">\n",
       "      <th></th>\n",
       "      <th>AUROC</th>\n",
       "      <th>Computation Time</th>\n",
       "    </tr>\n",
       "  </thead>\n",
       "  <tbody>\n",
       "    <tr>\n",
       "      <th>c</th>\n",
       "      <td>0.668824</td>\n",
       "      <td>0.004406</td>\n",
       "    </tr>\n",
       "    <tr>\n",
       "      <th>j</th>\n",
       "      <td>0.711995</td>\n",
       "      <td>0.006470</td>\n",
       "    </tr>\n",
       "    <tr>\n",
       "      <th>tj</th>\n",
       "      <td>0.718420</td>\n",
       "      <td>0.011287</td>\n",
       "    </tr>\n",
       "    <tr>\n",
       "      <th>f</th>\n",
       "      <td>0.725564</td>\n",
       "      <td>0.015277</td>\n",
       "    </tr>\n",
       "    <tr>\n",
       "      <th>fc</th>\n",
       "      <td>0.733948</td>\n",
       "      <td>0.016352</td>\n",
       "    </tr>\n",
       "    <tr>\n",
       "      <th>fj</th>\n",
       "      <td>0.741753</td>\n",
       "      <td>0.018416</td>\n",
       "    </tr>\n",
       "    <tr>\n",
       "      <th>fe</th>\n",
       "      <td>0.753445</td>\n",
       "      <td>0.070158</td>\n",
       "    </tr>\n",
       "    <tr>\n",
       "      <th>fej</th>\n",
       "      <td>0.753671</td>\n",
       "      <td>0.073297</td>\n",
       "    </tr>\n",
       "    <tr>\n",
       "      <th>ftec</th>\n",
       "      <td>0.754444</td>\n",
       "      <td>0.076050</td>\n",
       "    </tr>\n",
       "  </tbody>\n",
       "</table>\n",
       "</div>"
      ],
      "text/plain": [
       "         AUROC  Computation Time\n",
       "c     0.668824          0.004406\n",
       "j     0.711995          0.006470\n",
       "tj    0.718420          0.011287\n",
       "f     0.725564          0.015277\n",
       "fc    0.733948          0.016352\n",
       "fj    0.741753          0.018416\n",
       "fe    0.753445          0.070158\n",
       "fej   0.753671          0.073297\n",
       "ftec  0.754444          0.076050"
      ]
     },
     "execution_count": 311,
     "metadata": {},
     "output_type": "execute_result"
    }
   ],
   "source": [
    "TM"
   ]
  },
  {
   "cell_type": "code",
   "execution_count": 312,
   "metadata": {},
   "outputs": [
    {
     "data": {
      "text/plain": [
       "(7.230594340151145, 4.602295338945629e-06)"
      ]
     },
     "execution_count": 312,
     "metadata": {},
     "output_type": "execute_result"
    }
   ],
   "source": [
    "D = pd.DataFrame(data = np.vstack([full_results['sensor']['Bradykinesia']['Binary']['res_groups'][g]['Random Forest']['auroc']\n",
    "                                   for g in BB.index]).transpose(), \n",
    "                 columns = BB.index)\n",
    "D.dropna(inplace=True)\n",
    "rmANOVA(D,list(D.columns))"
   ]
  },
  {
   "cell_type": "code",
   "execution_count": 313,
   "metadata": {},
   "outputs": [
    {
     "data": {
      "text/html": [
       "<div>\n",
       "<style scoped>\n",
       "    .dataframe tbody tr th:only-of-type {\n",
       "        vertical-align: middle;\n",
       "    }\n",
       "\n",
       "    .dataframe tbody tr th {\n",
       "        vertical-align: top;\n",
       "    }\n",
       "\n",
       "    .dataframe thead th {\n",
       "        text-align: right;\n",
       "    }\n",
       "</style>\n",
       "<table border=\"1\" class=\"dataframe\">\n",
       "  <thead>\n",
       "    <tr style=\"text-align: right;\">\n",
       "      <th></th>\n",
       "      <th>c</th>\n",
       "      <th>j</th>\n",
       "      <th>cj</th>\n",
       "      <th>t</th>\n",
       "      <th>tj</th>\n",
       "      <th>te</th>\n",
       "      <th>tej</th>\n",
       "    </tr>\n",
       "  </thead>\n",
       "  <tbody>\n",
       "    <tr>\n",
       "      <th>0</th>\n",
       "      <td>0.628107</td>\n",
       "      <td>0.592501</td>\n",
       "      <td>0.632736</td>\n",
       "      <td>0.695557</td>\n",
       "      <td>0.713360</td>\n",
       "      <td>0.709143</td>\n",
       "      <td>0.713383</td>\n",
       "    </tr>\n",
       "    <tr>\n",
       "      <th>1</th>\n",
       "      <td>0.765038</td>\n",
       "      <td>0.784867</td>\n",
       "      <td>0.796368</td>\n",
       "      <td>0.811152</td>\n",
       "      <td>0.805991</td>\n",
       "      <td>0.797022</td>\n",
       "      <td>0.778689</td>\n",
       "    </tr>\n",
       "    <tr>\n",
       "      <th>2</th>\n",
       "      <td>0.820013</td>\n",
       "      <td>0.785079</td>\n",
       "      <td>0.775708</td>\n",
       "      <td>0.807346</td>\n",
       "      <td>0.795525</td>\n",
       "      <td>0.818427</td>\n",
       "      <td>0.786376</td>\n",
       "    </tr>\n",
       "    <tr>\n",
       "      <th>3</th>\n",
       "      <td>0.516685</td>\n",
       "      <td>0.659453</td>\n",
       "      <td>0.626915</td>\n",
       "      <td>0.603312</td>\n",
       "      <td>0.605141</td>\n",
       "      <td>0.598137</td>\n",
       "      <td>0.605079</td>\n",
       "    </tr>\n",
       "    <tr>\n",
       "      <th>4</th>\n",
       "      <td>0.743014</td>\n",
       "      <td>0.765937</td>\n",
       "      <td>0.779632</td>\n",
       "      <td>0.789314</td>\n",
       "      <td>0.784439</td>\n",
       "      <td>0.786909</td>\n",
       "      <td>0.804237</td>\n",
       "    </tr>\n",
       "    <tr>\n",
       "      <th>5</th>\n",
       "      <td>0.663648</td>\n",
       "      <td>0.673389</td>\n",
       "      <td>0.677190</td>\n",
       "      <td>0.650107</td>\n",
       "      <td>0.676585</td>\n",
       "      <td>0.655294</td>\n",
       "      <td>0.649920</td>\n",
       "    </tr>\n",
       "    <tr>\n",
       "      <th>6</th>\n",
       "      <td>0.594276</td>\n",
       "      <td>0.662769</td>\n",
       "      <td>0.672376</td>\n",
       "      <td>0.797289</td>\n",
       "      <td>0.781204</td>\n",
       "      <td>0.800539</td>\n",
       "      <td>0.792408</td>\n",
       "    </tr>\n",
       "    <tr>\n",
       "      <th>7</th>\n",
       "      <td>0.529535</td>\n",
       "      <td>0.657422</td>\n",
       "      <td>0.612595</td>\n",
       "      <td>0.659211</td>\n",
       "      <td>0.699556</td>\n",
       "      <td>0.684058</td>\n",
       "      <td>0.663177</td>\n",
       "    </tr>\n",
       "    <tr>\n",
       "      <th>8</th>\n",
       "      <td>0.468030</td>\n",
       "      <td>0.525579</td>\n",
       "      <td>0.553608</td>\n",
       "      <td>0.530203</td>\n",
       "      <td>0.558639</td>\n",
       "      <td>0.517628</td>\n",
       "      <td>0.583148</td>\n",
       "    </tr>\n",
       "    <tr>\n",
       "      <th>9</th>\n",
       "      <td>0.761770</td>\n",
       "      <td>0.652114</td>\n",
       "      <td>0.755114</td>\n",
       "      <td>0.797317</td>\n",
       "      <td>0.776828</td>\n",
       "      <td>0.806723</td>\n",
       "      <td>0.792059</td>\n",
       "    </tr>\n",
       "    <tr>\n",
       "      <th>10</th>\n",
       "      <td>0.407033</td>\n",
       "      <td>0.483068</td>\n",
       "      <td>0.500698</td>\n",
       "      <td>0.409820</td>\n",
       "      <td>0.472214</td>\n",
       "      <td>0.503273</td>\n",
       "      <td>0.536095</td>\n",
       "    </tr>\n",
       "    <tr>\n",
       "      <th>11</th>\n",
       "      <td>0.491641</td>\n",
       "      <td>0.452036</td>\n",
       "      <td>0.463665</td>\n",
       "      <td>0.536104</td>\n",
       "      <td>0.509506</td>\n",
       "      <td>0.528712</td>\n",
       "      <td>0.509228</td>\n",
       "    </tr>\n",
       "    <tr>\n",
       "      <th>12</th>\n",
       "      <td>0.592058</td>\n",
       "      <td>0.639077</td>\n",
       "      <td>0.634690</td>\n",
       "      <td>0.665768</td>\n",
       "      <td>0.666434</td>\n",
       "      <td>0.663582</td>\n",
       "      <td>0.669466</td>\n",
       "    </tr>\n",
       "  </tbody>\n",
       "</table>\n",
       "</div>"
      ],
      "text/plain": [
       "           c         j        cj         t        tj        te       tej\n",
       "0   0.628107  0.592501  0.632736  0.695557  0.713360  0.709143  0.713383\n",
       "1   0.765038  0.784867  0.796368  0.811152  0.805991  0.797022  0.778689\n",
       "2   0.820013  0.785079  0.775708  0.807346  0.795525  0.818427  0.786376\n",
       "3   0.516685  0.659453  0.626915  0.603312  0.605141  0.598137  0.605079\n",
       "4   0.743014  0.765937  0.779632  0.789314  0.784439  0.786909  0.804237\n",
       "5   0.663648  0.673389  0.677190  0.650107  0.676585  0.655294  0.649920\n",
       "6   0.594276  0.662769  0.672376  0.797289  0.781204  0.800539  0.792408\n",
       "7   0.529535  0.657422  0.612595  0.659211  0.699556  0.684058  0.663177\n",
       "8   0.468030  0.525579  0.553608  0.530203  0.558639  0.517628  0.583148\n",
       "9   0.761770  0.652114  0.755114  0.797317  0.776828  0.806723  0.792059\n",
       "10  0.407033  0.483068  0.500698  0.409820  0.472214  0.503273  0.536095\n",
       "11  0.491641  0.452036  0.463665  0.536104  0.509506  0.528712  0.509228\n",
       "12  0.592058  0.639077  0.634690  0.665768  0.666434  0.663582  0.669466"
      ]
     },
     "execution_count": 313,
     "metadata": {},
     "output_type": "execute_result"
    }
   ],
   "source": [
    "D"
   ]
  },
  {
   "cell_type": "code",
   "execution_count": 314,
   "metadata": {},
   "outputs": [
    {
     "name": "stdout",
     "output_type": "stream",
     "text": [
      "tej+c        0.001\t0.008\tReject\n",
      "tej+cj       0.005\t0.010\tReject\n",
      "tej+j        0.006\t0.013\tReject\n",
      "tej+t        0.099\t0.017\tAccept\n",
      "tej+tj       0.174\t0.025\tAccept\n",
      "tej+te       0.222\t0.050\tAccept\n"
     ]
    }
   ],
   "source": [
    "HBCorrections(D,[('tej','c'),('tej','j'),('tej','cj'),('tej','t'),('tej','tj'),('tej','te')])"
   ]
  },
  {
   "cell_type": "code",
   "execution_count": 315,
   "metadata": {
    "scrolled": true
   },
   "outputs": [
    {
     "data": {
      "text/html": [
       "<div>\n",
       "<style scoped>\n",
       "    .dataframe tbody tr th:only-of-type {\n",
       "        vertical-align: middle;\n",
       "    }\n",
       "\n",
       "    .dataframe tbody tr th {\n",
       "        vertical-align: top;\n",
       "    }\n",
       "\n",
       "    .dataframe thead th {\n",
       "        text-align: right;\n",
       "    }\n",
       "</style>\n",
       "<table border=\"1\" class=\"dataframe\">\n",
       "  <thead>\n",
       "    <tr style=\"text-align: right;\">\n",
       "      <th></th>\n",
       "      <th>AUROC</th>\n",
       "      <th>Computation Time</th>\n",
       "    </tr>\n",
       "  </thead>\n",
       "  <tbody>\n",
       "    <tr>\n",
       "      <th>c</th>\n",
       "      <td>0.613911</td>\n",
       "      <td>0.004406</td>\n",
       "    </tr>\n",
       "    <tr>\n",
       "      <th>j</th>\n",
       "      <td>0.641022</td>\n",
       "      <td>0.006470</td>\n",
       "    </tr>\n",
       "    <tr>\n",
       "      <th>cj</th>\n",
       "      <td>0.652407</td>\n",
       "      <td>0.007545</td>\n",
       "    </tr>\n",
       "    <tr>\n",
       "      <th>t</th>\n",
       "      <td>0.673269</td>\n",
       "      <td>0.008148</td>\n",
       "    </tr>\n",
       "    <tr>\n",
       "      <th>tj</th>\n",
       "      <td>0.680417</td>\n",
       "      <td>0.011287</td>\n",
       "    </tr>\n",
       "    <tr>\n",
       "      <th>te</th>\n",
       "      <td>0.682265</td>\n",
       "      <td>0.063029</td>\n",
       "    </tr>\n",
       "    <tr>\n",
       "      <th>tej</th>\n",
       "      <td>0.683328</td>\n",
       "      <td>0.066168</td>\n",
       "    </tr>\n",
       "  </tbody>\n",
       "</table>\n",
       "</div>"
      ],
      "text/plain": [
       "        AUROC  Computation Time\n",
       "c    0.613911          0.004406\n",
       "j    0.641022          0.006470\n",
       "cj   0.652407          0.007545\n",
       "t    0.673269          0.008148\n",
       "tj   0.680417          0.011287\n",
       "te   0.682265          0.063029\n",
       "tej  0.683328          0.066168"
      ]
     },
     "execution_count": 315,
     "metadata": {},
     "output_type": "execute_result"
    }
   ],
   "source": [
    "BB"
   ]
  },
  {
   "cell_type": "code",
   "execution_count": 316,
   "metadata": {},
   "outputs": [
    {
     "data": {
      "text/plain": [
       "(8.11133551066839, 1.046095697020957e-06)"
      ]
     },
     "execution_count": 316,
     "metadata": {},
     "output_type": "execute_result"
    }
   ],
   "source": [
    "D = pd.DataFrame(data = np.vstack([full_results['sensor']['Bradykinesia']['Multiclass']['res_groups'][g]['Random Forest']['RMS']\n",
    "                                   for g in BM.index]).transpose(), \n",
    "                 columns = BM.index)\n",
    "D.dropna(inplace=True)\n",
    "rmANOVA(D,list(D.columns))"
   ]
  },
  {
   "cell_type": "code",
   "execution_count": 317,
   "metadata": {},
   "outputs": [
    {
     "data": {
      "text/html": [
       "<div>\n",
       "<style scoped>\n",
       "    .dataframe tbody tr th:only-of-type {\n",
       "        vertical-align: middle;\n",
       "    }\n",
       "\n",
       "    .dataframe tbody tr th {\n",
       "        vertical-align: top;\n",
       "    }\n",
       "\n",
       "    .dataframe thead th {\n",
       "        text-align: right;\n",
       "    }\n",
       "</style>\n",
       "<table border=\"1\" class=\"dataframe\">\n",
       "  <thead>\n",
       "    <tr style=\"text-align: right;\">\n",
       "      <th></th>\n",
       "      <th>c</th>\n",
       "      <th>j</th>\n",
       "      <th>cj</th>\n",
       "      <th>t</th>\n",
       "      <th>tj</th>\n",
       "      <th>fte</th>\n",
       "      <th>ftej</th>\n",
       "    </tr>\n",
       "  </thead>\n",
       "  <tbody>\n",
       "    <tr>\n",
       "      <th>0</th>\n",
       "      <td>0.602288</td>\n",
       "      <td>0.612140</td>\n",
       "      <td>0.641331</td>\n",
       "      <td>0.706931</td>\n",
       "      <td>0.717644</td>\n",
       "      <td>0.712475</td>\n",
       "      <td>0.715422</td>\n",
       "    </tr>\n",
       "    <tr>\n",
       "      <th>1</th>\n",
       "      <td>0.660367</td>\n",
       "      <td>0.714849</td>\n",
       "      <td>0.689667</td>\n",
       "      <td>0.684760</td>\n",
       "      <td>0.703811</td>\n",
       "      <td>0.679955</td>\n",
       "      <td>0.677402</td>\n",
       "    </tr>\n",
       "    <tr>\n",
       "      <th>2</th>\n",
       "      <td>0.765148</td>\n",
       "      <td>0.754919</td>\n",
       "      <td>0.771792</td>\n",
       "      <td>0.726173</td>\n",
       "      <td>0.740858</td>\n",
       "      <td>0.748960</td>\n",
       "      <td>0.753637</td>\n",
       "    </tr>\n",
       "    <tr>\n",
       "      <th>3</th>\n",
       "      <td>0.529114</td>\n",
       "      <td>0.696553</td>\n",
       "      <td>0.635734</td>\n",
       "      <td>0.626925</td>\n",
       "      <td>0.644234</td>\n",
       "      <td>0.667785</td>\n",
       "      <td>0.650167</td>\n",
       "    </tr>\n",
       "    <tr>\n",
       "      <th>4</th>\n",
       "      <td>0.661536</td>\n",
       "      <td>0.642051</td>\n",
       "      <td>0.672465</td>\n",
       "      <td>0.701581</td>\n",
       "      <td>0.697209</td>\n",
       "      <td>0.695004</td>\n",
       "      <td>0.695714</td>\n",
       "    </tr>\n",
       "    <tr>\n",
       "      <th>5</th>\n",
       "      <td>0.596131</td>\n",
       "      <td>0.617114</td>\n",
       "      <td>0.610683</td>\n",
       "      <td>0.590537</td>\n",
       "      <td>0.621676</td>\n",
       "      <td>0.621632</td>\n",
       "      <td>0.626255</td>\n",
       "    </tr>\n",
       "    <tr>\n",
       "      <th>6</th>\n",
       "      <td>0.651107</td>\n",
       "      <td>0.677942</td>\n",
       "      <td>0.722020</td>\n",
       "      <td>0.759927</td>\n",
       "      <td>0.761825</td>\n",
       "      <td>0.754530</td>\n",
       "      <td>0.771606</td>\n",
       "    </tr>\n",
       "    <tr>\n",
       "      <th>7</th>\n",
       "      <td>0.556304</td>\n",
       "      <td>0.571317</td>\n",
       "      <td>0.555317</td>\n",
       "      <td>0.598932</td>\n",
       "      <td>0.583403</td>\n",
       "      <td>0.610720</td>\n",
       "      <td>0.614499</td>\n",
       "    </tr>\n",
       "    <tr>\n",
       "      <th>8</th>\n",
       "      <td>0.450061</td>\n",
       "      <td>0.520117</td>\n",
       "      <td>0.496813</td>\n",
       "      <td>0.524664</td>\n",
       "      <td>0.545480</td>\n",
       "      <td>0.475491</td>\n",
       "      <td>0.489419</td>\n",
       "    </tr>\n",
       "    <tr>\n",
       "      <th>9</th>\n",
       "      <td>0.748112</td>\n",
       "      <td>0.661819</td>\n",
       "      <td>0.720892</td>\n",
       "      <td>0.769406</td>\n",
       "      <td>0.792350</td>\n",
       "      <td>0.828183</td>\n",
       "      <td>0.799533</td>\n",
       "    </tr>\n",
       "    <tr>\n",
       "      <th>10</th>\n",
       "      <td>0.421979</td>\n",
       "      <td>0.468536</td>\n",
       "      <td>0.475202</td>\n",
       "      <td>0.454686</td>\n",
       "      <td>0.463646</td>\n",
       "      <td>0.519424</td>\n",
       "      <td>0.526164</td>\n",
       "    </tr>\n",
       "    <tr>\n",
       "      <th>11</th>\n",
       "      <td>0.496106</td>\n",
       "      <td>0.487441</td>\n",
       "      <td>0.461727</td>\n",
       "      <td>0.511729</td>\n",
       "      <td>0.527404</td>\n",
       "      <td>0.518737</td>\n",
       "      <td>0.528698</td>\n",
       "    </tr>\n",
       "    <tr>\n",
       "      <th>12</th>\n",
       "      <td>0.586490</td>\n",
       "      <td>0.628454</td>\n",
       "      <td>0.653177</td>\n",
       "      <td>0.654302</td>\n",
       "      <td>0.664532</td>\n",
       "      <td>0.668890</td>\n",
       "      <td>0.667344</td>\n",
       "    </tr>\n",
       "  </tbody>\n",
       "</table>\n",
       "</div>"
      ],
      "text/plain": [
       "           c         j        cj         t        tj       fte      ftej\n",
       "0   0.602288  0.612140  0.641331  0.706931  0.717644  0.712475  0.715422\n",
       "1   0.660367  0.714849  0.689667  0.684760  0.703811  0.679955  0.677402\n",
       "2   0.765148  0.754919  0.771792  0.726173  0.740858  0.748960  0.753637\n",
       "3   0.529114  0.696553  0.635734  0.626925  0.644234  0.667785  0.650167\n",
       "4   0.661536  0.642051  0.672465  0.701581  0.697209  0.695004  0.695714\n",
       "5   0.596131  0.617114  0.610683  0.590537  0.621676  0.621632  0.626255\n",
       "6   0.651107  0.677942  0.722020  0.759927  0.761825  0.754530  0.771606\n",
       "7   0.556304  0.571317  0.555317  0.598932  0.583403  0.610720  0.614499\n",
       "8   0.450061  0.520117  0.496813  0.524664  0.545480  0.475491  0.489419\n",
       "9   0.748112  0.661819  0.720892  0.769406  0.792350  0.828183  0.799533\n",
       "10  0.421979  0.468536  0.475202  0.454686  0.463646  0.519424  0.526164\n",
       "11  0.496106  0.487441  0.461727  0.511729  0.527404  0.518737  0.528698\n",
       "12  0.586490  0.628454  0.653177  0.654302  0.664532  0.668890  0.667344"
      ]
     },
     "execution_count": 317,
     "metadata": {},
     "output_type": "execute_result"
    }
   ],
   "source": [
    "D"
   ]
  },
  {
   "cell_type": "code",
   "execution_count": 318,
   "metadata": {
    "scrolled": true
   },
   "outputs": [
    {
     "name": "stdout",
     "output_type": "stream",
     "text": [
      "ftej+c       0.000\t0.008\tReject\n",
      "ftej+cj      0.001\t0.010\tReject\n",
      "ftej+j       0.010\t0.013\tReject\n",
      "ftej+t       0.011\t0.017\tReject\n",
      "ftej+tj      0.152\t0.025\tAccept\n",
      "ftej+fte     0.189\t0.050\tAccept\n"
     ]
    }
   ],
   "source": [
    "HBCorrections(D,[('ftej','c'),('ftej','j'),('ftej','cj'),('ftej','t'),('ftej','tj'),('ftej','fte')])"
   ]
  },
  {
   "cell_type": "code",
   "execution_count": 319,
   "metadata": {},
   "outputs": [
    {
     "data": {
      "text/html": [
       "<div>\n",
       "<style scoped>\n",
       "    .dataframe tbody tr th:only-of-type {\n",
       "        vertical-align: middle;\n",
       "    }\n",
       "\n",
       "    .dataframe tbody tr th {\n",
       "        vertical-align: top;\n",
       "    }\n",
       "\n",
       "    .dataframe thead th {\n",
       "        text-align: right;\n",
       "    }\n",
       "</style>\n",
       "<table border=\"1\" class=\"dataframe\">\n",
       "  <thead>\n",
       "    <tr style=\"text-align: right;\">\n",
       "      <th></th>\n",
       "      <th>AUROC</th>\n",
       "      <th>Computation Time</th>\n",
       "    </tr>\n",
       "  </thead>\n",
       "  <tbody>\n",
       "    <tr>\n",
       "      <th>c</th>\n",
       "      <td>0.594211</td>\n",
       "      <td>0.004406</td>\n",
       "    </tr>\n",
       "    <tr>\n",
       "      <th>j</th>\n",
       "      <td>0.619481</td>\n",
       "      <td>0.006470</td>\n",
       "    </tr>\n",
       "    <tr>\n",
       "      <th>cj</th>\n",
       "      <td>0.623601</td>\n",
       "      <td>0.007545</td>\n",
       "    </tr>\n",
       "    <tr>\n",
       "      <th>t</th>\n",
       "      <td>0.639273</td>\n",
       "      <td>0.008148</td>\n",
       "    </tr>\n",
       "    <tr>\n",
       "      <th>tj</th>\n",
       "      <td>0.651082</td>\n",
       "      <td>0.011287</td>\n",
       "    </tr>\n",
       "    <tr>\n",
       "      <th>fte</th>\n",
       "      <td>0.653983</td>\n",
       "      <td>0.074975</td>\n",
       "    </tr>\n",
       "    <tr>\n",
       "      <th>ftej</th>\n",
       "      <td>0.655066</td>\n",
       "      <td>0.078114</td>\n",
       "    </tr>\n",
       "  </tbody>\n",
       "</table>\n",
       "</div>"
      ],
      "text/plain": [
       "         AUROC  Computation Time\n",
       "c     0.594211          0.004406\n",
       "j     0.619481          0.006470\n",
       "cj    0.623601          0.007545\n",
       "t     0.639273          0.008148\n",
       "tj    0.651082          0.011287\n",
       "fte   0.653983          0.074975\n",
       "ftej  0.655066          0.078114"
      ]
     },
     "execution_count": 319,
     "metadata": {},
     "output_type": "execute_result"
    }
   ],
   "source": [
    "BM"
   ]
  },
  {
   "cell_type": "code",
   "execution_count": 320,
   "metadata": {},
   "outputs": [],
   "source": [
    "TB_full = TB\n",
    "TM_full = TM\n",
    "BB_full = BB\n",
    "BM_full = BM"
   ]
  },
  {
   "cell_type": "code",
   "execution_count": 321,
   "metadata": {},
   "outputs": [],
   "source": [
    "f = open('FeaturesAnalysisResults_mag.pkl','rb')\n",
    "results = pickle.load(f)\n",
    "f.close()"
   ]
  },
  {
   "cell_type": "code",
   "execution_count": 322,
   "metadata": {},
   "outputs": [
    {
     "data": {
      "text/plain": [
       "Ttest_relResult(statistic=-0.37951460612846327, pvalue=0.7115302879533812)"
      ]
     },
     "execution_count": 322,
     "metadata": {},
     "output_type": "execute_result"
    }
   ],
   "source": [
    "PairedT(results['sensor']['Tremor']['Binary']['res_groups']['ftej']['Random Forest']['auroc'],\n",
    "        full_results['sensor']['Tremor']['Binary']['res_groups']['fte']['Random Forest']['auroc'])"
   ]
  },
  {
   "cell_type": "code",
   "execution_count": 323,
   "metadata": {},
   "outputs": [
    {
     "data": {
      "text/plain": [
       "Ttest_relResult(statistic=-1.7374615372284943, pvalue=0.11018398360521357)"
      ]
     },
     "execution_count": 323,
     "metadata": {},
     "output_type": "execute_result"
    }
   ],
   "source": [
    "PairedT(results['sensor']['Tremor']['Multiclass']['res_groups']['ftej']['Random Forest']['RMS'],\n",
    "        full_results['sensor']['Tremor']['Multiclass']['res_groups']['fec']['Random Forest']['RMS'])"
   ]
  },
  {
   "cell_type": "code",
   "execution_count": 324,
   "metadata": {},
   "outputs": [
    {
     "data": {
      "text/plain": [
       "Ttest_relResult(statistic=-0.5351899182015891, pvalue=0.602295624691539)"
      ]
     },
     "execution_count": 324,
     "metadata": {},
     "output_type": "execute_result"
    }
   ],
   "source": [
    "PairedT(results['sensor']['Bradykinesia']['Binary']['res_groups']['ftj']['Random Forest']['auroc'],\n",
    "        full_results['sensor']['Bradykinesia']['Binary']['res_groups']['fte']['Random Forest']['auroc'])"
   ]
  },
  {
   "cell_type": "code",
   "execution_count": 325,
   "metadata": {},
   "outputs": [
    {
     "data": {
      "text/plain": [
       "Ttest_relResult(statistic=-1.39183457067746, pvalue=0.1892324746880631)"
      ]
     },
     "execution_count": 325,
     "metadata": {},
     "output_type": "execute_result"
    }
   ],
   "source": [
    "PairedT(results['sensor']['Bradykinesia']['Multiclass']['res_groups']['tej']['Random Forest']['RMS'],\n",
    "        full_results['sensor']['Bradykinesia']['Multiclass']['res_groups']['fte']['Random Forest']['RMS'])"
   ]
  },
  {
   "cell_type": "code",
   "execution_count": null,
   "metadata": {},
   "outputs": [],
   "source": []
  },
  {
   "cell_type": "code",
   "execution_count": 286,
   "metadata": {},
   "outputs": [],
   "source": [
    "T = [0.00101043, 0.00232074, 0.0034716,  0.04128475, 0.0010748,  0.0089197,\n",
    " 0.00242512, 0.00134522, 0.01359604, 0.00302631, 0.00071365]\n",
    "TDict = {'t': T[7], 'e': T[8], 'c': T[4], 'f': T[9], 'j': T[10]}"
   ]
  },
  {
   "cell_type": "code",
   "execution_count": 287,
   "metadata": {},
   "outputs": [],
   "source": [
    "D = pd.concat([results['sensor']['Tremor']['Binary']['res_all'].auroc,\n",
    "           results['sensor']['Tremor']['Multiclass']['res_all'].RMS,\n",
    "           results['sensor']['Bradykinesia']['Binary']['res_all'].auroc,\n",
    "           results['sensor']['Bradykinesia']['Multiclass']['res_all'].RMS],axis=1)\n",
    "D.index = [c for c in results['sensor']['Tremor']['Binary']['res_all'].Combination]\n",
    "D['Times'] = [sum([TDict[f] for f in g])+T[0]+T[1] for g in D.index]\n",
    "D.sort_values(by='Times',inplace=True)"
   ]
  },
  {
   "cell_type": "code",
   "execution_count": 289,
   "metadata": {},
   "outputs": [
    {
     "name": "stdout",
     "output_type": "stream",
     "text": [
      "Index(['j', 'cj', 'fj', 'tej', 'fej', 'ftej'], dtype='object')\n",
      "Index(['j', 'cj', 'tj', 'tcj', 'fj', 'ftj', 'ecj', 'tej', 'ftej'], dtype='object')\n",
      "Index(['j', 't', 'tj', 'tej', 'ftej'], dtype='object')\n",
      "Index(['j', 't', 'tj', 'ftj', 'fej'], dtype='object')\n"
     ]
    }
   ],
   "source": [
    "mag_dict = {}\n",
    "mag_sem={}\n",
    "TB = D.iloc[:,[0,4]]; diff = TB.iloc[:,0].diff()>=0; diff.iloc[0]=True\n",
    "mag_sem['TB'] = np.mean(stats.sem([results['sensor']['Tremor']['Binary']['res_groups'][g]['Random Forest']['auroc'] \n",
    "                                   for g in TB.index],nan_policy='omit'))\n",
    "while not all(diff):\n",
    "    TB = TB[diff]\n",
    "    diff = TB.iloc[:,0].diff()>=0; diff.iloc[0]=True\n",
    "mag_dict['TB']=[results['sensor']['Tremor']['Binary']['res_groups'][g]['Random Forest']['auroc'] for g in TB.index]\n",
    "print(TB.index)\n",
    "TB.columns = ['AUROC','Computation Time']\n",
    "\n",
    "TM = D.iloc[:,[1,4]]; diff = TM.iloc[:,0].diff()>=0; diff.iloc[0]=True\n",
    "mag_sem['TM'] = np.mean(stats.sem([results['sensor']['Tremor']['Multiclass']['res_groups'][g]['Random Forest']['RMS'] \n",
    "                                   for g in TM.index],nan_policy='omit'))\n",
    "while not all(diff):\n",
    "    TM = TM[diff]\n",
    "    diff = TM.iloc[:,0].diff()>=0; diff.iloc[0]=True\n",
    "mag_dict['TM']=[results['sensor']['Tremor']['Multiclass']['res_groups'][g]['Random Forest']['RMS'] for g in TM.index]\n",
    "print(TM.index)\n",
    "TM.columns = ['AUROC','Computation Time']\n",
    "\n",
    "BB = D.iloc[:,[2,4]]; diff = BB.iloc[:,0].diff()>=0; diff.iloc[0]=True\n",
    "mag_sem['BB'] = np.mean(stats.sem([results['sensor']['Bradykinesia']['Binary']['res_groups'][g]['Random Forest']['auroc'] \n",
    "                                   for g in BB.index],nan_policy='omit'))\n",
    "while not all(diff):\n",
    "    BB = BB[diff]\n",
    "    diff = BB.iloc[:,0].diff()>=0; diff.iloc[0]=True\n",
    "mag_dict['BB']=[results['sensor']['Bradykinesia']['Binary']['res_groups'][g]['Random Forest']['auroc'] for g in BB.index]\n",
    "print(BB.index)\n",
    "BB.columns = ['AUROC','Computation Time']\n",
    "\n",
    "BM = D.iloc[:,[3,4]]; diff = BM.iloc[:,0].diff()>=0; diff.iloc[0]=True\n",
    "mag_sem['BM'] = np.mean(stats.sem([results['sensor']['Bradykinesia']['Multiclass']['res_groups'][g]['Random Forest']['RMS'] \n",
    "                                   for g in BM.index],nan_policy='omit'))\n",
    "while not all(diff):\n",
    "    BM = BM[diff]\n",
    "    diff = BM.iloc[:,0].diff()>=0; diff.iloc[0]=True\n",
    "mag_dict['BM']=[results['sensor']['Bradykinesia']['Multiclass']['res_groups'][g]['Random Forest']['RMS'] for g in BM.index]\n",
    "print(BM.index)\n",
    "BM.columns = ['AUROC','Computation Time']"
   ]
  },
  {
   "cell_type": "code",
   "execution_count": 290,
   "metadata": {},
   "outputs": [
    {
     "data": {
      "text/html": [
       "<div>\n",
       "<style scoped>\n",
       "    .dataframe tbody tr th:only-of-type {\n",
       "        vertical-align: middle;\n",
       "    }\n",
       "\n",
       "    .dataframe tbody tr th {\n",
       "        vertical-align: top;\n",
       "    }\n",
       "\n",
       "    .dataframe thead th {\n",
       "        text-align: right;\n",
       "    }\n",
       "</style>\n",
       "<table border=\"1\" class=\"dataframe\">\n",
       "  <thead>\n",
       "    <tr style=\"text-align: right;\">\n",
       "      <th></th>\n",
       "      <th>AUROC</th>\n",
       "      <th>Computation Time</th>\n",
       "    </tr>\n",
       "  </thead>\n",
       "  <tbody>\n",
       "    <tr>\n",
       "      <th>j</th>\n",
       "      <td>0.703279</td>\n",
       "      <td>0.004045</td>\n",
       "    </tr>\n",
       "    <tr>\n",
       "      <th>cj</th>\n",
       "      <td>0.721678</td>\n",
       "      <td>0.005120</td>\n",
       "    </tr>\n",
       "    <tr>\n",
       "      <th>fj</th>\n",
       "      <td>0.741254</td>\n",
       "      <td>0.007071</td>\n",
       "    </tr>\n",
       "    <tr>\n",
       "      <th>tej</th>\n",
       "      <td>0.751559</td>\n",
       "      <td>0.018986</td>\n",
       "    </tr>\n",
       "    <tr>\n",
       "      <th>fej</th>\n",
       "      <td>0.754713</td>\n",
       "      <td>0.020667</td>\n",
       "    </tr>\n",
       "    <tr>\n",
       "      <th>ftej</th>\n",
       "      <td>0.761550</td>\n",
       "      <td>0.022012</td>\n",
       "    </tr>\n",
       "  </tbody>\n",
       "</table>\n",
       "</div>"
      ],
      "text/plain": [
       "         AUROC  Computation Time\n",
       "j     0.703279          0.004045\n",
       "cj    0.721678          0.005120\n",
       "fj    0.741254          0.007071\n",
       "tej   0.751559          0.018986\n",
       "fej   0.754713          0.020667\n",
       "ftej  0.761550          0.022012"
      ]
     },
     "execution_count": 290,
     "metadata": {},
     "output_type": "execute_result"
    }
   ],
   "source": [
    "TB"
   ]
  },
  {
   "cell_type": "code",
   "execution_count": 291,
   "metadata": {},
   "outputs": [
    {
     "data": {
      "text/html": [
       "<div>\n",
       "<style scoped>\n",
       "    .dataframe tbody tr th:only-of-type {\n",
       "        vertical-align: middle;\n",
       "    }\n",
       "\n",
       "    .dataframe tbody tr th {\n",
       "        vertical-align: top;\n",
       "    }\n",
       "\n",
       "    .dataframe thead th {\n",
       "        text-align: right;\n",
       "    }\n",
       "</style>\n",
       "<table border=\"1\" class=\"dataframe\">\n",
       "  <thead>\n",
       "    <tr style=\"text-align: right;\">\n",
       "      <th></th>\n",
       "      <th>AUROC</th>\n",
       "      <th>Computation Time</th>\n",
       "    </tr>\n",
       "  </thead>\n",
       "  <tbody>\n",
       "    <tr>\n",
       "      <th>j</th>\n",
       "      <td>0.679635</td>\n",
       "      <td>0.004045</td>\n",
       "    </tr>\n",
       "    <tr>\n",
       "      <th>cj</th>\n",
       "      <td>0.681168</td>\n",
       "      <td>0.005120</td>\n",
       "    </tr>\n",
       "    <tr>\n",
       "      <th>tj</th>\n",
       "      <td>0.687906</td>\n",
       "      <td>0.005390</td>\n",
       "    </tr>\n",
       "    <tr>\n",
       "      <th>tcj</th>\n",
       "      <td>0.689022</td>\n",
       "      <td>0.006465</td>\n",
       "    </tr>\n",
       "    <tr>\n",
       "      <th>fj</th>\n",
       "      <td>0.711512</td>\n",
       "      <td>0.007071</td>\n",
       "    </tr>\n",
       "    <tr>\n",
       "      <th>ftj</th>\n",
       "      <td>0.715245</td>\n",
       "      <td>0.008416</td>\n",
       "    </tr>\n",
       "    <tr>\n",
       "      <th>ecj</th>\n",
       "      <td>0.719322</td>\n",
       "      <td>0.018716</td>\n",
       "    </tr>\n",
       "    <tr>\n",
       "      <th>tej</th>\n",
       "      <td>0.726139</td>\n",
       "      <td>0.018986</td>\n",
       "    </tr>\n",
       "    <tr>\n",
       "      <th>ftej</th>\n",
       "      <td>0.730089</td>\n",
       "      <td>0.022012</td>\n",
       "    </tr>\n",
       "  </tbody>\n",
       "</table>\n",
       "</div>"
      ],
      "text/plain": [
       "         AUROC  Computation Time\n",
       "j     0.679635          0.004045\n",
       "cj    0.681168          0.005120\n",
       "tj    0.687906          0.005390\n",
       "tcj   0.689022          0.006465\n",
       "fj    0.711512          0.007071\n",
       "ftj   0.715245          0.008416\n",
       "ecj   0.719322          0.018716\n",
       "tej   0.726139          0.018986\n",
       "ftej  0.730089          0.022012"
      ]
     },
     "execution_count": 291,
     "metadata": {},
     "output_type": "execute_result"
    }
   ],
   "source": [
    "TM"
   ]
  },
  {
   "cell_type": "code",
   "execution_count": 292,
   "metadata": {},
   "outputs": [
    {
     "data": {
      "text/html": [
       "<div>\n",
       "<style scoped>\n",
       "    .dataframe tbody tr th:only-of-type {\n",
       "        vertical-align: middle;\n",
       "    }\n",
       "\n",
       "    .dataframe tbody tr th {\n",
       "        vertical-align: top;\n",
       "    }\n",
       "\n",
       "    .dataframe thead th {\n",
       "        text-align: right;\n",
       "    }\n",
       "</style>\n",
       "<table border=\"1\" class=\"dataframe\">\n",
       "  <thead>\n",
       "    <tr style=\"text-align: right;\">\n",
       "      <th></th>\n",
       "      <th>AUROC</th>\n",
       "      <th>Computation Time</th>\n",
       "    </tr>\n",
       "  </thead>\n",
       "  <tbody>\n",
       "    <tr>\n",
       "      <th>j</th>\n",
       "      <td>0.627136</td>\n",
       "      <td>0.004045</td>\n",
       "    </tr>\n",
       "    <tr>\n",
       "      <th>t</th>\n",
       "      <td>0.652302</td>\n",
       "      <td>0.004676</td>\n",
       "    </tr>\n",
       "    <tr>\n",
       "      <th>tj</th>\n",
       "      <td>0.672967</td>\n",
       "      <td>0.005390</td>\n",
       "    </tr>\n",
       "    <tr>\n",
       "      <th>tej</th>\n",
       "      <td>0.673016</td>\n",
       "      <td>0.018986</td>\n",
       "    </tr>\n",
       "    <tr>\n",
       "      <th>ftej</th>\n",
       "      <td>0.682536</td>\n",
       "      <td>0.022012</td>\n",
       "    </tr>\n",
       "  </tbody>\n",
       "</table>\n",
       "</div>"
      ],
      "text/plain": [
       "         AUROC  Computation Time\n",
       "j     0.627136          0.004045\n",
       "t     0.652302          0.004676\n",
       "tj    0.672967          0.005390\n",
       "tej   0.673016          0.018986\n",
       "ftej  0.682536          0.022012"
      ]
     },
     "execution_count": 292,
     "metadata": {},
     "output_type": "execute_result"
    }
   ],
   "source": [
    "BB"
   ]
  },
  {
   "cell_type": "code",
   "execution_count": 293,
   "metadata": {
    "scrolled": true
   },
   "outputs": [
    {
     "data": {
      "text/html": [
       "<div>\n",
       "<style scoped>\n",
       "    .dataframe tbody tr th:only-of-type {\n",
       "        vertical-align: middle;\n",
       "    }\n",
       "\n",
       "    .dataframe tbody tr th {\n",
       "        vertical-align: top;\n",
       "    }\n",
       "\n",
       "    .dataframe thead th {\n",
       "        text-align: right;\n",
       "    }\n",
       "</style>\n",
       "<table border=\"1\" class=\"dataframe\">\n",
       "  <thead>\n",
       "    <tr style=\"text-align: right;\">\n",
       "      <th></th>\n",
       "      <th>AUROC</th>\n",
       "      <th>Computation Time</th>\n",
       "    </tr>\n",
       "  </thead>\n",
       "  <tbody>\n",
       "    <tr>\n",
       "      <th>j</th>\n",
       "      <td>0.605426</td>\n",
       "      <td>0.004045</td>\n",
       "    </tr>\n",
       "    <tr>\n",
       "      <th>t</th>\n",
       "      <td>0.612387</td>\n",
       "      <td>0.004676</td>\n",
       "    </tr>\n",
       "    <tr>\n",
       "      <th>tj</th>\n",
       "      <td>0.637557</td>\n",
       "      <td>0.005390</td>\n",
       "    </tr>\n",
       "    <tr>\n",
       "      <th>ftj</th>\n",
       "      <td>0.637796</td>\n",
       "      <td>0.008416</td>\n",
       "    </tr>\n",
       "    <tr>\n",
       "      <th>fej</th>\n",
       "      <td>0.640881</td>\n",
       "      <td>0.020667</td>\n",
       "    </tr>\n",
       "  </tbody>\n",
       "</table>\n",
       "</div>"
      ],
      "text/plain": [
       "        AUROC  Computation Time\n",
       "j    0.605426          0.004045\n",
       "t    0.612387          0.004676\n",
       "tj   0.637557          0.005390\n",
       "ftj  0.637796          0.008416\n",
       "fej  0.640881          0.020667"
      ]
     },
     "execution_count": 293,
     "metadata": {},
     "output_type": "execute_result"
    }
   ],
   "source": [
    "BM"
   ]
  },
  {
   "cell_type": "code",
   "execution_count": null,
   "metadata": {},
   "outputs": [],
   "source": [
    "# ax = sns.tsplot(pd.DataFrame(mag_dict['TB']).transpose().dropna().values,time=TB.index)\n",
    "# sns.tsplot(pd.DataFrame(full_dict['TB']).transpose().dropna().values,time=TB_full.index,color='r')\n",
    "data = TB; data_name = 'TB'\n",
    "ax = data.plot(x='Computation Time',y='AUROC',color='b')\n",
    "sns.lineplot(y=data.AUROC+(1.96*mag_sem[data_name]),x=data['Computation Time'],color='b')\n",
    "sns.lineplot(y=data.AUROC-(1.96*mag_sem[data_name]),x=data['Computation Time'],color='b')\n",
    "data = TB_full\n",
    "data.plot(x='Computation Time',y='AUROC',color='r',ax=ax)\n",
    "sns.lineplot(y=data.AUROC+(1.96*full_sem[data_name]),x=data['Computation Time'],color='r')\n",
    "sns.lineplot(y=data.AUROC-(1.96*full_sem[data_name]),x=data['Computation Time'],color='r')\n",
    "\n",
    "\n",
    "# TB.iloc[:7].plot(color='g');TB.iloc[5:].plot(color='k')\n",
    "# TB_full.iloc[:-2].plot(color='g');TB_full.iloc[-3:].plot(color='k')\n",
    "plt.ylim([.58,.8])\n",
    "plt.xlim([0,.08])\n",
    "ax.set_xlabel('Computation Time')\n",
    "ax.set_ylabel('AUROC')\n",
    "plt.savefig('Images\\\\Features_TremorBinary.svg')"
   ]
  },
  {
   "cell_type": "code",
   "execution_count": 216,
   "metadata": {},
   "outputs": [
    {
     "data": {
      "image/png": "[encoded data removed]",
      "text/plain": [
       "<Figure size 432x288 with 1 Axes>"
      ]
     },
     "metadata": {
      "needs_background": "light"
     },
     "output_type": "display_data"
    }
   ],
   "source": [
    "# ax = sns.tsplot(pd.DataFrame(mag_dict['TB']).transpose().dropna().values,time=TB.index)\n",
    "# sns.tsplot(pd.DataFrame(full_dict['TB']).transpose().dropna().values,time=TB_full.index,color='r')\n",
    "data = TM; data_name = 'TM'\n",
    "ax = data.plot(x='Computation Time',y='AUROC',color='b')\n",
    "sns.lineplot(y=data.AUROC+(1.96*mag_sem[data_name]),x=data['Computation Time'],color='b')\n",
    "sns.lineplot(y=data.AUROC-(1.96*mag_sem[data_name]),x=data['Computation Time'],color='b')\n",
    "data = TM_full\n",
    "data.plot(x='Computation Time',y='AUROC',color='r',ax=ax)\n",
    "sns.lineplot(y=data.AUROC+(1.96*full_sem[data_name]),x=data['Computation Time'],color='r')\n",
    "sns.lineplot(y=data.AUROC-(1.96*full_sem[data_name]),x=data['Computation Time'],color='r')\n",
    "\n",
    "\n",
    "# TB.iloc[:7].plot(color='g');TB.iloc[5:].plot(color='k')\n",
    "# TB_full.iloc[:-2].plot(color='g');TB_full.iloc[-3:].plot(color='k')\n",
    "plt.ylim([.58,.8])\n",
    "plt.xlim([0,.08])\n",
    "ax.set_xlabel('Computation Time')\n",
    "ax.set_ylabel('AUROC')\n",
    "plt.savefig('Images\\\\Features_TremorMulti.svg')"
   ]
  },
  {
   "cell_type": "code",
   "execution_count": 217,
   "metadata": {},
   "outputs": [
    {
     "data": {
      "image/png": "[encoded data removed]",
      "text/plain": [
       "<Figure size 432x288 with 1 Axes>"
      ]
     },
     "metadata": {
      "needs_background": "light"
     },
     "output_type": "display_data"
    }
   ],
   "source": [
    "# ax = sns.tsplot(pd.DataFrame(mag_dict['TB']).transpose().dropna().values,time=TB.index)\n",
    "# sns.tsplot(pd.DataFrame(full_dict['TB']).transpose().dropna().values,time=TB_full.index,color='r')\n",
    "data = BB; data_name = 'BB'\n",
    "ax = data.plot(x='Computation Time',y='AUROC',color='b')\n",
    "sns.lineplot(y=data.AUROC+(1.96*mag_sem[data_name]),x=data['Computation Time'],color='b')\n",
    "sns.lineplot(y=data.AUROC-(1.96*mag_sem[data_name]),x=data['Computation Time'],color='b')\n",
    "data = BB_full\n",
    "data.plot(x='Computation Time',y='AUROC',color='r',ax=ax)\n",
    "sns.lineplot(y=data.AUROC+(1.96*full_sem[data_name]),x=data['Computation Time'],color='r')\n",
    "sns.lineplot(y=data.AUROC-(1.96*full_sem[data_name]),x=data['Computation Time'],color='r')\n",
    "\n",
    "\n",
    "# TB.iloc[:7].plot(color='g');TB.iloc[5:].plot(color='k')\n",
    "# TB_full.iloc[:-2].plot(color='g');TB_full.iloc[-3:].plot(color='k')\n",
    "plt.ylim([.58,.8])\n",
    "plt.xlim([0,.08])\n",
    "ax.set_xlabel('Computation Time')\n",
    "ax.set_ylabel('AUROC')\n",
    "plt.savefig('Images\\\\Features_BradyBinary.svg')"
   ]
  },
  {
   "cell_type": "code",
   "execution_count": 218,
   "metadata": {},
   "outputs": [
    {
     "data": {
      "image/png": "[encoded data removed]",
      "text/plain": [
       "<Figure size 432x288 with 1 Axes>"
      ]
     },
     "metadata": {
      "needs_background": "light"
     },
     "output_type": "display_data"
    }
   ],
   "source": [
    "# ax = sns.tsplot(pd.DataFrame(mag_dict['TB']).transpose().dropna().values,time=TB.index)\n",
    "# sns.tsplot(pd.DataFrame(full_dict['TB']).transpose().dropna().values,time=TB_full.index,color='r')\n",
    "data = BM; data_name = 'BM'\n",
    "ax = data.plot(x='Computation Time',y='AUROC',color='b')\n",
    "sns.lineplot(y=data.AUROC+(1.96*mag_sem[data_name]),x=data['Computation Time'],color='b')\n",
    "sns.lineplot(y=data.AUROC-(1.96*mag_sem[data_name]),x=data['Computation Time'],color='b')\n",
    "data = BM_full\n",
    "data.plot(x='Computation Time',y='AUROC',color='r',ax=ax)\n",
    "sns.lineplot(y=data.AUROC+(1.96*full_sem[data_name]),x=data['Computation Time'],color='r')\n",
    "sns.lineplot(y=data.AUROC-(1.96*full_sem[data_name]),x=data['Computation Time'],color='r')\n",
    "\n",
    "\n",
    "# TB.iloc[:7].plot(color='g');TB.iloc[5:].plot(color='k')\n",
    "# TB_full.iloc[:-2].plot(color='g');TB_full.iloc[-3:].plot(color='k')\n",
    "plt.ylim([.58,.8])\n",
    "plt.xlim([0,.08])\n",
    "ax.set_xlabel('Computation Time')\n",
    "ax.set_ylabel('AUROC')\n",
    "plt.savefig('Images\\\\Features_BradyMulti.svg')"
   ]
  },
  {
   "cell_type": "code",
   "execution_count": 294,
   "metadata": {},
   "outputs": [],
   "source": [
    "def PairedT(A,B):\n",
    "    A = np.array(A); B = np.array(B)\n",
    "    inds = np.isnan(A) | np.isnan(B)\n",
    "    inds = np.array(~inds)\n",
    "    return ttest_rel(A[inds],B[inds])\n",
    "\n",
    "def rmANOVA(df,columns):\n",
    "    grand_mean = np.mean(df[columns].mean())\n",
    "    sub_means = np.mean(df[columns],axis=1)\n",
    "    col_means = np.mean(df[columns],axis=0)\n",
    "    n = len(df)\n",
    "    k = len(columns)\n",
    "    dftotal = n*k - 1\n",
    "    dfbw = k - 1\n",
    "    dfsbj = n - 1\n",
    "    dfw = dftotal - dfbw\n",
    "    dferror = dfw - dfsbj\n",
    "    SSbetween = sum(n*[(m-grand_mean)**2 for m in col_means])\n",
    "    SSwithin = np.nansum(np.nansum([(df[col] - col_means[col])**2 for i,col in enumerate(df[columns])]))\n",
    "    SSsubject = sum(k*[(m - grand_mean)**2 for m in sub_means])\n",
    "    SSerror = SSwithin - SSsubject\n",
    "    SStotal = SSbetween + SSwithin\n",
    "    msbetween = SSbetween/dfbw\n",
    "    mserror = SSerror/dferror\n",
    "    F = msbetween/mserror\n",
    "    return F,stats.f.sf(F,dfbw,dferror)\n",
    "\n",
    "def HBCorrections(df,comps,target=.05):\n",
    "    res = []\n",
    "    for pair in comps:\n",
    "        p = PairedT(df[pair[0]].values, df[pair[1]].values)[1]/2\n",
    "        res.append((p,str(pair[0])+'+'+str(pair[1])))\n",
    "    \n",
    "    res = sorted(res)\n",
    "    dec = 'Reject'\n",
    "    for r,i in zip(res,range(1,len(res)+1)):\n",
    "        thresh = target/(len(res)-i+1)\n",
    "        if r[0]<2*thresh:\n",
    "            dec = 'Reject'\n",
    "        else:\n",
    "            dec = 'Accept'\n",
    "        print('%s%.3f\\t%.3f\\t%s'%(r[1]+' '*(13-len(r[1])),r[0]/2,thresh,dec))"
   ]
  },
  {
   "cell_type": "code",
   "execution_count": null,
   "metadata": {},
   "outputs": [],
   "source": [
    "groups = results['sensor']['Tremor']['Binary']['res_all']['Combination'].values"
   ]
  },
  {
   "cell_type": "code",
   "execution_count": null,
   "metadata": {},
   "outputs": [],
   "source": [
    "D = pd.DataFrame(data = np.vstack([results['sensor']['Tremor']['Binary']['res_groups'][g]['Random Forest']['auroc']\n",
    "                                   for g in TB.index]).transpose(), \n",
    "                 columns = TB.index)\n",
    "D.dropna(inplace=True)\n",
    "rmANOVA(D,list(D.columns))"
   ]
  },
  {
   "cell_type": "code",
   "execution_count": null,
   "metadata": {
    "scrolled": true
   },
   "outputs": [],
   "source": [
    "D"
   ]
  },
  {
   "cell_type": "code",
   "execution_count": null,
   "metadata": {
    "scrolled": true
   },
   "outputs": [],
   "source": [
    "HBCorrections(D,[('ftej','j'),('ftej','cj'),('ftej','tj'),('ftej','fj'),('ftej','te'),('ftej','ecj'),('ftej','tej')])"
   ]
  },
  {
   "cell_type": "code",
   "execution_count": null,
   "metadata": {},
   "outputs": [],
   "source": [
    "TB"
   ]
  },
  {
   "cell_type": "code",
   "execution_count": null,
   "metadata": {},
   "outputs": [],
   "source": [
    "D = pd.DataFrame(data = np.vstack([results['sensor']['Tremor']['Multiclass']['res_groups'][g]['Random Forest']['RMS']\n",
    "                                   for g in TM.index]).transpose(), \n",
    "                 columns = TM.index)\n",
    "D.dropna(inplace=True)\n",
    "rmANOVA(D,list(D.columns))"
   ]
  },
  {
   "cell_type": "code",
   "execution_count": null,
   "metadata": {},
   "outputs": [],
   "source": [
    "D"
   ]
  },
  {
   "cell_type": "code",
   "execution_count": null,
   "metadata": {
    "scrolled": true
   },
   "outputs": [],
   "source": [
    "HBCorrections(D,[('ftej','j'),('ftej','cj'),('ftej','tj'),('ftej','fj'),('ftej','ecj'),('ftej','tej'),('ftej','fej')])"
   ]
  },
  {
   "cell_type": "code",
   "execution_count": null,
   "metadata": {},
   "outputs": [],
   "source": [
    "TM"
   ]
  },
  {
   "cell_type": "code",
   "execution_count": null,
   "metadata": {},
   "outputs": [],
   "source": [
    "D = pd.DataFrame(data = np.vstack([results['sensor']['Bradykinesia']['Binary']['res_groups'][g]['Random Forest']['auroc']\n",
    "                                   for g in BB.index]).transpose(), \n",
    "                 columns = BB.index)\n",
    "D.dropna(inplace=True)\n",
    "rmANOVA(D,list(D.columns))"
   ]
  },
  {
   "cell_type": "code",
   "execution_count": null,
   "metadata": {},
   "outputs": [],
   "source": [
    "D"
   ]
  },
  {
   "cell_type": "code",
   "execution_count": null,
   "metadata": {},
   "outputs": [],
   "source": [
    "HBCorrections(D,[('ftj','j'),('ftj','t'),('ftj','tj')])"
   ]
  },
  {
   "cell_type": "code",
   "execution_count": null,
   "metadata": {},
   "outputs": [],
   "source": [
    "BB"
   ]
  },
  {
   "cell_type": "code",
   "execution_count": null,
   "metadata": {},
   "outputs": [],
   "source": [
    "D = pd.DataFrame(data = np.vstack([results['sensor']['Bradykinesia']['Multiclass']['res_groups'][g]['Random Forest']['RMS']\n",
    "                                   for g in BM.index]).transpose(), \n",
    "                 columns = BM.index)\n",
    "D.dropna(inplace=True)\n",
    "rmANOVA(D,list(D.columns))"
   ]
  },
  {
   "cell_type": "code",
   "execution_count": null,
   "metadata": {},
   "outputs": [],
   "source": [
    "D"
   ]
  },
  {
   "cell_type": "code",
   "execution_count": null,
   "metadata": {
    "scrolled": false
   },
   "outputs": [],
   "source": [
    "HBCorrections(D,[('tej','j'),('tej','t'),('tej','tj'),('tej','fj'),\n",
    "                 ('tej','ftj')])"
   ]
  },
  {
   "cell_type": "code",
   "execution_count": null,
   "metadata": {},
   "outputs": [],
   "source": [
    "BM"
   ]
  }
 ],
 "metadata": {
  "kernelspec": {
   "display_name": "Python 3",
   "language": "python",
   "name": "python3"
  },
  "language_info": {
   "codemirror_mode": {
    "name": "ipython",
    "version": 3
   },
   "file_extension": ".py",
   "mimetype": "text/x-python",
   "name": "python",
   "nbconvert_exporter": "python",
   "pygments_lexer": "ipython3",
   "version": "3.7.3"
  }
 },
 "nbformat": 4,
 "nbformat_minor": 2
}
